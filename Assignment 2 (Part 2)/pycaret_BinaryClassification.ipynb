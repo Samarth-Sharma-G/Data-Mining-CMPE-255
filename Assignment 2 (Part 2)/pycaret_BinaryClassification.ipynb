{
  "nbformat": 4,
  "nbformat_minor": 0,
  "metadata": {
    "colab": {
      "provenance": []
    },
    "kernelspec": {
      "name": "python3",
      "display_name": "Python 3"
    },
    "language_info": {
      "name": "python"
    },
    "widgets": {
      "application/vnd.jupyter.widget-state+json": {
        "6c62a32319df4aef955c637350675746": {
          "model_module": "@jupyter-widgets/controls",
          "model_name": "HBoxModel",
          "model_module_version": "1.5.0",
          "state": {
            "_dom_classes": [],
            "_model_module": "@jupyter-widgets/controls",
            "_model_module_version": "1.5.0",
            "_model_name": "HBoxModel",
            "_view_count": null,
            "_view_module": "@jupyter-widgets/controls",
            "_view_module_version": "1.5.0",
            "_view_name": "HBoxView",
            "box_style": "",
            "children": [
              "IPY_MODEL_2d83c1bb28184d629cd37fd350aa0d95",
              "IPY_MODEL_ab8833b1d86848b1a68348b1616aad8f",
              "IPY_MODEL_84b27cc656784d24a68afd40753bdd01"
            ],
            "layout": "IPY_MODEL_a19f4af1fd7c4d1ba564aa5cc4c1c7d1"
          }
        },
        "2d83c1bb28184d629cd37fd350aa0d95": {
          "model_module": "@jupyter-widgets/controls",
          "model_name": "HTMLModel",
          "model_module_version": "1.5.0",
          "state": {
            "_dom_classes": [],
            "_model_module": "@jupyter-widgets/controls",
            "_model_module_version": "1.5.0",
            "_model_name": "HTMLModel",
            "_view_count": null,
            "_view_module": "@jupyter-widgets/controls",
            "_view_module_version": "1.5.0",
            "_view_name": "HTMLView",
            "description": "",
            "description_tooltip": null,
            "layout": "IPY_MODEL_cd10ffedad1047238c7ce1bc925591fa",
            "placeholder": "​",
            "style": "IPY_MODEL_ade8e2f4f8174ca09ff210c9fb57a2ab",
            "value": "Processing: 100%"
          }
        },
        "ab8833b1d86848b1a68348b1616aad8f": {
          "model_module": "@jupyter-widgets/controls",
          "model_name": "FloatProgressModel",
          "model_module_version": "1.5.0",
          "state": {
            "_dom_classes": [],
            "_model_module": "@jupyter-widgets/controls",
            "_model_module_version": "1.5.0",
            "_model_name": "FloatProgressModel",
            "_view_count": null,
            "_view_module": "@jupyter-widgets/controls",
            "_view_module_version": "1.5.0",
            "_view_name": "ProgressView",
            "bar_style": "",
            "description": "",
            "description_tooltip": null,
            "layout": "IPY_MODEL_fb2132f462cc439b98a2f1eb2eee7acb",
            "max": 65,
            "min": 0,
            "orientation": "horizontal",
            "style": "IPY_MODEL_3b1353cef0ad4fffbc97ec71d4a14b0c",
            "value": 65
          }
        },
        "84b27cc656784d24a68afd40753bdd01": {
          "model_module": "@jupyter-widgets/controls",
          "model_name": "HTMLModel",
          "model_module_version": "1.5.0",
          "state": {
            "_dom_classes": [],
            "_model_module": "@jupyter-widgets/controls",
            "_model_module_version": "1.5.0",
            "_model_name": "HTMLModel",
            "_view_count": null,
            "_view_module": "@jupyter-widgets/controls",
            "_view_module_version": "1.5.0",
            "_view_name": "HTMLView",
            "description": "",
            "description_tooltip": null,
            "layout": "IPY_MODEL_7dd9188f6a9b4ae1a571270ce6575429",
            "placeholder": "​",
            "style": "IPY_MODEL_0c775373f025488ab46dd53f03ab313d",
            "value": " 65/65 [00:46&lt;00:00,  2.07it/s]"
          }
        },
        "a19f4af1fd7c4d1ba564aa5cc4c1c7d1": {
          "model_module": "@jupyter-widgets/base",
          "model_name": "LayoutModel",
          "model_module_version": "1.2.0",
          "state": {
            "_model_module": "@jupyter-widgets/base",
            "_model_module_version": "1.2.0",
            "_model_name": "LayoutModel",
            "_view_count": null,
            "_view_module": "@jupyter-widgets/base",
            "_view_module_version": "1.2.0",
            "_view_name": "LayoutView",
            "align_content": null,
            "align_items": null,
            "align_self": null,
            "border": null,
            "bottom": null,
            "display": null,
            "flex": null,
            "flex_flow": null,
            "grid_area": null,
            "grid_auto_columns": null,
            "grid_auto_flow": null,
            "grid_auto_rows": null,
            "grid_column": null,
            "grid_gap": null,
            "grid_row": null,
            "grid_template_areas": null,
            "grid_template_columns": null,
            "grid_template_rows": null,
            "height": null,
            "justify_content": null,
            "justify_items": null,
            "left": null,
            "margin": null,
            "max_height": null,
            "max_width": null,
            "min_height": null,
            "min_width": null,
            "object_fit": null,
            "object_position": null,
            "order": null,
            "overflow": null,
            "overflow_x": null,
            "overflow_y": null,
            "padding": null,
            "right": null,
            "top": null,
            "visibility": "hidden",
            "width": null
          }
        },
        "cd10ffedad1047238c7ce1bc925591fa": {
          "model_module": "@jupyter-widgets/base",
          "model_name": "LayoutModel",
          "model_module_version": "1.2.0",
          "state": {
            "_model_module": "@jupyter-widgets/base",
            "_model_module_version": "1.2.0",
            "_model_name": "LayoutModel",
            "_view_count": null,
            "_view_module": "@jupyter-widgets/base",
            "_view_module_version": "1.2.0",
            "_view_name": "LayoutView",
            "align_content": null,
            "align_items": null,
            "align_self": null,
            "border": null,
            "bottom": null,
            "display": null,
            "flex": null,
            "flex_flow": null,
            "grid_area": null,
            "grid_auto_columns": null,
            "grid_auto_flow": null,
            "grid_auto_rows": null,
            "grid_column": null,
            "grid_gap": null,
            "grid_row": null,
            "grid_template_areas": null,
            "grid_template_columns": null,
            "grid_template_rows": null,
            "height": null,
            "justify_content": null,
            "justify_items": null,
            "left": null,
            "margin": null,
            "max_height": null,
            "max_width": null,
            "min_height": null,
            "min_width": null,
            "object_fit": null,
            "object_position": null,
            "order": null,
            "overflow": null,
            "overflow_x": null,
            "overflow_y": null,
            "padding": null,
            "right": null,
            "top": null,
            "visibility": null,
            "width": null
          }
        },
        "ade8e2f4f8174ca09ff210c9fb57a2ab": {
          "model_module": "@jupyter-widgets/controls",
          "model_name": "DescriptionStyleModel",
          "model_module_version": "1.5.0",
          "state": {
            "_model_module": "@jupyter-widgets/controls",
            "_model_module_version": "1.5.0",
            "_model_name": "DescriptionStyleModel",
            "_view_count": null,
            "_view_module": "@jupyter-widgets/base",
            "_view_module_version": "1.2.0",
            "_view_name": "StyleView",
            "description_width": ""
          }
        },
        "fb2132f462cc439b98a2f1eb2eee7acb": {
          "model_module": "@jupyter-widgets/base",
          "model_name": "LayoutModel",
          "model_module_version": "1.2.0",
          "state": {
            "_model_module": "@jupyter-widgets/base",
            "_model_module_version": "1.2.0",
            "_model_name": "LayoutModel",
            "_view_count": null,
            "_view_module": "@jupyter-widgets/base",
            "_view_module_version": "1.2.0",
            "_view_name": "LayoutView",
            "align_content": null,
            "align_items": null,
            "align_self": null,
            "border": null,
            "bottom": null,
            "display": null,
            "flex": null,
            "flex_flow": null,
            "grid_area": null,
            "grid_auto_columns": null,
            "grid_auto_flow": null,
            "grid_auto_rows": null,
            "grid_column": null,
            "grid_gap": null,
            "grid_row": null,
            "grid_template_areas": null,
            "grid_template_columns": null,
            "grid_template_rows": null,
            "height": null,
            "justify_content": null,
            "justify_items": null,
            "left": null,
            "margin": null,
            "max_height": null,
            "max_width": null,
            "min_height": null,
            "min_width": null,
            "object_fit": null,
            "object_position": null,
            "order": null,
            "overflow": null,
            "overflow_x": null,
            "overflow_y": null,
            "padding": null,
            "right": null,
            "top": null,
            "visibility": null,
            "width": null
          }
        },
        "3b1353cef0ad4fffbc97ec71d4a14b0c": {
          "model_module": "@jupyter-widgets/controls",
          "model_name": "ProgressStyleModel",
          "model_module_version": "1.5.0",
          "state": {
            "_model_module": "@jupyter-widgets/controls",
            "_model_module_version": "1.5.0",
            "_model_name": "ProgressStyleModel",
            "_view_count": null,
            "_view_module": "@jupyter-widgets/base",
            "_view_module_version": "1.2.0",
            "_view_name": "StyleView",
            "bar_color": null,
            "description_width": ""
          }
        },
        "7dd9188f6a9b4ae1a571270ce6575429": {
          "model_module": "@jupyter-widgets/base",
          "model_name": "LayoutModel",
          "model_module_version": "1.2.0",
          "state": {
            "_model_module": "@jupyter-widgets/base",
            "_model_module_version": "1.2.0",
            "_model_name": "LayoutModel",
            "_view_count": null,
            "_view_module": "@jupyter-widgets/base",
            "_view_module_version": "1.2.0",
            "_view_name": "LayoutView",
            "align_content": null,
            "align_items": null,
            "align_self": null,
            "border": null,
            "bottom": null,
            "display": null,
            "flex": null,
            "flex_flow": null,
            "grid_area": null,
            "grid_auto_columns": null,
            "grid_auto_flow": null,
            "grid_auto_rows": null,
            "grid_column": null,
            "grid_gap": null,
            "grid_row": null,
            "grid_template_areas": null,
            "grid_template_columns": null,
            "grid_template_rows": null,
            "height": null,
            "justify_content": null,
            "justify_items": null,
            "left": null,
            "margin": null,
            "max_height": null,
            "max_width": null,
            "min_height": null,
            "min_width": null,
            "object_fit": null,
            "object_position": null,
            "order": null,
            "overflow": null,
            "overflow_x": null,
            "overflow_y": null,
            "padding": null,
            "right": null,
            "top": null,
            "visibility": null,
            "width": null
          }
        },
        "0c775373f025488ab46dd53f03ab313d": {
          "model_module": "@jupyter-widgets/controls",
          "model_name": "DescriptionStyleModel",
          "model_module_version": "1.5.0",
          "state": {
            "_model_module": "@jupyter-widgets/controls",
            "_model_module_version": "1.5.0",
            "_model_name": "DescriptionStyleModel",
            "_view_count": null,
            "_view_module": "@jupyter-widgets/base",
            "_view_module_version": "1.2.0",
            "_view_name": "StyleView",
            "description_width": ""
          }
        },
        "810e5588ee894fa9ab043fb8adbff9d7": {
          "model_module": "@jupyter-widgets/controls",
          "model_name": "VBoxModel",
          "model_module_version": "1.5.0",
          "state": {
            "_dom_classes": [
              "widget-interact"
            ],
            "_model_module": "@jupyter-widgets/controls",
            "_model_module_version": "1.5.0",
            "_model_name": "VBoxModel",
            "_view_count": null,
            "_view_module": "@jupyter-widgets/controls",
            "_view_module_version": "1.5.0",
            "_view_name": "VBoxView",
            "box_style": "",
            "children": [
              "IPY_MODEL_ca7f21e9ccf54c26af027eb6e6fc79ab",
              "IPY_MODEL_f6070a8d37dc4288980d206aff808246"
            ],
            "layout": "IPY_MODEL_4ccc3a6d86fb4fb98748119ba6b72591"
          }
        },
        "ca7f21e9ccf54c26af027eb6e6fc79ab": {
          "model_module": "@jupyter-widgets/controls",
          "model_name": "ToggleButtonsModel",
          "model_module_version": "1.5.0",
          "state": {
            "_dom_classes": [],
            "_model_module": "@jupyter-widgets/controls",
            "_model_module_version": "1.5.0",
            "_model_name": "ToggleButtonsModel",
            "_options_labels": [
              "Pipeline Plot",
              "Hyperparameters",
              "AUC",
              "Confusion Matrix",
              "Threshold",
              "Precision Recall",
              "Prediction Error",
              "Class Report",
              "Feature Selection",
              "Learning Curve",
              "Manifold Learning",
              "Calibration Curve",
              "Validation Curve",
              "Dimensions",
              "Feature Importance",
              "Feature Importance (All)",
              "Decision Boundary",
              "Lift Chart",
              "Gain Chart",
              "Decision Tree",
              "KS Statistic Plot"
            ],
            "_view_count": null,
            "_view_module": "@jupyter-widgets/controls",
            "_view_module_version": "1.5.0",
            "_view_name": "ToggleButtonsView",
            "button_style": "",
            "description": "Plot Type:",
            "description_tooltip": null,
            "disabled": false,
            "icons": [
              ""
            ],
            "index": 0,
            "layout": "IPY_MODEL_ec96a6fa29f74beebc7a1ca8e88c1e87",
            "style": "IPY_MODEL_b5b1559f2ed347a4b46afac48469583d",
            "tooltips": []
          }
        },
        "f6070a8d37dc4288980d206aff808246": {
          "model_module": "@jupyter-widgets/output",
          "model_name": "OutputModel",
          "model_module_version": "1.0.0",
          "state": {
            "_dom_classes": [],
            "_model_module": "@jupyter-widgets/output",
            "_model_module_version": "1.0.0",
            "_model_name": "OutputModel",
            "_view_count": null,
            "_view_module": "@jupyter-widgets/output",
            "_view_module_version": "1.0.0",
            "_view_name": "OutputView",
            "layout": "IPY_MODEL_e515dd621c274f8f88f2de53a9d8e3fb",
            "msg_id": "",
            "outputs": [
              {
                "output_type": "display_data",
                "data": {
                  "text/plain": "<Figure size 1200x600 with 1 Axes>",
                  "image/png": "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\n"
                },
                "metadata": {}
              }
            ]
          }
        },
        "4ccc3a6d86fb4fb98748119ba6b72591": {
          "model_module": "@jupyter-widgets/base",
          "model_name": "LayoutModel",
          "model_module_version": "1.2.0",
          "state": {
            "_model_module": "@jupyter-widgets/base",
            "_model_module_version": "1.2.0",
            "_model_name": "LayoutModel",
            "_view_count": null,
            "_view_module": "@jupyter-widgets/base",
            "_view_module_version": "1.2.0",
            "_view_name": "LayoutView",
            "align_content": null,
            "align_items": null,
            "align_self": null,
            "border": null,
            "bottom": null,
            "display": null,
            "flex": null,
            "flex_flow": null,
            "grid_area": null,
            "grid_auto_columns": null,
            "grid_auto_flow": null,
            "grid_auto_rows": null,
            "grid_column": null,
            "grid_gap": null,
            "grid_row": null,
            "grid_template_areas": null,
            "grid_template_columns": null,
            "grid_template_rows": null,
            "height": null,
            "justify_content": null,
            "justify_items": null,
            "left": null,
            "margin": null,
            "max_height": null,
            "max_width": null,
            "min_height": null,
            "min_width": null,
            "object_fit": null,
            "object_position": null,
            "order": null,
            "overflow": null,
            "overflow_x": null,
            "overflow_y": null,
            "padding": null,
            "right": null,
            "top": null,
            "visibility": null,
            "width": null
          }
        },
        "ec96a6fa29f74beebc7a1ca8e88c1e87": {
          "model_module": "@jupyter-widgets/base",
          "model_name": "LayoutModel",
          "model_module_version": "1.2.0",
          "state": {
            "_model_module": "@jupyter-widgets/base",
            "_model_module_version": "1.2.0",
            "_model_name": "LayoutModel",
            "_view_count": null,
            "_view_module": "@jupyter-widgets/base",
            "_view_module_version": "1.2.0",
            "_view_name": "LayoutView",
            "align_content": null,
            "align_items": null,
            "align_self": null,
            "border": null,
            "bottom": null,
            "display": null,
            "flex": null,
            "flex_flow": null,
            "grid_area": null,
            "grid_auto_columns": null,
            "grid_auto_flow": null,
            "grid_auto_rows": null,
            "grid_column": null,
            "grid_gap": null,
            "grid_row": null,
            "grid_template_areas": null,
            "grid_template_columns": null,
            "grid_template_rows": null,
            "height": null,
            "justify_content": null,
            "justify_items": null,
            "left": null,
            "margin": null,
            "max_height": null,
            "max_width": null,
            "min_height": null,
            "min_width": null,
            "object_fit": null,
            "object_position": null,
            "order": null,
            "overflow": null,
            "overflow_x": null,
            "overflow_y": null,
            "padding": null,
            "right": null,
            "top": null,
            "visibility": null,
            "width": null
          }
        },
        "b5b1559f2ed347a4b46afac48469583d": {
          "model_module": "@jupyter-widgets/controls",
          "model_name": "ToggleButtonsStyleModel",
          "model_module_version": "1.5.0",
          "state": {
            "_model_module": "@jupyter-widgets/controls",
            "_model_module_version": "1.5.0",
            "_model_name": "ToggleButtonsStyleModel",
            "_view_count": null,
            "_view_module": "@jupyter-widgets/base",
            "_view_module_version": "1.2.0",
            "_view_name": "StyleView",
            "button_width": "",
            "description_width": "",
            "font_weight": ""
          }
        },
        "e515dd621c274f8f88f2de53a9d8e3fb": {
          "model_module": "@jupyter-widgets/base",
          "model_name": "LayoutModel",
          "model_module_version": "1.2.0",
          "state": {
            "_model_module": "@jupyter-widgets/base",
            "_model_module_version": "1.2.0",
            "_model_name": "LayoutModel",
            "_view_count": null,
            "_view_module": "@jupyter-widgets/base",
            "_view_module_version": "1.2.0",
            "_view_name": "LayoutView",
            "align_content": null,
            "align_items": null,
            "align_self": null,
            "border": null,
            "bottom": null,
            "display": null,
            "flex": null,
            "flex_flow": null,
            "grid_area": null,
            "grid_auto_columns": null,
            "grid_auto_flow": null,
            "grid_auto_rows": null,
            "grid_column": null,
            "grid_gap": null,
            "grid_row": null,
            "grid_template_areas": null,
            "grid_template_columns": null,
            "grid_template_rows": null,
            "height": null,
            "justify_content": null,
            "justify_items": null,
            "left": null,
            "margin": null,
            "max_height": null,
            "max_width": null,
            "min_height": null,
            "min_width": null,
            "object_fit": null,
            "object_position": null,
            "order": null,
            "overflow": null,
            "overflow_x": null,
            "overflow_y": null,
            "padding": null,
            "right": null,
            "top": null,
            "visibility": null,
            "width": null
          }
        }
      }
    }
  },
  "cells": [
    {
      "cell_type": "code",
      "execution_count": null,
      "metadata": {
        "id": "3rf5iOcLFed_"
      },
      "outputs": [],
      "source": [
        "pip install pycaret"
      ]
    },
    {
      "cell_type": "code",
      "source": [
        "from google.colab import drive\n",
        "drive.mount('/content/drive')\n",
        "import pandas as p"
      ],
      "metadata": {
        "colab": {
          "base_uri": "https://localhost:8080/"
        },
        "id": "HxQM9BjkdtLD",
        "outputId": "ae81a971-6714-42ca-ee02-8b01040c0a14"
      },
      "execution_count": 3,
      "outputs": [
        {
          "output_type": "stream",
          "name": "stdout",
          "text": [
            "Drive already mounted at /content/drive; to attempt to forcibly remount, call drive.mount(\"/content/drive\", force_remount=True).\n"
          ]
        }
      ]
    },
    {
      "cell_type": "markdown",
      "source": [
        "# **Five Supervised Pycaret Workflow Steps**\n",
        "\n",
        "## **1)Setup**\n",
        "\n",
        "## **2)Compare Models**\n",
        "\n",
        "## **3)Analyze Models**\n",
        "\n",
        "## **4)Prediction**\n",
        "\n",
        "## **5)Save Model**\n",
        "\n"
      ],
      "metadata": {
        "id": "pXO9humlmlSN"
      }
    },
    {
      "cell_type": "markdown",
      "source": [
        "# **Binary Classification**"
      ],
      "metadata": {
        "id": "UxFFoOz7540T"
      }
    },
    {
      "cell_type": "code",
      "source": [
        "df = p.read_csv('/content/drive/MyDrive/Data_Mining_CMPE_255/heart.csv')\n",
        "from pycaret.classification import *"
      ],
      "metadata": {
        "id": "cnKJKJ9cfi22"
      },
      "execution_count": 4,
      "outputs": []
    },
    {
      "cell_type": "markdown",
      "source": [
        "## **Setup**"
      ],
      "metadata": {
        "id": "RYB4hHj6PT2x"
      }
    },
    {
      "cell_type": "code",
      "source": [
        "binary = ClassificationExperiment()\n",
        "b = setup(df, target='output')\n",
        "binary.setup(df, target= 'output')"
      ],
      "metadata": {
        "colab": {
          "base_uri": "https://localhost:8080/",
          "height": 1000
        },
        "id": "uSdyOaYVop0Y",
        "outputId": "bff8dd0b-2cac-4929-d3c7-11187662b576"
      },
      "execution_count": 6,
      "outputs": [
        {
          "output_type": "display_data",
          "data": {
            "text/plain": [
              "<pandas.io.formats.style.Styler at 0x785a101c6890>"
            ],
            "text/html": [
              "<style type=\"text/css\">\n",
              "#T_61c34_row8_col1 {\n",
              "  background-color: lightgreen;\n",
              "}\n",
              "</style>\n",
              "<table id=\"T_61c34\" class=\"dataframe\">\n",
              "  <thead>\n",
              "    <tr>\n",
              "      <th class=\"blank level0\" >&nbsp;</th>\n",
              "      <th id=\"T_61c34_level0_col0\" class=\"col_heading level0 col0\" >Description</th>\n",
              "      <th id=\"T_61c34_level0_col1\" class=\"col_heading level0 col1\" >Value</th>\n",
              "    </tr>\n",
              "  </thead>\n",
              "  <tbody>\n",
              "    <tr>\n",
              "      <th id=\"T_61c34_level0_row0\" class=\"row_heading level0 row0\" >0</th>\n",
              "      <td id=\"T_61c34_row0_col0\" class=\"data row0 col0\" >Session id</td>\n",
              "      <td id=\"T_61c34_row0_col1\" class=\"data row0 col1\" >2100</td>\n",
              "    </tr>\n",
              "    <tr>\n",
              "      <th id=\"T_61c34_level0_row1\" class=\"row_heading level0 row1\" >1</th>\n",
              "      <td id=\"T_61c34_row1_col0\" class=\"data row1 col0\" >Target</td>\n",
              "      <td id=\"T_61c34_row1_col1\" class=\"data row1 col1\" >output</td>\n",
              "    </tr>\n",
              "    <tr>\n",
              "      <th id=\"T_61c34_level0_row2\" class=\"row_heading level0 row2\" >2</th>\n",
              "      <td id=\"T_61c34_row2_col0\" class=\"data row2 col0\" >Target type</td>\n",
              "      <td id=\"T_61c34_row2_col1\" class=\"data row2 col1\" >Binary</td>\n",
              "    </tr>\n",
              "    <tr>\n",
              "      <th id=\"T_61c34_level0_row3\" class=\"row_heading level0 row3\" >3</th>\n",
              "      <td id=\"T_61c34_row3_col0\" class=\"data row3 col0\" >Original data shape</td>\n",
              "      <td id=\"T_61c34_row3_col1\" class=\"data row3 col1\" >(303, 14)</td>\n",
              "    </tr>\n",
              "    <tr>\n",
              "      <th id=\"T_61c34_level0_row4\" class=\"row_heading level0 row4\" >4</th>\n",
              "      <td id=\"T_61c34_row4_col0\" class=\"data row4 col0\" >Transformed data shape</td>\n",
              "      <td id=\"T_61c34_row4_col1\" class=\"data row4 col1\" >(303, 14)</td>\n",
              "    </tr>\n",
              "    <tr>\n",
              "      <th id=\"T_61c34_level0_row5\" class=\"row_heading level0 row5\" >5</th>\n",
              "      <td id=\"T_61c34_row5_col0\" class=\"data row5 col0\" >Transformed train set shape</td>\n",
              "      <td id=\"T_61c34_row5_col1\" class=\"data row5 col1\" >(212, 14)</td>\n",
              "    </tr>\n",
              "    <tr>\n",
              "      <th id=\"T_61c34_level0_row6\" class=\"row_heading level0 row6\" >6</th>\n",
              "      <td id=\"T_61c34_row6_col0\" class=\"data row6 col0\" >Transformed test set shape</td>\n",
              "      <td id=\"T_61c34_row6_col1\" class=\"data row6 col1\" >(91, 14)</td>\n",
              "    </tr>\n",
              "    <tr>\n",
              "      <th id=\"T_61c34_level0_row7\" class=\"row_heading level0 row7\" >7</th>\n",
              "      <td id=\"T_61c34_row7_col0\" class=\"data row7 col0\" >Numeric features</td>\n",
              "      <td id=\"T_61c34_row7_col1\" class=\"data row7 col1\" >13</td>\n",
              "    </tr>\n",
              "    <tr>\n",
              "      <th id=\"T_61c34_level0_row8\" class=\"row_heading level0 row8\" >8</th>\n",
              "      <td id=\"T_61c34_row8_col0\" class=\"data row8 col0\" >Preprocess</td>\n",
              "      <td id=\"T_61c34_row8_col1\" class=\"data row8 col1\" >True</td>\n",
              "    </tr>\n",
              "    <tr>\n",
              "      <th id=\"T_61c34_level0_row9\" class=\"row_heading level0 row9\" >9</th>\n",
              "      <td id=\"T_61c34_row9_col0\" class=\"data row9 col0\" >Imputation type</td>\n",
              "      <td id=\"T_61c34_row9_col1\" class=\"data row9 col1\" >simple</td>\n",
              "    </tr>\n",
              "    <tr>\n",
              "      <th id=\"T_61c34_level0_row10\" class=\"row_heading level0 row10\" >10</th>\n",
              "      <td id=\"T_61c34_row10_col0\" class=\"data row10 col0\" >Numeric imputation</td>\n",
              "      <td id=\"T_61c34_row10_col1\" class=\"data row10 col1\" >mean</td>\n",
              "    </tr>\n",
              "    <tr>\n",
              "      <th id=\"T_61c34_level0_row11\" class=\"row_heading level0 row11\" >11</th>\n",
              "      <td id=\"T_61c34_row11_col0\" class=\"data row11 col0\" >Categorical imputation</td>\n",
              "      <td id=\"T_61c34_row11_col1\" class=\"data row11 col1\" >mode</td>\n",
              "    </tr>\n",
              "    <tr>\n",
              "      <th id=\"T_61c34_level0_row12\" class=\"row_heading level0 row12\" >12</th>\n",
              "      <td id=\"T_61c34_row12_col0\" class=\"data row12 col0\" >Fold Generator</td>\n",
              "      <td id=\"T_61c34_row12_col1\" class=\"data row12 col1\" >StratifiedKFold</td>\n",
              "    </tr>\n",
              "    <tr>\n",
              "      <th id=\"T_61c34_level0_row13\" class=\"row_heading level0 row13\" >13</th>\n",
              "      <td id=\"T_61c34_row13_col0\" class=\"data row13 col0\" >Fold Number</td>\n",
              "      <td id=\"T_61c34_row13_col1\" class=\"data row13 col1\" >10</td>\n",
              "    </tr>\n",
              "    <tr>\n",
              "      <th id=\"T_61c34_level0_row14\" class=\"row_heading level0 row14\" >14</th>\n",
              "      <td id=\"T_61c34_row14_col0\" class=\"data row14 col0\" >CPU Jobs</td>\n",
              "      <td id=\"T_61c34_row14_col1\" class=\"data row14 col1\" >-1</td>\n",
              "    </tr>\n",
              "    <tr>\n",
              "      <th id=\"T_61c34_level0_row15\" class=\"row_heading level0 row15\" >15</th>\n",
              "      <td id=\"T_61c34_row15_col0\" class=\"data row15 col0\" >Use GPU</td>\n",
              "      <td id=\"T_61c34_row15_col1\" class=\"data row15 col1\" >False</td>\n",
              "    </tr>\n",
              "    <tr>\n",
              "      <th id=\"T_61c34_level0_row16\" class=\"row_heading level0 row16\" >16</th>\n",
              "      <td id=\"T_61c34_row16_col0\" class=\"data row16 col0\" >Log Experiment</td>\n",
              "      <td id=\"T_61c34_row16_col1\" class=\"data row16 col1\" >False</td>\n",
              "    </tr>\n",
              "    <tr>\n",
              "      <th id=\"T_61c34_level0_row17\" class=\"row_heading level0 row17\" >17</th>\n",
              "      <td id=\"T_61c34_row17_col0\" class=\"data row17 col0\" >Experiment Name</td>\n",
              "      <td id=\"T_61c34_row17_col1\" class=\"data row17 col1\" >clf-default-name</td>\n",
              "    </tr>\n",
              "    <tr>\n",
              "      <th id=\"T_61c34_level0_row18\" class=\"row_heading level0 row18\" >18</th>\n",
              "      <td id=\"T_61c34_row18_col0\" class=\"data row18 col0\" >USI</td>\n",
              "      <td id=\"T_61c34_row18_col1\" class=\"data row18 col1\" >e60f</td>\n",
              "    </tr>\n",
              "  </tbody>\n",
              "</table>\n"
            ]
          },
          "metadata": {}
        },
        {
          "output_type": "display_data",
          "data": {
            "text/plain": [
              "<pandas.io.formats.style.Styler at 0x7859f8bf55d0>"
            ],
            "text/html": [
              "<style type=\"text/css\">\n",
              "#T_a2fd9_row8_col1 {\n",
              "  background-color: lightgreen;\n",
              "}\n",
              "</style>\n",
              "<table id=\"T_a2fd9\" class=\"dataframe\">\n",
              "  <thead>\n",
              "    <tr>\n",
              "      <th class=\"blank level0\" >&nbsp;</th>\n",
              "      <th id=\"T_a2fd9_level0_col0\" class=\"col_heading level0 col0\" >Description</th>\n",
              "      <th id=\"T_a2fd9_level0_col1\" class=\"col_heading level0 col1\" >Value</th>\n",
              "    </tr>\n",
              "  </thead>\n",
              "  <tbody>\n",
              "    <tr>\n",
              "      <th id=\"T_a2fd9_level0_row0\" class=\"row_heading level0 row0\" >0</th>\n",
              "      <td id=\"T_a2fd9_row0_col0\" class=\"data row0 col0\" >Session id</td>\n",
              "      <td id=\"T_a2fd9_row0_col1\" class=\"data row0 col1\" >1924</td>\n",
              "    </tr>\n",
              "    <tr>\n",
              "      <th id=\"T_a2fd9_level0_row1\" class=\"row_heading level0 row1\" >1</th>\n",
              "      <td id=\"T_a2fd9_row1_col0\" class=\"data row1 col0\" >Target</td>\n",
              "      <td id=\"T_a2fd9_row1_col1\" class=\"data row1 col1\" >output</td>\n",
              "    </tr>\n",
              "    <tr>\n",
              "      <th id=\"T_a2fd9_level0_row2\" class=\"row_heading level0 row2\" >2</th>\n",
              "      <td id=\"T_a2fd9_row2_col0\" class=\"data row2 col0\" >Target type</td>\n",
              "      <td id=\"T_a2fd9_row2_col1\" class=\"data row2 col1\" >Binary</td>\n",
              "    </tr>\n",
              "    <tr>\n",
              "      <th id=\"T_a2fd9_level0_row3\" class=\"row_heading level0 row3\" >3</th>\n",
              "      <td id=\"T_a2fd9_row3_col0\" class=\"data row3 col0\" >Original data shape</td>\n",
              "      <td id=\"T_a2fd9_row3_col1\" class=\"data row3 col1\" >(303, 14)</td>\n",
              "    </tr>\n",
              "    <tr>\n",
              "      <th id=\"T_a2fd9_level0_row4\" class=\"row_heading level0 row4\" >4</th>\n",
              "      <td id=\"T_a2fd9_row4_col0\" class=\"data row4 col0\" >Transformed data shape</td>\n",
              "      <td id=\"T_a2fd9_row4_col1\" class=\"data row4 col1\" >(303, 14)</td>\n",
              "    </tr>\n",
              "    <tr>\n",
              "      <th id=\"T_a2fd9_level0_row5\" class=\"row_heading level0 row5\" >5</th>\n",
              "      <td id=\"T_a2fd9_row5_col0\" class=\"data row5 col0\" >Transformed train set shape</td>\n",
              "      <td id=\"T_a2fd9_row5_col1\" class=\"data row5 col1\" >(212, 14)</td>\n",
              "    </tr>\n",
              "    <tr>\n",
              "      <th id=\"T_a2fd9_level0_row6\" class=\"row_heading level0 row6\" >6</th>\n",
              "      <td id=\"T_a2fd9_row6_col0\" class=\"data row6 col0\" >Transformed test set shape</td>\n",
              "      <td id=\"T_a2fd9_row6_col1\" class=\"data row6 col1\" >(91, 14)</td>\n",
              "    </tr>\n",
              "    <tr>\n",
              "      <th id=\"T_a2fd9_level0_row7\" class=\"row_heading level0 row7\" >7</th>\n",
              "      <td id=\"T_a2fd9_row7_col0\" class=\"data row7 col0\" >Numeric features</td>\n",
              "      <td id=\"T_a2fd9_row7_col1\" class=\"data row7 col1\" >13</td>\n",
              "    </tr>\n",
              "    <tr>\n",
              "      <th id=\"T_a2fd9_level0_row8\" class=\"row_heading level0 row8\" >8</th>\n",
              "      <td id=\"T_a2fd9_row8_col0\" class=\"data row8 col0\" >Preprocess</td>\n",
              "      <td id=\"T_a2fd9_row8_col1\" class=\"data row8 col1\" >True</td>\n",
              "    </tr>\n",
              "    <tr>\n",
              "      <th id=\"T_a2fd9_level0_row9\" class=\"row_heading level0 row9\" >9</th>\n",
              "      <td id=\"T_a2fd9_row9_col0\" class=\"data row9 col0\" >Imputation type</td>\n",
              "      <td id=\"T_a2fd9_row9_col1\" class=\"data row9 col1\" >simple</td>\n",
              "    </tr>\n",
              "    <tr>\n",
              "      <th id=\"T_a2fd9_level0_row10\" class=\"row_heading level0 row10\" >10</th>\n",
              "      <td id=\"T_a2fd9_row10_col0\" class=\"data row10 col0\" >Numeric imputation</td>\n",
              "      <td id=\"T_a2fd9_row10_col1\" class=\"data row10 col1\" >mean</td>\n",
              "    </tr>\n",
              "    <tr>\n",
              "      <th id=\"T_a2fd9_level0_row11\" class=\"row_heading level0 row11\" >11</th>\n",
              "      <td id=\"T_a2fd9_row11_col0\" class=\"data row11 col0\" >Categorical imputation</td>\n",
              "      <td id=\"T_a2fd9_row11_col1\" class=\"data row11 col1\" >mode</td>\n",
              "    </tr>\n",
              "    <tr>\n",
              "      <th id=\"T_a2fd9_level0_row12\" class=\"row_heading level0 row12\" >12</th>\n",
              "      <td id=\"T_a2fd9_row12_col0\" class=\"data row12 col0\" >Fold Generator</td>\n",
              "      <td id=\"T_a2fd9_row12_col1\" class=\"data row12 col1\" >StratifiedKFold</td>\n",
              "    </tr>\n",
              "    <tr>\n",
              "      <th id=\"T_a2fd9_level0_row13\" class=\"row_heading level0 row13\" >13</th>\n",
              "      <td id=\"T_a2fd9_row13_col0\" class=\"data row13 col0\" >Fold Number</td>\n",
              "      <td id=\"T_a2fd9_row13_col1\" class=\"data row13 col1\" >10</td>\n",
              "    </tr>\n",
              "    <tr>\n",
              "      <th id=\"T_a2fd9_level0_row14\" class=\"row_heading level0 row14\" >14</th>\n",
              "      <td id=\"T_a2fd9_row14_col0\" class=\"data row14 col0\" >CPU Jobs</td>\n",
              "      <td id=\"T_a2fd9_row14_col1\" class=\"data row14 col1\" >-1</td>\n",
              "    </tr>\n",
              "    <tr>\n",
              "      <th id=\"T_a2fd9_level0_row15\" class=\"row_heading level0 row15\" >15</th>\n",
              "      <td id=\"T_a2fd9_row15_col0\" class=\"data row15 col0\" >Use GPU</td>\n",
              "      <td id=\"T_a2fd9_row15_col1\" class=\"data row15 col1\" >False</td>\n",
              "    </tr>\n",
              "    <tr>\n",
              "      <th id=\"T_a2fd9_level0_row16\" class=\"row_heading level0 row16\" >16</th>\n",
              "      <td id=\"T_a2fd9_row16_col0\" class=\"data row16 col0\" >Log Experiment</td>\n",
              "      <td id=\"T_a2fd9_row16_col1\" class=\"data row16 col1\" >False</td>\n",
              "    </tr>\n",
              "    <tr>\n",
              "      <th id=\"T_a2fd9_level0_row17\" class=\"row_heading level0 row17\" >17</th>\n",
              "      <td id=\"T_a2fd9_row17_col0\" class=\"data row17 col0\" >Experiment Name</td>\n",
              "      <td id=\"T_a2fd9_row17_col1\" class=\"data row17 col1\" >clf-default-name</td>\n",
              "    </tr>\n",
              "    <tr>\n",
              "      <th id=\"T_a2fd9_level0_row18\" class=\"row_heading level0 row18\" >18</th>\n",
              "      <td id=\"T_a2fd9_row18_col0\" class=\"data row18 col0\" >USI</td>\n",
              "      <td id=\"T_a2fd9_row18_col1\" class=\"data row18 col1\" >67c6</td>\n",
              "    </tr>\n",
              "  </tbody>\n",
              "</table>\n"
            ]
          },
          "metadata": {}
        },
        {
          "output_type": "execute_result",
          "data": {
            "text/plain": [
              "<pycaret.classification.oop.ClassificationExperiment at 0x785a11a1b790>"
            ]
          },
          "metadata": {},
          "execution_count": 6
        }
      ]
    },
    {
      "cell_type": "markdown",
      "source": [
        "## **Comparing Models**"
      ],
      "metadata": {
        "id": "5cSZnDlGPb4G"
      }
    },
    {
      "cell_type": "code",
      "source": [
        "heart_attack = binary.compare_models()"
      ],
      "metadata": {
        "colab": {
          "base_uri": "https://localhost:8080/",
          "height": 519,
          "referenced_widgets": [
            "6c62a32319df4aef955c637350675746",
            "2d83c1bb28184d629cd37fd350aa0d95",
            "ab8833b1d86848b1a68348b1616aad8f",
            "84b27cc656784d24a68afd40753bdd01",
            "a19f4af1fd7c4d1ba564aa5cc4c1c7d1",
            "cd10ffedad1047238c7ce1bc925591fa",
            "ade8e2f4f8174ca09ff210c9fb57a2ab",
            "fb2132f462cc439b98a2f1eb2eee7acb",
            "3b1353cef0ad4fffbc97ec71d4a14b0c",
            "7dd9188f6a9b4ae1a571270ce6575429",
            "0c775373f025488ab46dd53f03ab313d"
          ]
        },
        "id": "AJbUwhZRpoUe",
        "outputId": "41164a5e-67da-433d-94c5-676a8c4b3f75"
      },
      "execution_count": 8,
      "outputs": [
        {
          "output_type": "display_data",
          "data": {
            "text/plain": [
              "<IPython.core.display.HTML object>"
            ],
            "text/html": []
          },
          "metadata": {}
        },
        {
          "output_type": "display_data",
          "data": {
            "text/plain": [
              "<pandas.io.formats.style.Styler at 0x7859f8a9f460>"
            ],
            "text/html": [
              "<style type=\"text/css\">\n",
              "#T_61b44 th {\n",
              "  text-align: left;\n",
              "}\n",
              "#T_61b44_row0_col0, #T_61b44_row0_col2, #T_61b44_row0_col3, #T_61b44_row0_col4, #T_61b44_row1_col0, #T_61b44_row1_col2, #T_61b44_row1_col3, #T_61b44_row1_col4, #T_61b44_row2_col0, #T_61b44_row2_col1, #T_61b44_row2_col3, #T_61b44_row2_col4, #T_61b44_row2_col5, #T_61b44_row2_col6, #T_61b44_row2_col7, #T_61b44_row3_col0, #T_61b44_row3_col1, #T_61b44_row3_col2, #T_61b44_row3_col3, #T_61b44_row3_col4, #T_61b44_row3_col5, #T_61b44_row3_col6, #T_61b44_row3_col7, #T_61b44_row4_col0, #T_61b44_row4_col1, #T_61b44_row4_col2, #T_61b44_row4_col3, #T_61b44_row4_col4, #T_61b44_row4_col5, #T_61b44_row4_col6, #T_61b44_row4_col7, #T_61b44_row5_col0, #T_61b44_row5_col1, #T_61b44_row5_col2, #T_61b44_row5_col3, #T_61b44_row5_col4, #T_61b44_row5_col5, #T_61b44_row5_col6, #T_61b44_row5_col7, #T_61b44_row6_col0, #T_61b44_row6_col1, #T_61b44_row6_col2, #T_61b44_row6_col3, #T_61b44_row6_col4, #T_61b44_row6_col5, #T_61b44_row6_col6, #T_61b44_row6_col7, #T_61b44_row7_col0, #T_61b44_row7_col1, #T_61b44_row7_col2, #T_61b44_row7_col3, #T_61b44_row7_col4, #T_61b44_row7_col5, #T_61b44_row7_col6, #T_61b44_row7_col7, #T_61b44_row8_col0, #T_61b44_row8_col1, #T_61b44_row8_col2, #T_61b44_row8_col3, #T_61b44_row8_col5, #T_61b44_row8_col6, #T_61b44_row8_col7, #T_61b44_row9_col0, #T_61b44_row9_col1, #T_61b44_row9_col2, #T_61b44_row9_col3, #T_61b44_row9_col4, #T_61b44_row9_col5, #T_61b44_row9_col6, #T_61b44_row9_col7, #T_61b44_row10_col0, #T_61b44_row10_col1, #T_61b44_row10_col2, #T_61b44_row10_col3, #T_61b44_row10_col4, #T_61b44_row10_col5, #T_61b44_row10_col6, #T_61b44_row10_col7, #T_61b44_row11_col0, #T_61b44_row11_col1, #T_61b44_row11_col2, #T_61b44_row11_col3, #T_61b44_row11_col4, #T_61b44_row11_col5, #T_61b44_row11_col6, #T_61b44_row11_col7, #T_61b44_row12_col0, #T_61b44_row12_col1, #T_61b44_row12_col2, #T_61b44_row12_col3, #T_61b44_row12_col4, #T_61b44_row12_col5, #T_61b44_row12_col6, #T_61b44_row12_col7, #T_61b44_row13_col0, #T_61b44_row13_col1, #T_61b44_row13_col2, #T_61b44_row13_col3, #T_61b44_row13_col4, #T_61b44_row13_col5, #T_61b44_row13_col6, #T_61b44_row13_col7, #T_61b44_row14_col0, #T_61b44_row14_col1, #T_61b44_row14_col2, #T_61b44_row14_col4, #T_61b44_row14_col5, #T_61b44_row14_col6, #T_61b44_row14_col7 {\n",
              "  text-align: left;\n",
              "}\n",
              "#T_61b44_row0_col1, #T_61b44_row0_col5, #T_61b44_row0_col6, #T_61b44_row0_col7, #T_61b44_row1_col1, #T_61b44_row1_col5, #T_61b44_row1_col6, #T_61b44_row1_col7, #T_61b44_row2_col2, #T_61b44_row8_col4, #T_61b44_row14_col3 {\n",
              "  text-align: left;\n",
              "  background-color: yellow;\n",
              "}\n",
              "#T_61b44_row0_col8, #T_61b44_row1_col8, #T_61b44_row2_col8, #T_61b44_row3_col8, #T_61b44_row4_col8, #T_61b44_row5_col8, #T_61b44_row6_col8, #T_61b44_row7_col8, #T_61b44_row9_col8, #T_61b44_row10_col8, #T_61b44_row11_col8, #T_61b44_row12_col8, #T_61b44_row13_col8, #T_61b44_row14_col8 {\n",
              "  text-align: left;\n",
              "  background-color: lightgrey;\n",
              "}\n",
              "#T_61b44_row8_col8 {\n",
              "  text-align: left;\n",
              "  background-color: yellow;\n",
              "  background-color: lightgrey;\n",
              "}\n",
              "</style>\n",
              "<table id=\"T_61b44\" class=\"dataframe\">\n",
              "  <thead>\n",
              "    <tr>\n",
              "      <th class=\"blank level0\" >&nbsp;</th>\n",
              "      <th id=\"T_61b44_level0_col0\" class=\"col_heading level0 col0\" >Model</th>\n",
              "      <th id=\"T_61b44_level0_col1\" class=\"col_heading level0 col1\" >Accuracy</th>\n",
              "      <th id=\"T_61b44_level0_col2\" class=\"col_heading level0 col2\" >AUC</th>\n",
              "      <th id=\"T_61b44_level0_col3\" class=\"col_heading level0 col3\" >Recall</th>\n",
              "      <th id=\"T_61b44_level0_col4\" class=\"col_heading level0 col4\" >Prec.</th>\n",
              "      <th id=\"T_61b44_level0_col5\" class=\"col_heading level0 col5\" >F1</th>\n",
              "      <th id=\"T_61b44_level0_col6\" class=\"col_heading level0 col6\" >Kappa</th>\n",
              "      <th id=\"T_61b44_level0_col7\" class=\"col_heading level0 col7\" >MCC</th>\n",
              "      <th id=\"T_61b44_level0_col8\" class=\"col_heading level0 col8\" >TT (Sec)</th>\n",
              "    </tr>\n",
              "  </thead>\n",
              "  <tbody>\n",
              "    <tr>\n",
              "      <th id=\"T_61b44_level0_row0\" class=\"row_heading level0 row0\" >ridge</th>\n",
              "      <td id=\"T_61b44_row0_col0\" class=\"data row0 col0\" >Ridge Classifier</td>\n",
              "      <td id=\"T_61b44_row0_col1\" class=\"data row0 col1\" >0.8450</td>\n",
              "      <td id=\"T_61b44_row0_col2\" class=\"data row0 col2\" >0.0000</td>\n",
              "      <td id=\"T_61b44_row0_col3\" class=\"data row0 col3\" >0.9136</td>\n",
              "      <td id=\"T_61b44_row0_col4\" class=\"data row0 col4\" >0.8268</td>\n",
              "      <td id=\"T_61b44_row0_col5\" class=\"data row0 col5\" >0.8634</td>\n",
              "      <td id=\"T_61b44_row0_col6\" class=\"data row0 col6\" >0.6837</td>\n",
              "      <td id=\"T_61b44_row0_col7\" class=\"data row0 col7\" >0.7009</td>\n",
              "      <td id=\"T_61b44_row0_col8\" class=\"data row0 col8\" >0.0980</td>\n",
              "    </tr>\n",
              "    <tr>\n",
              "      <th id=\"T_61b44_level0_row1\" class=\"row_heading level0 row1\" >lda</th>\n",
              "      <td id=\"T_61b44_row1_col0\" class=\"data row1 col0\" >Linear Discriminant Analysis</td>\n",
              "      <td id=\"T_61b44_row1_col1\" class=\"data row1 col1\" >0.8450</td>\n",
              "      <td id=\"T_61b44_row1_col2\" class=\"data row1 col2\" >0.9100</td>\n",
              "      <td id=\"T_61b44_row1_col3\" class=\"data row1 col3\" >0.9136</td>\n",
              "      <td id=\"T_61b44_row1_col4\" class=\"data row1 col4\" >0.8268</td>\n",
              "      <td id=\"T_61b44_row1_col5\" class=\"data row1 col5\" >0.8634</td>\n",
              "      <td id=\"T_61b44_row1_col6\" class=\"data row1 col6\" >0.6837</td>\n",
              "      <td id=\"T_61b44_row1_col7\" class=\"data row1 col7\" >0.7009</td>\n",
              "      <td id=\"T_61b44_row1_col8\" class=\"data row1 col8\" >0.1050</td>\n",
              "    </tr>\n",
              "    <tr>\n",
              "      <th id=\"T_61b44_level0_row2\" class=\"row_heading level0 row2\" >lr</th>\n",
              "      <td id=\"T_61b44_row2_col0\" class=\"data row2 col0\" >Logistic Regression</td>\n",
              "      <td id=\"T_61b44_row2_col1\" class=\"data row2 col1\" >0.8355</td>\n",
              "      <td id=\"T_61b44_row2_col2\" class=\"data row2 col2\" >0.9120</td>\n",
              "      <td id=\"T_61b44_row2_col3\" class=\"data row2 col3\" >0.8780</td>\n",
              "      <td id=\"T_61b44_row2_col4\" class=\"data row2 col4\" >0.8333</td>\n",
              "      <td id=\"T_61b44_row2_col5\" class=\"data row2 col5\" >0.8498</td>\n",
              "      <td id=\"T_61b44_row2_col6\" class=\"data row2 col6\" >0.6673</td>\n",
              "      <td id=\"T_61b44_row2_col7\" class=\"data row2 col7\" >0.6801</td>\n",
              "      <td id=\"T_61b44_row2_col8\" class=\"data row2 col8\" >0.7030</td>\n",
              "    </tr>\n",
              "    <tr>\n",
              "      <th id=\"T_61b44_level0_row3\" class=\"row_heading level0 row3\" >ada</th>\n",
              "      <td id=\"T_61b44_row3_col0\" class=\"data row3 col0\" >Ada Boost Classifier</td>\n",
              "      <td id=\"T_61b44_row3_col1\" class=\"data row3 col1\" >0.8119</td>\n",
              "      <td id=\"T_61b44_row3_col2\" class=\"data row3 col2\" >0.8719</td>\n",
              "      <td id=\"T_61b44_row3_col3\" class=\"data row3 col3\" >0.8439</td>\n",
              "      <td id=\"T_61b44_row3_col4\" class=\"data row3 col4\" >0.8241</td>\n",
              "      <td id=\"T_61b44_row3_col5\" class=\"data row3 col5\" >0.8299</td>\n",
              "      <td id=\"T_61b44_row3_col6\" class=\"data row3 col6\" >0.6199</td>\n",
              "      <td id=\"T_61b44_row3_col7\" class=\"data row3 col7\" >0.6272</td>\n",
              "      <td id=\"T_61b44_row3_col8\" class=\"data row3 col8\" >0.2780</td>\n",
              "    </tr>\n",
              "    <tr>\n",
              "      <th id=\"T_61b44_level0_row4\" class=\"row_heading level0 row4\" >gbc</th>\n",
              "      <td id=\"T_61b44_row4_col0\" class=\"data row4 col0\" >Gradient Boosting Classifier</td>\n",
              "      <td id=\"T_61b44_row4_col1\" class=\"data row4 col1\" >0.8115</td>\n",
              "      <td id=\"T_61b44_row4_col2\" class=\"data row4 col2\" >0.9062</td>\n",
              "      <td id=\"T_61b44_row4_col3\" class=\"data row4 col3\" >0.8682</td>\n",
              "      <td id=\"T_61b44_row4_col4\" class=\"data row4 col4\" >0.8063</td>\n",
              "      <td id=\"T_61b44_row4_col5\" class=\"data row4 col5\" >0.8321</td>\n",
              "      <td id=\"T_61b44_row4_col6\" class=\"data row4 col6\" >0.6157</td>\n",
              "      <td id=\"T_61b44_row4_col7\" class=\"data row4 col7\" >0.6288</td>\n",
              "      <td id=\"T_61b44_row4_col8\" class=\"data row4 col8\" >0.3010</td>\n",
              "    </tr>\n",
              "    <tr>\n",
              "      <th id=\"T_61b44_level0_row5\" class=\"row_heading level0 row5\" >et</th>\n",
              "      <td id=\"T_61b44_row5_col0\" class=\"data row5 col0\" >Extra Trees Classifier</td>\n",
              "      <td id=\"T_61b44_row5_col1\" class=\"data row5 col1\" >0.8115</td>\n",
              "      <td id=\"T_61b44_row5_col2\" class=\"data row5 col2\" >0.9052</td>\n",
              "      <td id=\"T_61b44_row5_col3\" class=\"data row5 col3\" >0.8871</td>\n",
              "      <td id=\"T_61b44_row5_col4\" class=\"data row5 col4\" >0.7974</td>\n",
              "      <td id=\"T_61b44_row5_col5\" class=\"data row5 col5\" >0.8351</td>\n",
              "      <td id=\"T_61b44_row5_col6\" class=\"data row5 col6\" >0.6155</td>\n",
              "      <td id=\"T_61b44_row5_col7\" class=\"data row5 col7\" >0.6312</td>\n",
              "      <td id=\"T_61b44_row5_col8\" class=\"data row5 col8\" >0.7540</td>\n",
              "    </tr>\n",
              "    <tr>\n",
              "      <th id=\"T_61b44_level0_row6\" class=\"row_heading level0 row6\" >rf</th>\n",
              "      <td id=\"T_61b44_row6_col0\" class=\"data row6 col0\" >Random Forest Classifier</td>\n",
              "      <td id=\"T_61b44_row6_col1\" class=\"data row6 col1\" >0.8067</td>\n",
              "      <td id=\"T_61b44_row6_col2\" class=\"data row6 col2\" >0.9115</td>\n",
              "      <td id=\"T_61b44_row6_col3\" class=\"data row6 col3\" >0.8508</td>\n",
              "      <td id=\"T_61b44_row6_col4\" class=\"data row6 col4\" >0.8058</td>\n",
              "      <td id=\"T_61b44_row6_col5\" class=\"data row6 col5\" >0.8225</td>\n",
              "      <td id=\"T_61b44_row6_col6\" class=\"data row6 col6\" >0.6074</td>\n",
              "      <td id=\"T_61b44_row6_col7\" class=\"data row6 col7\" >0.6221</td>\n",
              "      <td id=\"T_61b44_row6_col8\" class=\"data row6 col8\" >0.6880</td>\n",
              "    </tr>\n",
              "    <tr>\n",
              "      <th id=\"T_61b44_level0_row7\" class=\"row_heading level0 row7\" >nb</th>\n",
              "      <td id=\"T_61b44_row7_col0\" class=\"data row7 col0\" >Naive Bayes</td>\n",
              "      <td id=\"T_61b44_row7_col1\" class=\"data row7 col1\" >0.8022</td>\n",
              "      <td id=\"T_61b44_row7_col2\" class=\"data row7 col2\" >0.8997</td>\n",
              "      <td id=\"T_61b44_row7_col3\" class=\"data row7 col3\" >0.8273</td>\n",
              "      <td id=\"T_61b44_row7_col4\" class=\"data row7 col4\" >0.8219</td>\n",
              "      <td id=\"T_61b44_row7_col5\" class=\"data row7 col5\" >0.8160</td>\n",
              "      <td id=\"T_61b44_row7_col6\" class=\"data row7 col6\" >0.5988</td>\n",
              "      <td id=\"T_61b44_row7_col7\" class=\"data row7 col7\" >0.6130</td>\n",
              "      <td id=\"T_61b44_row7_col8\" class=\"data row7 col8\" >0.0700</td>\n",
              "    </tr>\n",
              "    <tr>\n",
              "      <th id=\"T_61b44_level0_row8\" class=\"row_heading level0 row8\" >qda</th>\n",
              "      <td id=\"T_61b44_row8_col0\" class=\"data row8 col0\" >Quadratic Discriminant Analysis</td>\n",
              "      <td id=\"T_61b44_row8_col1\" class=\"data row8 col1\" >0.7972</td>\n",
              "      <td id=\"T_61b44_row8_col2\" class=\"data row8 col2\" >0.8879</td>\n",
              "      <td id=\"T_61b44_row8_col3\" class=\"data row8 col3\" >0.7924</td>\n",
              "      <td id=\"T_61b44_row8_col4\" class=\"data row8 col4\" >0.8367</td>\n",
              "      <td id=\"T_61b44_row8_col5\" class=\"data row8 col5\" >0.8058</td>\n",
              "      <td id=\"T_61b44_row8_col6\" class=\"data row8 col6\" >0.5932</td>\n",
              "      <td id=\"T_61b44_row8_col7\" class=\"data row8 col7\" >0.6059</td>\n",
              "      <td id=\"T_61b44_row8_col8\" class=\"data row8 col8\" >0.0690</td>\n",
              "    </tr>\n",
              "    <tr>\n",
              "      <th id=\"T_61b44_level0_row9\" class=\"row_heading level0 row9\" >lightgbm</th>\n",
              "      <td id=\"T_61b44_row9_col0\" class=\"data row9 col0\" >Light Gradient Boosting Machine</td>\n",
              "      <td id=\"T_61b44_row9_col1\" class=\"data row9 col1\" >0.7829</td>\n",
              "      <td id=\"T_61b44_row9_col2\" class=\"data row9 col2\" >0.8900</td>\n",
              "      <td id=\"T_61b44_row9_col3\" class=\"data row9 col3\" >0.8432</td>\n",
              "      <td id=\"T_61b44_row9_col4\" class=\"data row9 col4\" >0.7831</td>\n",
              "      <td id=\"T_61b44_row9_col5\" class=\"data row9 col5\" >0.8070</td>\n",
              "      <td id=\"T_61b44_row9_col6\" class=\"data row9 col6\" >0.5567</td>\n",
              "      <td id=\"T_61b44_row9_col7\" class=\"data row9 col7\" >0.5711</td>\n",
              "      <td id=\"T_61b44_row9_col8\" class=\"data row9 col8\" >0.5680</td>\n",
              "    </tr>\n",
              "    <tr>\n",
              "      <th id=\"T_61b44_level0_row10\" class=\"row_heading level0 row10\" >xgboost</th>\n",
              "      <td id=\"T_61b44_row10_col0\" class=\"data row10 col0\" >Extreme Gradient Boosting</td>\n",
              "      <td id=\"T_61b44_row10_col1\" class=\"data row10 col1\" >0.7784</td>\n",
              "      <td id=\"T_61b44_row10_col2\" class=\"data row10 col2\" >0.8900</td>\n",
              "      <td id=\"T_61b44_row10_col3\" class=\"data row10 col3\" >0.8258</td>\n",
              "      <td id=\"T_61b44_row10_col4\" class=\"data row10 col4\" >0.7847</td>\n",
              "      <td id=\"T_61b44_row10_col5\" class=\"data row10 col5\" >0.7990</td>\n",
              "      <td id=\"T_61b44_row10_col6\" class=\"data row10 col6\" >0.5496</td>\n",
              "      <td id=\"T_61b44_row10_col7\" class=\"data row10 col7\" >0.5646</td>\n",
              "      <td id=\"T_61b44_row10_col8\" class=\"data row10 col8\" >0.1290</td>\n",
              "    </tr>\n",
              "    <tr>\n",
              "      <th id=\"T_61b44_level0_row11\" class=\"row_heading level0 row11\" >dt</th>\n",
              "      <td id=\"T_61b44_row11_col0\" class=\"data row11 col0\" >Decision Tree Classifier</td>\n",
              "      <td id=\"T_61b44_row11_col1\" class=\"data row11 col1\" >0.7028</td>\n",
              "      <td id=\"T_61b44_row11_col2\" class=\"data row11 col2\" >0.7016</td>\n",
              "      <td id=\"T_61b44_row11_col3\" class=\"data row11 col3\" >0.7409</td>\n",
              "      <td id=\"T_61b44_row11_col4\" class=\"data row11 col4\" >0.7332</td>\n",
              "      <td id=\"T_61b44_row11_col5\" class=\"data row11 col5\" >0.7277</td>\n",
              "      <td id=\"T_61b44_row11_col6\" class=\"data row11 col6\" >0.4008</td>\n",
              "      <td id=\"T_61b44_row11_col7\" class=\"data row11 col7\" >0.4170</td>\n",
              "      <td id=\"T_61b44_row11_col8\" class=\"data row11 col8\" >0.0910</td>\n",
              "    </tr>\n",
              "    <tr>\n",
              "      <th id=\"T_61b44_level0_row12\" class=\"row_heading level0 row12\" >knn</th>\n",
              "      <td id=\"T_61b44_row12_col0\" class=\"data row12 col0\" >K Neighbors Classifier</td>\n",
              "      <td id=\"T_61b44_row12_col1\" class=\"data row12 col1\" >0.6413</td>\n",
              "      <td id=\"T_61b44_row12_col2\" class=\"data row12 col2\" >0.6941</td>\n",
              "      <td id=\"T_61b44_row12_col3\" class=\"data row12 col3\" >0.7402</td>\n",
              "      <td id=\"T_61b44_row12_col4\" class=\"data row12 col4\" >0.6555</td>\n",
              "      <td id=\"T_61b44_row12_col5\" class=\"data row12 col5\" >0.6915</td>\n",
              "      <td id=\"T_61b44_row12_col6\" class=\"data row12 col6\" >0.2646</td>\n",
              "      <td id=\"T_61b44_row12_col7\" class=\"data row12 col7\" >0.2714</td>\n",
              "      <td id=\"T_61b44_row12_col8\" class=\"data row12 col8\" >0.0870</td>\n",
              "    </tr>\n",
              "    <tr>\n",
              "      <th id=\"T_61b44_level0_row13\" class=\"row_heading level0 row13\" >svm</th>\n",
              "      <td id=\"T_61b44_row13_col0\" class=\"data row13 col0\" >SVM - Linear Kernel</td>\n",
              "      <td id=\"T_61b44_row13_col1\" class=\"data row13 col1\" >0.6143</td>\n",
              "      <td id=\"T_61b44_row13_col2\" class=\"data row13 col2\" >0.0000</td>\n",
              "      <td id=\"T_61b44_row13_col3\" class=\"data row13 col3\" >0.5856</td>\n",
              "      <td id=\"T_61b44_row13_col4\" class=\"data row13 col4\" >0.7850</td>\n",
              "      <td id=\"T_61b44_row13_col5\" class=\"data row13 col5\" >0.5659</td>\n",
              "      <td id=\"T_61b44_row13_col6\" class=\"data row13 col6\" >0.2277</td>\n",
              "      <td id=\"T_61b44_row13_col7\" class=\"data row13 col7\" >0.2785</td>\n",
              "      <td id=\"T_61b44_row13_col8\" class=\"data row13 col8\" >0.0980</td>\n",
              "    </tr>\n",
              "    <tr>\n",
              "      <th id=\"T_61b44_level0_row14\" class=\"row_heading level0 row14\" >dummy</th>\n",
              "      <td id=\"T_61b44_row14_col0\" class=\"data row14 col0\" >Dummy Classifier</td>\n",
              "      <td id=\"T_61b44_row14_col1\" class=\"data row14 col1\" >0.5424</td>\n",
              "      <td id=\"T_61b44_row14_col2\" class=\"data row14 col2\" >0.5000</td>\n",
              "      <td id=\"T_61b44_row14_col3\" class=\"data row14 col3\" >1.0000</td>\n",
              "      <td id=\"T_61b44_row14_col4\" class=\"data row14 col4\" >0.5424</td>\n",
              "      <td id=\"T_61b44_row14_col5\" class=\"data row14 col5\" >0.7031</td>\n",
              "      <td id=\"T_61b44_row14_col6\" class=\"data row14 col6\" >0.0000</td>\n",
              "      <td id=\"T_61b44_row14_col7\" class=\"data row14 col7\" >0.0000</td>\n",
              "      <td id=\"T_61b44_row14_col8\" class=\"data row14 col8\" >0.0750</td>\n",
              "    </tr>\n",
              "  </tbody>\n",
              "</table>\n"
            ]
          },
          "metadata": {}
        },
        {
          "output_type": "display_data",
          "data": {
            "text/plain": [
              "Processing:   0%|          | 0/65 [00:00<?, ?it/s]"
            ],
            "application/vnd.jupyter.widget-view+json": {
              "version_major": 2,
              "version_minor": 0,
              "model_id": "6c62a32319df4aef955c637350675746"
            }
          },
          "metadata": {
            "application/vnd.jupyter.widget-view+json": {
              "colab": {
                "custom_widget_manager": {
                  "url": "https://ssl.gstatic.com/colaboratory-static/widgets/colab-cdn-widget-manager/b3e629b1971e1542/manager.min.js"
                }
              }
            }
          }
        },
        {
          "output_type": "display_data",
          "data": {
            "text/plain": [
              "<IPython.core.display.HTML object>"
            ],
            "text/html": []
          },
          "metadata": {}
        }
      ]
    },
    {
      "cell_type": "markdown",
      "source": [
        "## **Analyzing the best Model**"
      ],
      "metadata": {
        "id": "lIU-MZS2QTsC"
      }
    },
    {
      "cell_type": "code",
      "source": [
        "plot_model(heart_attack, plot = 'confusion_matrix')"
      ],
      "metadata": {
        "colab": {
          "base_uri": "https://localhost:8080/",
          "height": 551
        },
        "id": "iLP0XIN2rLB-",
        "outputId": "21283c96-d4b6-4a8c-93bc-c3242b87a6ec"
      },
      "execution_count": 9,
      "outputs": [
        {
          "output_type": "display_data",
          "data": {
            "text/plain": [
              "<IPython.core.display.HTML object>"
            ],
            "text/html": []
          },
          "metadata": {}
        },
        {
          "output_type": "display_data",
          "data": {
            "text/plain": [
              "<Figure size 800x550 with 1 Axes>"
            ],
            "image/png": "[encoded data removed]"
          },
          "metadata": {}
        }
      ]
    },
    {
      "cell_type": "code",
      "source": [
        "plot_model(heart_attack, plot = 'feature')"
      ],
      "metadata": {
        "colab": {
          "base_uri": "https://localhost:8080/",
          "height": 485
        },
        "id": "cAhxXiH22x3Z",
        "outputId": "786f12a2-70c3-4b6d-cafb-f6359808c830"
      },
      "execution_count": 10,
      "outputs": [
        {
          "output_type": "display_data",
          "data": {
            "text/plain": [
              "<IPython.core.display.HTML object>"
            ],
            "text/html": []
          },
          "metadata": {}
        },
        {
          "output_type": "display_data",
          "data": {
            "text/plain": [
              "<Figure size 800x500 with 1 Axes>"
            ],
            "image/png": "[encoded data removed]"
          },
          "metadata": {}
        }
      ]
    },
    {
      "cell_type": "code",
      "source": [
        "evaluate_model(heart_attack)"
      ],
      "metadata": {
        "colab": {
          "base_uri": "https://localhost:8080/",
          "height": 245,
          "referenced_widgets": [
            "810e5588ee894fa9ab043fb8adbff9d7",
            "ca7f21e9ccf54c26af027eb6e6fc79ab",
            "f6070a8d37dc4288980d206aff808246",
            "4ccc3a6d86fb4fb98748119ba6b72591",
            "ec96a6fa29f74beebc7a1ca8e88c1e87",
            "b5b1559f2ed347a4b46afac48469583d",
            "e515dd621c274f8f88f2de53a9d8e3fb"
          ]
        },
        "id": "VAiqLMPBRP-b",
        "outputId": "829c6382-9003-4747-815d-189f5c17eb18"
      },
      "execution_count": 11,
      "outputs": [
        {
          "output_type": "display_data",
          "data": {
            "text/plain": [
              "interactive(children=(ToggleButtons(description='Plot Type:', icons=('',), options=(('Pipeline Plot', 'pipelin…"
            ],
            "application/vnd.jupyter.widget-view+json": {
              "version_major": 2,
              "version_minor": 0,
              "model_id": "810e5588ee894fa9ab043fb8adbff9d7"
            }
          },
          "metadata": {
            "application/vnd.jupyter.widget-view+json": {
              "colab": {
                "custom_widget_manager": {
                  "url": "https://ssl.gstatic.com/colaboratory-static/widgets/colab-cdn-widget-manager/b3e629b1971e1542/manager.min.js"
                }
              }
            }
          }
        }
      ]
    },
    {
      "cell_type": "markdown",
      "source": [
        "## **Prediction**"
      ],
      "metadata": {
        "id": "blHH3jzRO-R4"
      }
    },
    {
      "cell_type": "code",
      "source": [
        "Attack_prediction = predict_model(heart_attack)"
      ],
      "metadata": {
        "colab": {
          "base_uri": "https://localhost:8080/",
          "height": 81
        },
        "id": "4yWtqAC15vn7",
        "outputId": "fe335fb5-1599-47f6-b884-0a5b4d1383aa"
      },
      "execution_count": 12,
      "outputs": [
        {
          "output_type": "display_data",
          "data": {
            "text/plain": [
              "<pandas.io.formats.style.Styler at 0x785a103a3520>"
            ],
            "text/html": [
              "<style type=\"text/css\">\n",
              "</style>\n",
              "<table id=\"T_7523c\" class=\"dataframe\">\n",
              "  <thead>\n",
              "    <tr>\n",
              "      <th class=\"blank level0\" >&nbsp;</th>\n",
              "      <th id=\"T_7523c_level0_col0\" class=\"col_heading level0 col0\" >Model</th>\n",
              "      <th id=\"T_7523c_level0_col1\" class=\"col_heading level0 col1\" >Accuracy</th>\n",
              "      <th id=\"T_7523c_level0_col2\" class=\"col_heading level0 col2\" >AUC</th>\n",
              "      <th id=\"T_7523c_level0_col3\" class=\"col_heading level0 col3\" >Recall</th>\n",
              "      <th id=\"T_7523c_level0_col4\" class=\"col_heading level0 col4\" >Prec.</th>\n",
              "      <th id=\"T_7523c_level0_col5\" class=\"col_heading level0 col5\" >F1</th>\n",
              "      <th id=\"T_7523c_level0_col6\" class=\"col_heading level0 col6\" >Kappa</th>\n",
              "      <th id=\"T_7523c_level0_col7\" class=\"col_heading level0 col7\" >MCC</th>\n",
              "    </tr>\n",
              "  </thead>\n",
              "  <tbody>\n",
              "    <tr>\n",
              "      <th id=\"T_7523c_level0_row0\" class=\"row_heading level0 row0\" >0</th>\n",
              "      <td id=\"T_7523c_row0_col0\" class=\"data row0 col0\" >Ridge Classifier</td>\n",
              "      <td id=\"T_7523c_row0_col1\" class=\"data row0 col1\" >0.8132</td>\n",
              "      <td id=\"T_7523c_row0_col2\" class=\"data row0 col2\" >0.8102</td>\n",
              "      <td id=\"T_7523c_row0_col3\" class=\"data row0 col3\" >0.8400</td>\n",
              "      <td id=\"T_7523c_row0_col4\" class=\"data row0 col4\" >0.8235</td>\n",
              "      <td id=\"T_7523c_row0_col5\" class=\"data row0 col5\" >0.8317</td>\n",
              "      <td id=\"T_7523c_row0_col6\" class=\"data row0 col6\" >0.6219</td>\n",
              "      <td id=\"T_7523c_row0_col7\" class=\"data row0 col7\" >0.6220</td>\n",
              "    </tr>\n",
              "  </tbody>\n",
              "</table>\n"
            ]
          },
          "metadata": {}
        }
      ]
    },
    {
      "cell_type": "markdown",
      "source": [
        "## **Saving Model**"
      ],
      "metadata": {
        "id": "EmUzqab9QlMa"
      }
    },
    {
      "cell_type": "code",
      "source": [
        "save_model(heart_attack, 'heart_attack_predictor')"
      ],
      "metadata": {
        "colab": {
          "base_uri": "https://localhost:8080/"
        },
        "id": "fHVl7qDtQvpG",
        "outputId": "8fdd550b-e731-4da0-e546-d15066be74c5"
      },
      "execution_count": 13,
      "outputs": [
        {
          "output_type": "stream",
          "name": "stdout",
          "text": [
            "Transformation Pipeline and Model Successfully Saved\n"
          ]
        },
        {
          "output_type": "execute_result",
          "data": {
            "text/plain": [
              "(Pipeline(memory=FastMemory(location=/tmp/joblib),\n",
              "          steps=[('numerical_imputer',\n",
              "                  TransformerWrapper(exclude=None,\n",
              "                                     include=['age', 'sex', 'cp', 'trtbps',\n",
              "                                              'chol', 'fbs', 'restecg',\n",
              "                                              'thalachh', 'exng', 'oldpeak',\n",
              "                                              'slp', 'caa', 'thall'],\n",
              "                                     transformer=SimpleImputer(add_indicator=False,\n",
              "                                                               copy=True,\n",
              "                                                               fill_value=None,\n",
              "                                                               keep_empty_features=False,\n",
              "                                                               missing_values=nan,\n",
              "                                                               strategy='mean',\n",
              "                                                               v...\n",
              "                  TransformerWrapper(exclude=None, include=[],\n",
              "                                     transformer=SimpleImputer(add_indicator=False,\n",
              "                                                               copy=True,\n",
              "                                                               fill_value=None,\n",
              "                                                               keep_empty_features=False,\n",
              "                                                               missing_values=nan,\n",
              "                                                               strategy='most_frequent',\n",
              "                                                               verbose='deprecated'))),\n",
              "                 ('trained_model',\n",
              "                  RidgeClassifier(alpha=1.0, class_weight=None, copy_X=True,\n",
              "                                  fit_intercept=True, max_iter=None,\n",
              "                                  positive=False, random_state=1924,\n",
              "                                  solver='auto', tol=0.0001))],\n",
              "          verbose=False),\n",
              " 'heart_attack_predictor.pkl')"
            ]
          },
          "metadata": {},
          "execution_count": 13
        }
      ]
    },
    {
      "cell_type": "code",
      "source": [
        "load = load_model('heart_attack_predictor')\n",
        "load"
      ],
      "metadata": {
        "colab": {
          "base_uri": "https://localhost:8080/",
          "height": 308
        },
        "id": "b327Fuuce456",
        "outputId": "5fed60da-a6af-40ba-fab3-7a1bb17729cd"
      },
      "execution_count": 15,
      "outputs": [
        {
          "output_type": "stream",
          "name": "stdout",
          "text": [
            "Transformation Pipeline and Model Successfully Loaded\n"
          ]
        },
        {
          "output_type": "execute_result",
          "data": {
            "text/plain": [
              "Pipeline(memory=FastMemory(location=/tmp/joblib),\n",
              "         steps=[('numerical_imputer',\n",
              "                 TransformerWrapper(exclude=None,\n",
              "                                    include=['age', 'sex', 'cp', 'trtbps',\n",
              "                                             'chol', 'fbs', 'restecg',\n",
              "                                             'thalachh', 'exng', 'oldpeak',\n",
              "                                             'slp', 'caa', 'thall'],\n",
              "                                    transformer=SimpleImputer(add_indicator=False,\n",
              "                                                              copy=True,\n",
              "                                                              fill_value=None,\n",
              "                                                              keep_empty_features=False,\n",
              "                                                              missing_values=nan,\n",
              "                                                              strategy='mean',\n",
              "                                                              v...\n",
              "                 TransformerWrapper(exclude=None, include=[],\n",
              "                                    transformer=SimpleImputer(add_indicator=False,\n",
              "                                                              copy=True,\n",
              "                                                              fill_value=None,\n",
              "                                                              keep_empty_features=False,\n",
              "                                                              missing_values=nan,\n",
              "                                                              strategy='most_frequent',\n",
              "                                                              verbose='deprecated'))),\n",
              "                ('trained_model',\n",
              "                 RidgeClassifier(alpha=1.0, class_weight=None, copy_X=True,\n",
              "                                 fit_intercept=True, max_iter=None,\n",
              "                                 positive=False, random_state=1924,\n",
              "                                 solver='auto', tol=0.0001))],\n",
              "         verbose=False)"
            ],
            "text/html": [
              "<style>#sk-container-id-1 {color: black;background-color: white;}#sk-container-id-1 pre{padding: 0;}#sk-container-id-1 div.sk-toggleable {background-color: white;}#sk-container-id-1 label.sk-toggleable__label {cursor: pointer;display: block;width: 100%;margin-bottom: 0;padding: 0.3em;box-sizing: border-box;text-align: center;}#sk-container-id-1 label.sk-toggleable__label-arrow:before {content: \"▸\";float: left;margin-right: 0.25em;color: #696969;}#sk-container-id-1 label.sk-toggleable__label-arrow:hover:before {color: black;}#sk-container-id-1 div.sk-estimator:hover label.sk-toggleable__label-arrow:before {color: black;}#sk-container-id-1 div.sk-toggleable__content {max-height: 0;max-width: 0;overflow: hidden;text-align: left;background-color: #f0f8ff;}#sk-container-id-1 div.sk-toggleable__content pre {margin: 0.2em;color: black;border-radius: 0.25em;background-color: #f0f8ff;}#sk-container-id-1 input.sk-toggleable__control:checked~div.sk-toggleable__content {max-height: 200px;max-width: 100%;overflow: auto;}#sk-container-id-1 input.sk-toggleable__control:checked~label.sk-toggleable__label-arrow:before {content: \"▾\";}#sk-container-id-1 div.sk-estimator input.sk-toggleable__control:checked~label.sk-toggleable__label {background-color: #d4ebff;}#sk-container-id-1 div.sk-label input.sk-toggleable__control:checked~label.sk-toggleable__label {background-color: #d4ebff;}#sk-container-id-1 input.sk-hidden--visually {border: 0;clip: rect(1px 1px 1px 1px);clip: rect(1px, 1px, 1px, 1px);height: 1px;margin: -1px;overflow: hidden;padding: 0;position: absolute;width: 1px;}#sk-container-id-1 div.sk-estimator {font-family: monospace;background-color: #f0f8ff;border: 1px dotted black;border-radius: 0.25em;box-sizing: border-box;margin-bottom: 0.5em;}#sk-container-id-1 div.sk-estimator:hover {background-color: #d4ebff;}#sk-container-id-1 div.sk-parallel-item::after {content: \"\";width: 100%;border-bottom: 1px solid gray;flex-grow: 1;}#sk-container-id-1 div.sk-label:hover label.sk-toggleable__label {background-color: #d4ebff;}#sk-container-id-1 div.sk-serial::before {content: \"\";position: absolute;border-left: 1px solid gray;box-sizing: border-box;top: 0;bottom: 0;left: 50%;z-index: 0;}#sk-container-id-1 div.sk-serial {display: flex;flex-direction: column;align-items: center;background-color: white;padding-right: 0.2em;padding-left: 0.2em;position: relative;}#sk-container-id-1 div.sk-item {position: relative;z-index: 1;}#sk-container-id-1 div.sk-parallel {display: flex;align-items: stretch;justify-content: center;background-color: white;position: relative;}#sk-container-id-1 div.sk-item::before, #sk-container-id-1 div.sk-parallel-item::before {content: \"\";position: absolute;border-left: 1px solid gray;box-sizing: border-box;top: 0;bottom: 0;left: 50%;z-index: -1;}#sk-container-id-1 div.sk-parallel-item {display: flex;flex-direction: column;z-index: 1;position: relative;background-color: white;}#sk-container-id-1 div.sk-parallel-item:first-child::after {align-self: flex-end;width: 50%;}#sk-container-id-1 div.sk-parallel-item:last-child::after {align-self: flex-start;width: 50%;}#sk-container-id-1 div.sk-parallel-item:only-child::after {width: 0;}#sk-container-id-1 div.sk-dashed-wrapped {border: 1px dashed gray;margin: 0 0.4em 0.5em 0.4em;box-sizing: border-box;padding-bottom: 0.4em;background-color: white;}#sk-container-id-1 div.sk-label label {font-family: monospace;font-weight: bold;display: inline-block;line-height: 1.2em;}#sk-container-id-1 div.sk-label-container {text-align: center;}#sk-container-id-1 div.sk-container {/* jupyter's `normalize.less` sets `[hidden] { display: none; }` but bootstrap.min.css set `[hidden] { display: none !important; }` so we also need the `!important` here to be able to override the default hidden behavior on the sphinx rendered scikit-learn.org. See: https://github.com/scikit-learn/scikit-learn/issues/21755 */display: inline-block !important;position: relative;}#sk-container-id-1 div.sk-text-repr-fallback {display: none;}</style><div id=\"sk-container-id-1\" class=\"sk-top-container\"><div class=\"sk-text-repr-fallback\"><pre>Pipeline(memory=FastMemory(location=/tmp/joblib),\n",
              "         steps=[(&#x27;numerical_imputer&#x27;,\n",
              "                 TransformerWrapper(exclude=None,\n",
              "                                    include=[&#x27;age&#x27;, &#x27;sex&#x27;, &#x27;cp&#x27;, &#x27;trtbps&#x27;,\n",
              "                                             &#x27;chol&#x27;, &#x27;fbs&#x27;, &#x27;restecg&#x27;,\n",
              "                                             &#x27;thalachh&#x27;, &#x27;exng&#x27;, &#x27;oldpeak&#x27;,\n",
              "                                             &#x27;slp&#x27;, &#x27;caa&#x27;, &#x27;thall&#x27;],\n",
              "                                    transformer=SimpleImputer(add_indicator=False,\n",
              "                                                              copy=True,\n",
              "                                                              fill_value=None,\n",
              "                                                              keep_empty_features=False,\n",
              "                                                              missing_values=nan,\n",
              "                                                              strategy=&#x27;mean&#x27;,\n",
              "                                                              v...\n",
              "                 TransformerWrapper(exclude=None, include=[],\n",
              "                                    transformer=SimpleImputer(add_indicator=False,\n",
              "                                                              copy=True,\n",
              "                                                              fill_value=None,\n",
              "                                                              keep_empty_features=False,\n",
              "                                                              missing_values=nan,\n",
              "                                                              strategy=&#x27;most_frequent&#x27;,\n",
              "                                                              verbose=&#x27;deprecated&#x27;))),\n",
              "                (&#x27;trained_model&#x27;,\n",
              "                 RidgeClassifier(alpha=1.0, class_weight=None, copy_X=True,\n",
              "                                 fit_intercept=True, max_iter=None,\n",
              "                                 positive=False, random_state=1924,\n",
              "                                 solver=&#x27;auto&#x27;, tol=0.0001))],\n",
              "         verbose=False)</pre><b>In a Jupyter environment, please rerun this cell to show the HTML representation or trust the notebook. <br />On GitHub, the HTML representation is unable to render, please try loading this page with nbviewer.org.</b></div><div class=\"sk-container\" hidden><div class=\"sk-item sk-dashed-wrapped\"><div class=\"sk-label-container\"><div class=\"sk-label sk-toggleable\"><input class=\"sk-toggleable__control sk-hidden--visually\" id=\"sk-estimator-id-1\" type=\"checkbox\" ><label for=\"sk-estimator-id-1\" class=\"sk-toggleable__label sk-toggleable__label-arrow\">Pipeline</label><div class=\"sk-toggleable__content\"><pre>Pipeline(memory=FastMemory(location=/tmp/joblib),\n",
              "         steps=[(&#x27;numerical_imputer&#x27;,\n",
              "                 TransformerWrapper(exclude=None,\n",
              "                                    include=[&#x27;age&#x27;, &#x27;sex&#x27;, &#x27;cp&#x27;, &#x27;trtbps&#x27;,\n",
              "                                             &#x27;chol&#x27;, &#x27;fbs&#x27;, &#x27;restecg&#x27;,\n",
              "                                             &#x27;thalachh&#x27;, &#x27;exng&#x27;, &#x27;oldpeak&#x27;,\n",
              "                                             &#x27;slp&#x27;, &#x27;caa&#x27;, &#x27;thall&#x27;],\n",
              "                                    transformer=SimpleImputer(add_indicator=False,\n",
              "                                                              copy=True,\n",
              "                                                              fill_value=None,\n",
              "                                                              keep_empty_features=False,\n",
              "                                                              missing_values=nan,\n",
              "                                                              strategy=&#x27;mean&#x27;,\n",
              "                                                              v...\n",
              "                 TransformerWrapper(exclude=None, include=[],\n",
              "                                    transformer=SimpleImputer(add_indicator=False,\n",
              "                                                              copy=True,\n",
              "                                                              fill_value=None,\n",
              "                                                              keep_empty_features=False,\n",
              "                                                              missing_values=nan,\n",
              "                                                              strategy=&#x27;most_frequent&#x27;,\n",
              "                                                              verbose=&#x27;deprecated&#x27;))),\n",
              "                (&#x27;trained_model&#x27;,\n",
              "                 RidgeClassifier(alpha=1.0, class_weight=None, copy_X=True,\n",
              "                                 fit_intercept=True, max_iter=None,\n",
              "                                 positive=False, random_state=1924,\n",
              "                                 solver=&#x27;auto&#x27;, tol=0.0001))],\n",
              "         verbose=False)</pre></div></div></div><div class=\"sk-serial\"><div class=\"sk-item sk-dashed-wrapped\"><div class=\"sk-label-container\"><div class=\"sk-label sk-toggleable\"><input class=\"sk-toggleable__control sk-hidden--visually\" id=\"sk-estimator-id-2\" type=\"checkbox\" ><label for=\"sk-estimator-id-2\" class=\"sk-toggleable__label sk-toggleable__label-arrow\">numerical_imputer: TransformerWrapper</label><div class=\"sk-toggleable__content\"><pre>TransformerWrapper(exclude=None,\n",
              "                   include=[&#x27;age&#x27;, &#x27;sex&#x27;, &#x27;cp&#x27;, &#x27;trtbps&#x27;, &#x27;chol&#x27;, &#x27;fbs&#x27;,\n",
              "                            &#x27;restecg&#x27;, &#x27;thalachh&#x27;, &#x27;exng&#x27;, &#x27;oldpeak&#x27;, &#x27;slp&#x27;,\n",
              "                            &#x27;caa&#x27;, &#x27;thall&#x27;],\n",
              "                   transformer=SimpleImputer(add_indicator=False, copy=True,\n",
              "                                             fill_value=None,\n",
              "                                             keep_empty_features=False,\n",
              "                                             missing_values=nan,\n",
              "                                             strategy=&#x27;mean&#x27;,\n",
              "                                             verbose=&#x27;deprecated&#x27;))</pre></div></div></div><div class=\"sk-parallel\"><div class=\"sk-parallel-item\"><div class=\"sk-item\"><div class=\"sk-label-container\"><div class=\"sk-label sk-toggleable\"><input class=\"sk-toggleable__control sk-hidden--visually\" id=\"sk-estimator-id-3\" type=\"checkbox\" ><label for=\"sk-estimator-id-3\" class=\"sk-toggleable__label sk-toggleable__label-arrow\">transformer: SimpleImputer</label><div class=\"sk-toggleable__content\"><pre>SimpleImputer()</pre></div></div></div><div class=\"sk-serial\"><div class=\"sk-item\"><div class=\"sk-estimator sk-toggleable\"><input class=\"sk-toggleable__control sk-hidden--visually\" id=\"sk-estimator-id-4\" type=\"checkbox\" ><label for=\"sk-estimator-id-4\" class=\"sk-toggleable__label sk-toggleable__label-arrow\">SimpleImputer</label><div class=\"sk-toggleable__content\"><pre>SimpleImputer()</pre></div></div></div></div></div></div></div></div><div class=\"sk-item sk-dashed-wrapped\"><div class=\"sk-label-container\"><div class=\"sk-label sk-toggleable\"><input class=\"sk-toggleable__control sk-hidden--visually\" id=\"sk-estimator-id-5\" type=\"checkbox\" ><label for=\"sk-estimator-id-5\" class=\"sk-toggleable__label sk-toggleable__label-arrow\">categorical_imputer: TransformerWrapper</label><div class=\"sk-toggleable__content\"><pre>TransformerWrapper(exclude=None, include=[],\n",
              "                   transformer=SimpleImputer(add_indicator=False, copy=True,\n",
              "                                             fill_value=None,\n",
              "                                             keep_empty_features=False,\n",
              "                                             missing_values=nan,\n",
              "                                             strategy=&#x27;most_frequent&#x27;,\n",
              "                                             verbose=&#x27;deprecated&#x27;))</pre></div></div></div><div class=\"sk-parallel\"><div class=\"sk-parallel-item\"><div class=\"sk-item\"><div class=\"sk-label-container\"><div class=\"sk-label sk-toggleable\"><input class=\"sk-toggleable__control sk-hidden--visually\" id=\"sk-estimator-id-6\" type=\"checkbox\" ><label for=\"sk-estimator-id-6\" class=\"sk-toggleable__label sk-toggleable__label-arrow\">transformer: SimpleImputer</label><div class=\"sk-toggleable__content\"><pre>SimpleImputer(strategy=&#x27;most_frequent&#x27;)</pre></div></div></div><div class=\"sk-serial\"><div class=\"sk-item\"><div class=\"sk-estimator sk-toggleable\"><input class=\"sk-toggleable__control sk-hidden--visually\" id=\"sk-estimator-id-7\" type=\"checkbox\" ><label for=\"sk-estimator-id-7\" class=\"sk-toggleable__label sk-toggleable__label-arrow\">SimpleImputer</label><div class=\"sk-toggleable__content\"><pre>SimpleImputer(strategy=&#x27;most_frequent&#x27;)</pre></div></div></div></div></div></div></div></div><div class=\"sk-item\"><div class=\"sk-estimator sk-toggleable\"><input class=\"sk-toggleable__control sk-hidden--visually\" id=\"sk-estimator-id-8\" type=\"checkbox\" ><label for=\"sk-estimator-id-8\" class=\"sk-toggleable__label sk-toggleable__label-arrow\">RidgeClassifier</label><div class=\"sk-toggleable__content\"><pre>RidgeClassifier(random_state=1924)</pre></div></div></div></div></div></div></div>"
            ]
          },
          "metadata": {},
          "execution_count": 15
        }
      ]
    }
  ]
}