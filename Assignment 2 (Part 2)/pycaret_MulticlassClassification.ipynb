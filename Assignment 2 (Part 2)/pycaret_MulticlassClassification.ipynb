{
  "nbformat": 4,
  "nbformat_minor": 0,
  "metadata": {
    "colab": {
      "provenance": []
    },
    "kernelspec": {
      "name": "python3",
      "display_name": "Python 3"
    },
    "language_info": {
      "name": "python"
    },
    "widgets": {
      "application/vnd.jupyter.widget-state+json": {
        "2e357b4efc104ee1a20669d63ee15ec2": {
          "model_module": "@jupyter-widgets/controls",
          "model_name": "HBoxModel",
          "model_module_version": "1.5.0",
          "state": {
            "_dom_classes": [],
            "_model_module": "@jupyter-widgets/controls",
            "_model_module_version": "1.5.0",
            "_model_name": "HBoxModel",
            "_view_count": null,
            "_view_module": "@jupyter-widgets/controls",
            "_view_module_version": "1.5.0",
            "_view_name": "HBoxView",
            "box_style": "",
            "children": [
              "IPY_MODEL_014a481e5fd24fa7ae6fbe22bde28055",
              "IPY_MODEL_1293aa3cd41d485f9cebfaa3987fc6e6",
              "IPY_MODEL_6456d36cc90147889b50cfd73bbe1770"
            ],
            "layout": "IPY_MODEL_e437bd8982bd410b8010af6d7ad60ea1"
          }
        },
        "014a481e5fd24fa7ae6fbe22bde28055": {
          "model_module": "@jupyter-widgets/controls",
          "model_name": "HTMLModel",
          "model_module_version": "1.5.0",
          "state": {
            "_dom_classes": [],
            "_model_module": "@jupyter-widgets/controls",
            "_model_module_version": "1.5.0",
            "_model_name": "HTMLModel",
            "_view_count": null,
            "_view_module": "@jupyter-widgets/controls",
            "_view_module_version": "1.5.0",
            "_view_name": "HTMLView",
            "description": "",
            "description_tooltip": null,
            "layout": "IPY_MODEL_466076f5fbb74f168c4c46be8b19b2a0",
            "placeholder": "​",
            "style": "IPY_MODEL_c62a445e7d8546aebd80e664468635ed",
            "value": "Processing: 100%"
          }
        },
        "1293aa3cd41d485f9cebfaa3987fc6e6": {
          "model_module": "@jupyter-widgets/controls",
          "model_name": "FloatProgressModel",
          "model_module_version": "1.5.0",
          "state": {
            "_dom_classes": [],
            "_model_module": "@jupyter-widgets/controls",
            "_model_module_version": "1.5.0",
            "_model_name": "FloatProgressModel",
            "_view_count": null,
            "_view_module": "@jupyter-widgets/controls",
            "_view_module_version": "1.5.0",
            "_view_name": "ProgressView",
            "bar_style": "",
            "description": "",
            "description_tooltip": null,
            "layout": "IPY_MODEL_dc85da6cadb54d7aaf5319749d60d852",
            "max": 69,
            "min": 0,
            "orientation": "horizontal",
            "style": "IPY_MODEL_1f8f22d9d87147269b62006f12e10614",
            "value": 69
          }
        },
        "6456d36cc90147889b50cfd73bbe1770": {
          "model_module": "@jupyter-widgets/controls",
          "model_name": "HTMLModel",
          "model_module_version": "1.5.0",
          "state": {
            "_dom_classes": [],
            "_model_module": "@jupyter-widgets/controls",
            "_model_module_version": "1.5.0",
            "_model_name": "HTMLModel",
            "_view_count": null,
            "_view_module": "@jupyter-widgets/controls",
            "_view_module_version": "1.5.0",
            "_view_name": "HTMLView",
            "description": "",
            "description_tooltip": null,
            "layout": "IPY_MODEL_ad2c19854bcd4533b9d18fd5a7bbbb8b",
            "placeholder": "​",
            "style": "IPY_MODEL_225878da1a3d4a7095bf53e029b60f3f",
            "value": " 69/69 [02:12&lt;00:00,  1.43s/it]"
          }
        },
        "e437bd8982bd410b8010af6d7ad60ea1": {
          "model_module": "@jupyter-widgets/base",
          "model_name": "LayoutModel",
          "model_module_version": "1.2.0",
          "state": {
            "_model_module": "@jupyter-widgets/base",
            "_model_module_version": "1.2.0",
            "_model_name": "LayoutModel",
            "_view_count": null,
            "_view_module": "@jupyter-widgets/base",
            "_view_module_version": "1.2.0",
            "_view_name": "LayoutView",
            "align_content": null,
            "align_items": null,
            "align_self": null,
            "border": null,
            "bottom": null,
            "display": null,
            "flex": null,
            "flex_flow": null,
            "grid_area": null,
            "grid_auto_columns": null,
            "grid_auto_flow": null,
            "grid_auto_rows": null,
            "grid_column": null,
            "grid_gap": null,
            "grid_row": null,
            "grid_template_areas": null,
            "grid_template_columns": null,
            "grid_template_rows": null,
            "height": null,
            "justify_content": null,
            "justify_items": null,
            "left": null,
            "margin": null,
            "max_height": null,
            "max_width": null,
            "min_height": null,
            "min_width": null,
            "object_fit": null,
            "object_position": null,
            "order": null,
            "overflow": null,
            "overflow_x": null,
            "overflow_y": null,
            "padding": null,
            "right": null,
            "top": null,
            "visibility": "hidden",
            "width": null
          }
        },
        "466076f5fbb74f168c4c46be8b19b2a0": {
          "model_module": "@jupyter-widgets/base",
          "model_name": "LayoutModel",
          "model_module_version": "1.2.0",
          "state": {
            "_model_module": "@jupyter-widgets/base",
            "_model_module_version": "1.2.0",
            "_model_name": "LayoutModel",
            "_view_count": null,
            "_view_module": "@jupyter-widgets/base",
            "_view_module_version": "1.2.0",
            "_view_name": "LayoutView",
            "align_content": null,
            "align_items": null,
            "align_self": null,
            "border": null,
            "bottom": null,
            "display": null,
            "flex": null,
            "flex_flow": null,
            "grid_area": null,
            "grid_auto_columns": null,
            "grid_auto_flow": null,
            "grid_auto_rows": null,
            "grid_column": null,
            "grid_gap": null,
            "grid_row": null,
            "grid_template_areas": null,
            "grid_template_columns": null,
            "grid_template_rows": null,
            "height": null,
            "justify_content": null,
            "justify_items": null,
            "left": null,
            "margin": null,
            "max_height": null,
            "max_width": null,
            "min_height": null,
            "min_width": null,
            "object_fit": null,
            "object_position": null,
            "order": null,
            "overflow": null,
            "overflow_x": null,
            "overflow_y": null,
            "padding": null,
            "right": null,
            "top": null,
            "visibility": null,
            "width": null
          }
        },
        "c62a445e7d8546aebd80e664468635ed": {
          "model_module": "@jupyter-widgets/controls",
          "model_name": "DescriptionStyleModel",
          "model_module_version": "1.5.0",
          "state": {
            "_model_module": "@jupyter-widgets/controls",
            "_model_module_version": "1.5.0",
            "_model_name": "DescriptionStyleModel",
            "_view_count": null,
            "_view_module": "@jupyter-widgets/base",
            "_view_module_version": "1.2.0",
            "_view_name": "StyleView",
            "description_width": ""
          }
        },
        "dc85da6cadb54d7aaf5319749d60d852": {
          "model_module": "@jupyter-widgets/base",
          "model_name": "LayoutModel",
          "model_module_version": "1.2.0",
          "state": {
            "_model_module": "@jupyter-widgets/base",
            "_model_module_version": "1.2.0",
            "_model_name": "LayoutModel",
            "_view_count": null,
            "_view_module": "@jupyter-widgets/base",
            "_view_module_version": "1.2.0",
            "_view_name": "LayoutView",
            "align_content": null,
            "align_items": null,
            "align_self": null,
            "border": null,
            "bottom": null,
            "display": null,
            "flex": null,
            "flex_flow": null,
            "grid_area": null,
            "grid_auto_columns": null,
            "grid_auto_flow": null,
            "grid_auto_rows": null,
            "grid_column": null,
            "grid_gap": null,
            "grid_row": null,
            "grid_template_areas": null,
            "grid_template_columns": null,
            "grid_template_rows": null,
            "height": null,
            "justify_content": null,
            "justify_items": null,
            "left": null,
            "margin": null,
            "max_height": null,
            "max_width": null,
            "min_height": null,
            "min_width": null,
            "object_fit": null,
            "object_position": null,
            "order": null,
            "overflow": null,
            "overflow_x": null,
            "overflow_y": null,
            "padding": null,
            "right": null,
            "top": null,
            "visibility": null,
            "width": null
          }
        },
        "1f8f22d9d87147269b62006f12e10614": {
          "model_module": "@jupyter-widgets/controls",
          "model_name": "ProgressStyleModel",
          "model_module_version": "1.5.0",
          "state": {
            "_model_module": "@jupyter-widgets/controls",
            "_model_module_version": "1.5.0",
            "_model_name": "ProgressStyleModel",
            "_view_count": null,
            "_view_module": "@jupyter-widgets/base",
            "_view_module_version": "1.2.0",
            "_view_name": "StyleView",
            "bar_color": null,
            "description_width": ""
          }
        },
        "ad2c19854bcd4533b9d18fd5a7bbbb8b": {
          "model_module": "@jupyter-widgets/base",
          "model_name": "LayoutModel",
          "model_module_version": "1.2.0",
          "state": {
            "_model_module": "@jupyter-widgets/base",
            "_model_module_version": "1.2.0",
            "_model_name": "LayoutModel",
            "_view_count": null,
            "_view_module": "@jupyter-widgets/base",
            "_view_module_version": "1.2.0",
            "_view_name": "LayoutView",
            "align_content": null,
            "align_items": null,
            "align_self": null,
            "border": null,
            "bottom": null,
            "display": null,
            "flex": null,
            "flex_flow": null,
            "grid_area": null,
            "grid_auto_columns": null,
            "grid_auto_flow": null,
            "grid_auto_rows": null,
            "grid_column": null,
            "grid_gap": null,
            "grid_row": null,
            "grid_template_areas": null,
            "grid_template_columns": null,
            "grid_template_rows": null,
            "height": null,
            "justify_content": null,
            "justify_items": null,
            "left": null,
            "margin": null,
            "max_height": null,
            "max_width": null,
            "min_height": null,
            "min_width": null,
            "object_fit": null,
            "object_position": null,
            "order": null,
            "overflow": null,
            "overflow_x": null,
            "overflow_y": null,
            "padding": null,
            "right": null,
            "top": null,
            "visibility": null,
            "width": null
          }
        },
        "225878da1a3d4a7095bf53e029b60f3f": {
          "model_module": "@jupyter-widgets/controls",
          "model_name": "DescriptionStyleModel",
          "model_module_version": "1.5.0",
          "state": {
            "_model_module": "@jupyter-widgets/controls",
            "_model_module_version": "1.5.0",
            "_model_name": "DescriptionStyleModel",
            "_view_count": null,
            "_view_module": "@jupyter-widgets/base",
            "_view_module_version": "1.2.0",
            "_view_name": "StyleView",
            "description_width": ""
          }
        },
        "f6941498fe444e02bee5e0a6351e2fe8": {
          "model_module": "@jupyter-widgets/controls",
          "model_name": "VBoxModel",
          "model_module_version": "1.5.0",
          "state": {
            "_dom_classes": [
              "widget-interact"
            ],
            "_model_module": "@jupyter-widgets/controls",
            "_model_module_version": "1.5.0",
            "_model_name": "VBoxModel",
            "_view_count": null,
            "_view_module": "@jupyter-widgets/controls",
            "_view_module_version": "1.5.0",
            "_view_name": "VBoxView",
            "box_style": "",
            "children": [
              "IPY_MODEL_c79a018d09714da584ecb097e4b7c111",
              "IPY_MODEL_584b5dd7613e409b92b93e0fc48d2ac9"
            ],
            "layout": "IPY_MODEL_ee2712f485ea49d59b32a1be9e2257e8"
          }
        },
        "c79a018d09714da584ecb097e4b7c111": {
          "model_module": "@jupyter-widgets/controls",
          "model_name": "ToggleButtonsModel",
          "model_module_version": "1.5.0",
          "state": {
            "_dom_classes": [],
            "_model_module": "@jupyter-widgets/controls",
            "_model_module_version": "1.5.0",
            "_model_name": "ToggleButtonsModel",
            "_options_labels": [
              "Pipeline Plot",
              "Hyperparameters",
              "AUC",
              "Confusion Matrix",
              "Threshold",
              "Precision Recall",
              "Prediction Error",
              "Class Report",
              "Feature Selection",
              "Learning Curve",
              "Manifold Learning",
              "Calibration Curve",
              "Validation Curve",
              "Dimensions",
              "Feature Importance",
              "Feature Importance (All)",
              "Decision Boundary",
              "Lift Chart",
              "Gain Chart",
              "Decision Tree",
              "KS Statistic Plot"
            ],
            "_view_count": null,
            "_view_module": "@jupyter-widgets/controls",
            "_view_module_version": "1.5.0",
            "_view_name": "ToggleButtonsView",
            "button_style": "",
            "description": "Plot Type:",
            "description_tooltip": null,
            "disabled": false,
            "icons": [
              ""
            ],
            "index": 0,
            "layout": "IPY_MODEL_14ddd442e7b243c5a3c20b15e96d1748",
            "style": "IPY_MODEL_e44590e530004d20acbca77a10d581f3",
            "tooltips": []
          }
        },
        "584b5dd7613e409b92b93e0fc48d2ac9": {
          "model_module": "@jupyter-widgets/output",
          "model_name": "OutputModel",
          "model_module_version": "1.0.0",
          "state": {
            "_dom_classes": [],
            "_model_module": "@jupyter-widgets/output",
            "_model_module_version": "1.0.0",
            "_model_name": "OutputModel",
            "_view_count": null,
            "_view_module": "@jupyter-widgets/output",
            "_view_module_version": "1.0.0",
            "_view_name": "OutputView",
            "layout": "IPY_MODEL_3545e1b75a9249f69bee062e4b587571",
            "msg_id": "",
            "outputs": [
              {
                "output_type": "display_data",
                "data": {
                  "text/plain": "<Figure size 2700x600 with 1 Axes>",
                  "image/png": "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\n"
                },
                "metadata": {}
              }
            ]
          }
        },
        "ee2712f485ea49d59b32a1be9e2257e8": {
          "model_module": "@jupyter-widgets/base",
          "model_name": "LayoutModel",
          "model_module_version": "1.2.0",
          "state": {
            "_model_module": "@jupyter-widgets/base",
            "_model_module_version": "1.2.0",
            "_model_name": "LayoutModel",
            "_view_count": null,
            "_view_module": "@jupyter-widgets/base",
            "_view_module_version": "1.2.0",
            "_view_name": "LayoutView",
            "align_content": null,
            "align_items": null,
            "align_self": null,
            "border": null,
            "bottom": null,
            "display": null,
            "flex": null,
            "flex_flow": null,
            "grid_area": null,
            "grid_auto_columns": null,
            "grid_auto_flow": null,
            "grid_auto_rows": null,
            "grid_column": null,
            "grid_gap": null,
            "grid_row": null,
            "grid_template_areas": null,
            "grid_template_columns": null,
            "grid_template_rows": null,
            "height": null,
            "justify_content": null,
            "justify_items": null,
            "left": null,
            "margin": null,
            "max_height": null,
            "max_width": null,
            "min_height": null,
            "min_width": null,
            "object_fit": null,
            "object_position": null,
            "order": null,
            "overflow": null,
            "overflow_x": null,
            "overflow_y": null,
            "padding": null,
            "right": null,
            "top": null,
            "visibility": null,
            "width": null
          }
        },
        "14ddd442e7b243c5a3c20b15e96d1748": {
          "model_module": "@jupyter-widgets/base",
          "model_name": "LayoutModel",
          "model_module_version": "1.2.0",
          "state": {
            "_model_module": "@jupyter-widgets/base",
            "_model_module_version": "1.2.0",
            "_model_name": "LayoutModel",
            "_view_count": null,
            "_view_module": "@jupyter-widgets/base",
            "_view_module_version": "1.2.0",
            "_view_name": "LayoutView",
            "align_content": null,
            "align_items": null,
            "align_self": null,
            "border": null,
            "bottom": null,
            "display": null,
            "flex": null,
            "flex_flow": null,
            "grid_area": null,
            "grid_auto_columns": null,
            "grid_auto_flow": null,
            "grid_auto_rows": null,
            "grid_column": null,
            "grid_gap": null,
            "grid_row": null,
            "grid_template_areas": null,
            "grid_template_columns": null,
            "grid_template_rows": null,
            "height": null,
            "justify_content": null,
            "justify_items": null,
            "left": null,
            "margin": null,
            "max_height": null,
            "max_width": null,
            "min_height": null,
            "min_width": null,
            "object_fit": null,
            "object_position": null,
            "order": null,
            "overflow": null,
            "overflow_x": null,
            "overflow_y": null,
            "padding": null,
            "right": null,
            "top": null,
            "visibility": null,
            "width": null
          }
        },
        "e44590e530004d20acbca77a10d581f3": {
          "model_module": "@jupyter-widgets/controls",
          "model_name": "ToggleButtonsStyleModel",
          "model_module_version": "1.5.0",
          "state": {
            "_model_module": "@jupyter-widgets/controls",
            "_model_module_version": "1.5.0",
            "_model_name": "ToggleButtonsStyleModel",
            "_view_count": null,
            "_view_module": "@jupyter-widgets/base",
            "_view_module_version": "1.2.0",
            "_view_name": "StyleView",
            "button_width": "",
            "description_width": "",
            "font_weight": ""
          }
        },
        "3545e1b75a9249f69bee062e4b587571": {
          "model_module": "@jupyter-widgets/base",
          "model_name": "LayoutModel",
          "model_module_version": "1.2.0",
          "state": {
            "_model_module": "@jupyter-widgets/base",
            "_model_module_version": "1.2.0",
            "_model_name": "LayoutModel",
            "_view_count": null,
            "_view_module": "@jupyter-widgets/base",
            "_view_module_version": "1.2.0",
            "_view_name": "LayoutView",
            "align_content": null,
            "align_items": null,
            "align_self": null,
            "border": null,
            "bottom": null,
            "display": null,
            "flex": null,
            "flex_flow": null,
            "grid_area": null,
            "grid_auto_columns": null,
            "grid_auto_flow": null,
            "grid_auto_rows": null,
            "grid_column": null,
            "grid_gap": null,
            "grid_row": null,
            "grid_template_areas": null,
            "grid_template_columns": null,
            "grid_template_rows": null,
            "height": null,
            "justify_content": null,
            "justify_items": null,
            "left": null,
            "margin": null,
            "max_height": null,
            "max_width": null,
            "min_height": null,
            "min_width": null,
            "object_fit": null,
            "object_position": null,
            "order": null,
            "overflow": null,
            "overflow_x": null,
            "overflow_y": null,
            "padding": null,
            "right": null,
            "top": null,
            "visibility": null,
            "width": null
          }
        }
      }
    }
  },
  "cells": [
    {
      "cell_type": "code",
      "source": [
        "pip install pycaret"
      ],
      "metadata": {
        "colab": {
          "base_uri": "https://localhost:8080/"
        },
        "id": "Md0LaUQvaD3V",
        "outputId": "63c48f55-a1fb-4ec8-8403-cd2f91a67ffb"
      },
      "execution_count": 7,
      "outputs": [
        {
          "output_type": "stream",
          "name": "stdout",
          "text": [
            "Collecting pycaret\n",
            "  Using cached pycaret-3.0.4-py3-none-any.whl (484 kB)\n",
            "Requirement already satisfied: ipython>=5.5.0 in /usr/local/lib/python3.10/dist-packages (from pycaret) (7.34.0)\n",
            "Requirement already satisfied: ipywidgets>=7.6.5 in /usr/local/lib/python3.10/dist-packages (from pycaret) (7.7.1)\n",
            "Requirement already satisfied: tqdm>=4.62.0 in /usr/local/lib/python3.10/dist-packages (from pycaret) (4.66.1)\n",
            "Requirement already satisfied: numpy<1.24,>=1.21 in /usr/local/lib/python3.10/dist-packages (from pycaret) (1.23.5)\n",
            "Requirement already satisfied: pandas<2.0.0,>=1.3.0 in /usr/local/lib/python3.10/dist-packages (from pycaret) (1.5.3)\n",
            "Requirement already satisfied: jinja2>=1.2 in /usr/local/lib/python3.10/dist-packages (from pycaret) (3.1.2)\n",
            "Requirement already satisfied: scipy<2.0.0 in /usr/local/lib/python3.10/dist-packages (from pycaret) (1.10.1)\n",
            "Requirement already satisfied: joblib>=1.2.0 in /usr/local/lib/python3.10/dist-packages (from pycaret) (1.3.2)\n",
            "Requirement already satisfied: scikit-learn<1.3.0,>=1.0 in /usr/local/lib/python3.10/dist-packages (from pycaret) (1.2.2)\n",
            "Requirement already satisfied: pyod>=1.0.8 in /usr/local/lib/python3.10/dist-packages (from pycaret) (1.1.0)\n",
            "Requirement already satisfied: imbalanced-learn>=0.8.1 in /usr/local/lib/python3.10/dist-packages (from pycaret) (0.10.1)\n",
            "Requirement already satisfied: category-encoders>=2.4.0 in /usr/local/lib/python3.10/dist-packages (from pycaret) (2.6.2)\n",
            "Requirement already satisfied: lightgbm>=3.0.0 in /usr/local/lib/python3.10/dist-packages (from pycaret) (4.0.0)\n",
            "Requirement already satisfied: numba>=0.55.0 in /usr/local/lib/python3.10/dist-packages (from pycaret) (0.56.4)\n",
            "Requirement already satisfied: requests>=2.27.1 in /usr/local/lib/python3.10/dist-packages (from pycaret) (2.31.0)\n",
            "Requirement already satisfied: psutil>=5.9.0 in /usr/local/lib/python3.10/dist-packages (from pycaret) (5.9.5)\n",
            "Requirement already satisfied: markupsafe>=2.0.1 in /usr/local/lib/python3.10/dist-packages (from pycaret) (2.1.3)\n",
            "Requirement already satisfied: importlib-metadata>=4.12.0 in /usr/local/lib/python3.10/dist-packages (from pycaret) (5.2.0)\n",
            "Requirement already satisfied: nbformat>=4.2.0 in /usr/local/lib/python3.10/dist-packages (from pycaret) (5.9.2)\n",
            "Requirement already satisfied: cloudpickle in /usr/local/lib/python3.10/dist-packages (from pycaret) (2.2.1)\n",
            "Requirement already satisfied: deprecation>=2.1.0 in /usr/local/lib/python3.10/dist-packages (from pycaret) (2.1.0)\n",
            "Requirement already satisfied: xxhash in /usr/local/lib/python3.10/dist-packages (from pycaret) (3.3.0)\n",
            "Requirement already satisfied: matplotlib>=3.3.0 in /usr/local/lib/python3.10/dist-packages (from pycaret) (3.7.1)\n",
            "Requirement already satisfied: scikit-plot>=0.3.7 in /usr/local/lib/python3.10/dist-packages (from pycaret) (0.3.7)\n",
            "Requirement already satisfied: yellowbrick>=1.4 in /usr/local/lib/python3.10/dist-packages (from pycaret) (1.5)\n",
            "Requirement already satisfied: plotly>=5.0.0 in /usr/local/lib/python3.10/dist-packages (from pycaret) (5.15.0)\n",
            "Requirement already satisfied: kaleido>=0.2.1 in /usr/local/lib/python3.10/dist-packages (from pycaret) (0.2.1)\n",
            "Requirement already satisfied: schemdraw==0.15 in /usr/local/lib/python3.10/dist-packages (from pycaret) (0.15)\n",
            "Requirement already satisfied: plotly-resampler>=0.8.3.1 in /usr/local/lib/python3.10/dist-packages (from pycaret) (0.9.1)\n",
            "Requirement already satisfied: statsmodels>=0.12.1 in /usr/local/lib/python3.10/dist-packages (from pycaret) (0.14.0)\n",
            "Requirement already satisfied: sktime!=0.17.1,!=0.17.2,!=0.18.0,>=0.16.1 in /usr/local/lib/python3.10/dist-packages (from pycaret) (0.22.0)\n",
            "Requirement already satisfied: tbats>=1.1.3 in /usr/local/lib/python3.10/dist-packages (from pycaret) (1.1.3)\n",
            "Requirement already satisfied: pmdarima!=1.8.1,<3.0.0,>=1.8.0 in /usr/local/lib/python3.10/dist-packages (from pycaret) (2.0.3)\n",
            "Requirement already satisfied: wurlitzer in /usr/local/lib/python3.10/dist-packages (from pycaret) (3.0.3)\n",
            "Requirement already satisfied: patsy>=0.5.1 in /usr/local/lib/python3.10/dist-packages (from category-encoders>=2.4.0->pycaret) (0.5.3)\n",
            "Requirement already satisfied: packaging in /usr/local/lib/python3.10/dist-packages (from deprecation>=2.1.0->pycaret) (21.3)\n",
            "Requirement already satisfied: threadpoolctl>=2.0.0 in /usr/local/lib/python3.10/dist-packages (from imbalanced-learn>=0.8.1->pycaret) (3.2.0)\n",
            "Requirement already satisfied: zipp>=0.5 in /usr/local/lib/python3.10/dist-packages (from importlib-metadata>=4.12.0->pycaret) (3.16.2)\n",
            "Requirement already satisfied: setuptools>=18.5 in /usr/local/lib/python3.10/dist-packages (from ipython>=5.5.0->pycaret) (67.7.2)\n",
            "Requirement already satisfied: jedi>=0.16 in /usr/local/lib/python3.10/dist-packages (from ipython>=5.5.0->pycaret) (0.19.0)\n",
            "Requirement already satisfied: decorator in /usr/local/lib/python3.10/dist-packages (from ipython>=5.5.0->pycaret) (4.4.2)\n",
            "Requirement already satisfied: pickleshare in /usr/local/lib/python3.10/dist-packages (from ipython>=5.5.0->pycaret) (0.7.5)\n",
            "Requirement already satisfied: traitlets>=4.2 in /usr/local/lib/python3.10/dist-packages (from ipython>=5.5.0->pycaret) (5.7.1)\n",
            "Requirement already satisfied: prompt-toolkit!=3.0.0,!=3.0.1,<3.1.0,>=2.0.0 in /usr/local/lib/python3.10/dist-packages (from ipython>=5.5.0->pycaret) (3.0.39)\n",
            "Requirement already satisfied: pygments in /usr/local/lib/python3.10/dist-packages (from ipython>=5.5.0->pycaret) (2.16.1)\n",
            "Requirement already satisfied: backcall in /usr/local/lib/python3.10/dist-packages (from ipython>=5.5.0->pycaret) (0.2.0)\n",
            "Requirement already satisfied: matplotlib-inline in /usr/local/lib/python3.10/dist-packages (from ipython>=5.5.0->pycaret) (0.1.6)\n",
            "Requirement already satisfied: pexpect>4.3 in /usr/local/lib/python3.10/dist-packages (from ipython>=5.5.0->pycaret) (4.8.0)\n",
            "Requirement already satisfied: ipykernel>=4.5.1 in /usr/local/lib/python3.10/dist-packages (from ipywidgets>=7.6.5->pycaret) (5.5.6)\n",
            "Requirement already satisfied: ipython-genutils~=0.2.0 in /usr/local/lib/python3.10/dist-packages (from ipywidgets>=7.6.5->pycaret) (0.2.0)\n",
            "Requirement already satisfied: widgetsnbextension~=3.6.0 in /usr/local/lib/python3.10/dist-packages (from ipywidgets>=7.6.5->pycaret) (3.6.5)\n",
            "Requirement already satisfied: jupyterlab-widgets>=1.0.0 in /usr/local/lib/python3.10/dist-packages (from ipywidgets>=7.6.5->pycaret) (3.0.8)\n",
            "Requirement already satisfied: contourpy>=1.0.1 in /usr/local/lib/python3.10/dist-packages (from matplotlib>=3.3.0->pycaret) (1.1.0)\n",
            "Requirement already satisfied: cycler>=0.10 in /usr/local/lib/python3.10/dist-packages (from matplotlib>=3.3.0->pycaret) (0.11.0)\n",
            "Requirement already satisfied: fonttools>=4.22.0 in /usr/local/lib/python3.10/dist-packages (from matplotlib>=3.3.0->pycaret) (4.42.1)\n",
            "Requirement already satisfied: kiwisolver>=1.0.1 in /usr/local/lib/python3.10/dist-packages (from matplotlib>=3.3.0->pycaret) (1.4.5)\n",
            "Requirement already satisfied: pillow>=6.2.0 in /usr/local/lib/python3.10/dist-packages (from matplotlib>=3.3.0->pycaret) (9.4.0)\n",
            "Requirement already satisfied: pyparsing>=2.3.1 in /usr/local/lib/python3.10/dist-packages (from matplotlib>=3.3.0->pycaret) (3.1.1)\n",
            "Requirement already satisfied: python-dateutil>=2.7 in /usr/local/lib/python3.10/dist-packages (from matplotlib>=3.3.0->pycaret) (2.8.2)\n",
            "Requirement already satisfied: fastjsonschema in /usr/local/lib/python3.10/dist-packages (from nbformat>=4.2.0->pycaret) (2.18.0)\n",
            "Requirement already satisfied: jsonschema>=2.6 in /usr/local/lib/python3.10/dist-packages (from nbformat>=4.2.0->pycaret) (4.19.0)\n",
            "Requirement already satisfied: jupyter-core in /usr/local/lib/python3.10/dist-packages (from nbformat>=4.2.0->pycaret) (5.3.1)\n",
            "Requirement already satisfied: llvmlite<0.40,>=0.39.0dev0 in /usr/local/lib/python3.10/dist-packages (from numba>=0.55.0->pycaret) (0.39.1)\n",
            "Requirement already satisfied: pytz>=2020.1 in /usr/local/lib/python3.10/dist-packages (from pandas<2.0.0,>=1.3.0->pycaret) (2022.7.1)\n",
            "Requirement already satisfied: tenacity>=6.2.0 in /usr/local/lib/python3.10/dist-packages (from plotly>=5.0.0->pycaret) (8.2.3)\n",
            "Requirement already satisfied: dash<3.0.0,>=2.11.0 in /usr/local/lib/python3.10/dist-packages (from plotly-resampler>=0.8.3.1->pycaret) (2.13.0)\n",
            "Requirement already satisfied: orjson<4.0.0,>=3.8.0 in /usr/local/lib/python3.10/dist-packages (from plotly-resampler>=0.8.3.1->pycaret) (3.9.7)\n",
            "Requirement already satisfied: trace-updater>=0.0.8 in /usr/local/lib/python3.10/dist-packages (from plotly-resampler>=0.8.3.1->pycaret) (0.0.9.1)\n",
            "Requirement already satisfied: tsdownsample==0.1.2 in /usr/local/lib/python3.10/dist-packages (from plotly-resampler>=0.8.3.1->pycaret) (0.1.2)\n",
            "Requirement already satisfied: Cython!=0.29.18,!=0.29.31,>=0.29 in /usr/local/lib/python3.10/dist-packages (from pmdarima!=1.8.1,<3.0.0,>=1.8.0->pycaret) (0.29.36)\n",
            "Requirement already satisfied: urllib3 in /usr/local/lib/python3.10/dist-packages (from pmdarima!=1.8.1,<3.0.0,>=1.8.0->pycaret) (1.26.16)\n",
            "Requirement already satisfied: six in /usr/local/lib/python3.10/dist-packages (from pyod>=1.0.8->pycaret) (1.16.0)\n",
            "Requirement already satisfied: charset-normalizer<4,>=2 in /usr/local/lib/python3.10/dist-packages (from requests>=2.27.1->pycaret) (3.2.0)\n",
            "Requirement already satisfied: idna<4,>=2.5 in /usr/local/lib/python3.10/dist-packages (from requests>=2.27.1->pycaret) (3.4)\n",
            "Requirement already satisfied: certifi>=2017.4.17 in /usr/local/lib/python3.10/dist-packages (from requests>=2.27.1->pycaret) (2023.7.22)\n",
            "Requirement already satisfied: scikit-base<0.6.0 in /usr/local/lib/python3.10/dist-packages (from sktime!=0.17.1,!=0.17.2,!=0.18.0,>=0.16.1->pycaret) (0.5.1)\n",
            "Requirement already satisfied: Flask<2.3.0,>=1.0.4 in /usr/local/lib/python3.10/dist-packages (from dash<3.0.0,>=2.11.0->plotly-resampler>=0.8.3.1->pycaret) (2.2.3)\n",
            "Requirement already satisfied: Werkzeug<2.3.0 in /usr/local/lib/python3.10/dist-packages (from dash<3.0.0,>=2.11.0->plotly-resampler>=0.8.3.1->pycaret) (2.2.3)\n",
            "Requirement already satisfied: dash-html-components==2.0.0 in /usr/local/lib/python3.10/dist-packages (from dash<3.0.0,>=2.11.0->plotly-resampler>=0.8.3.1->pycaret) (2.0.0)\n",
            "Requirement already satisfied: dash-core-components==2.0.0 in /usr/local/lib/python3.10/dist-packages (from dash<3.0.0,>=2.11.0->plotly-resampler>=0.8.3.1->pycaret) (2.0.0)\n",
            "Requirement already satisfied: dash-table==5.0.0 in /usr/local/lib/python3.10/dist-packages (from dash<3.0.0,>=2.11.0->plotly-resampler>=0.8.3.1->pycaret) (5.0.0)\n",
            "Requirement already satisfied: typing-extensions>=4.1.1 in /usr/local/lib/python3.10/dist-packages (from dash<3.0.0,>=2.11.0->plotly-resampler>=0.8.3.1->pycaret) (4.5.0)\n",
            "Requirement already satisfied: retrying in /usr/local/lib/python3.10/dist-packages (from dash<3.0.0,>=2.11.0->plotly-resampler>=0.8.3.1->pycaret) (1.3.4)\n",
            "Requirement already satisfied: ansi2html in /usr/local/lib/python3.10/dist-packages (from dash<3.0.0,>=2.11.0->plotly-resampler>=0.8.3.1->pycaret) (1.8.0)\n",
            "Requirement already satisfied: nest-asyncio in /usr/local/lib/python3.10/dist-packages (from dash<3.0.0,>=2.11.0->plotly-resampler>=0.8.3.1->pycaret) (1.5.7)\n",
            "Requirement already satisfied: jupyter-client in /usr/local/lib/python3.10/dist-packages (from ipykernel>=4.5.1->ipywidgets>=7.6.5->pycaret) (6.1.12)\n",
            "Requirement already satisfied: tornado>=4.2 in /usr/local/lib/python3.10/dist-packages (from ipykernel>=4.5.1->ipywidgets>=7.6.5->pycaret) (6.3.2)\n",
            "Requirement already satisfied: parso<0.9.0,>=0.8.3 in /usr/local/lib/python3.10/dist-packages (from jedi>=0.16->ipython>=5.5.0->pycaret) (0.8.3)\n",
            "Requirement already satisfied: attrs>=22.2.0 in /usr/local/lib/python3.10/dist-packages (from jsonschema>=2.6->nbformat>=4.2.0->pycaret) (23.1.0)\n",
            "Requirement already satisfied: jsonschema-specifications>=2023.03.6 in /usr/local/lib/python3.10/dist-packages (from jsonschema>=2.6->nbformat>=4.2.0->pycaret) (2023.7.1)\n",
            "Requirement already satisfied: referencing>=0.28.4 in /usr/local/lib/python3.10/dist-packages (from jsonschema>=2.6->nbformat>=4.2.0->pycaret) (0.30.2)\n",
            "Requirement already satisfied: rpds-py>=0.7.1 in /usr/local/lib/python3.10/dist-packages (from jsonschema>=2.6->nbformat>=4.2.0->pycaret) (0.10.2)\n",
            "Requirement already satisfied: ptyprocess>=0.5 in /usr/local/lib/python3.10/dist-packages (from pexpect>4.3->ipython>=5.5.0->pycaret) (0.7.0)\n",
            "Requirement already satisfied: wcwidth in /usr/local/lib/python3.10/dist-packages (from prompt-toolkit!=3.0.0,!=3.0.1,<3.1.0,>=2.0.0->ipython>=5.5.0->pycaret) (0.2.6)\n",
            "Requirement already satisfied: notebook>=4.4.1 in /usr/local/lib/python3.10/dist-packages (from widgetsnbextension~=3.6.0->ipywidgets>=7.6.5->pycaret) (6.5.5)\n",
            "Requirement already satisfied: platformdirs>=2.5 in /usr/local/lib/python3.10/dist-packages (from jupyter-core->nbformat>=4.2.0->pycaret) (3.10.0)\n",
            "Requirement already satisfied: itsdangerous>=2.0 in /usr/local/lib/python3.10/dist-packages (from Flask<2.3.0,>=1.0.4->dash<3.0.0,>=2.11.0->plotly-resampler>=0.8.3.1->pycaret) (2.1.2)\n",
            "Requirement already satisfied: click>=8.0 in /usr/local/lib/python3.10/dist-packages (from Flask<2.3.0,>=1.0.4->dash<3.0.0,>=2.11.0->plotly-resampler>=0.8.3.1->pycaret) (8.1.7)\n",
            "Requirement already satisfied: pyzmq<25,>=17 in /usr/local/lib/python3.10/dist-packages (from notebook>=4.4.1->widgetsnbextension~=3.6.0->ipywidgets>=7.6.5->pycaret) (23.2.1)\n",
            "Requirement already satisfied: argon2-cffi in /usr/local/lib/python3.10/dist-packages (from notebook>=4.4.1->widgetsnbextension~=3.6.0->ipywidgets>=7.6.5->pycaret) (23.1.0)\n",
            "Requirement already satisfied: nbconvert>=5 in /usr/local/lib/python3.10/dist-packages (from notebook>=4.4.1->widgetsnbextension~=3.6.0->ipywidgets>=7.6.5->pycaret) (6.5.4)\n",
            "Requirement already satisfied: Send2Trash>=1.8.0 in /usr/local/lib/python3.10/dist-packages (from notebook>=4.4.1->widgetsnbextension~=3.6.0->ipywidgets>=7.6.5->pycaret) (1.8.2)\n",
            "Requirement already satisfied: terminado>=0.8.3 in /usr/local/lib/python3.10/dist-packages (from notebook>=4.4.1->widgetsnbextension~=3.6.0->ipywidgets>=7.6.5->pycaret) (0.17.1)\n",
            "Requirement already satisfied: prometheus-client in /usr/local/lib/python3.10/dist-packages (from notebook>=4.4.1->widgetsnbextension~=3.6.0->ipywidgets>=7.6.5->pycaret) (0.17.1)\n",
            "Requirement already satisfied: nbclassic>=0.4.7 in /usr/local/lib/python3.10/dist-packages (from notebook>=4.4.1->widgetsnbextension~=3.6.0->ipywidgets>=7.6.5->pycaret) (1.0.0)\n",
            "Requirement already satisfied: jupyter-server>=1.8 in /usr/local/lib/python3.10/dist-packages (from nbclassic>=0.4.7->notebook>=4.4.1->widgetsnbextension~=3.6.0->ipywidgets>=7.6.5->pycaret) (1.24.0)\n",
            "Requirement already satisfied: notebook-shim>=0.2.3 in /usr/local/lib/python3.10/dist-packages (from nbclassic>=0.4.7->notebook>=4.4.1->widgetsnbextension~=3.6.0->ipywidgets>=7.6.5->pycaret) (0.2.3)\n",
            "Requirement already satisfied: lxml in /usr/local/lib/python3.10/dist-packages (from nbconvert>=5->notebook>=4.4.1->widgetsnbextension~=3.6.0->ipywidgets>=7.6.5->pycaret) (4.9.3)\n",
            "Requirement already satisfied: beautifulsoup4 in /usr/local/lib/python3.10/dist-packages (from nbconvert>=5->notebook>=4.4.1->widgetsnbextension~=3.6.0->ipywidgets>=7.6.5->pycaret) (4.11.2)\n",
            "Requirement already satisfied: bleach in /usr/local/lib/python3.10/dist-packages (from nbconvert>=5->notebook>=4.4.1->widgetsnbextension~=3.6.0->ipywidgets>=7.6.5->pycaret) (6.0.0)\n",
            "Requirement already satisfied: defusedxml in /usr/local/lib/python3.10/dist-packages (from nbconvert>=5->notebook>=4.4.1->widgetsnbextension~=3.6.0->ipywidgets>=7.6.5->pycaret) (0.7.1)\n",
            "Requirement already satisfied: entrypoints>=0.2.2 in /usr/local/lib/python3.10/dist-packages (from nbconvert>=5->notebook>=4.4.1->widgetsnbextension~=3.6.0->ipywidgets>=7.6.5->pycaret) (0.4)\n",
            "Requirement already satisfied: jupyterlab-pygments in /usr/local/lib/python3.10/dist-packages (from nbconvert>=5->notebook>=4.4.1->widgetsnbextension~=3.6.0->ipywidgets>=7.6.5->pycaret) (0.2.2)\n",
            "Requirement already satisfied: mistune<2,>=0.8.1 in /usr/local/lib/python3.10/dist-packages (from nbconvert>=5->notebook>=4.4.1->widgetsnbextension~=3.6.0->ipywidgets>=7.6.5->pycaret) (0.8.4)\n",
            "Requirement already satisfied: nbclient>=0.5.0 in /usr/local/lib/python3.10/dist-packages (from nbconvert>=5->notebook>=4.4.1->widgetsnbextension~=3.6.0->ipywidgets>=7.6.5->pycaret) (0.8.0)\n",
            "Requirement already satisfied: pandocfilters>=1.4.1 in /usr/local/lib/python3.10/dist-packages (from nbconvert>=5->notebook>=4.4.1->widgetsnbextension~=3.6.0->ipywidgets>=7.6.5->pycaret) (1.5.0)\n",
            "Requirement already satisfied: tinycss2 in /usr/local/lib/python3.10/dist-packages (from nbconvert>=5->notebook>=4.4.1->widgetsnbextension~=3.6.0->ipywidgets>=7.6.5->pycaret) (1.2.1)\n",
            "Requirement already satisfied: argon2-cffi-bindings in /usr/local/lib/python3.10/dist-packages (from argon2-cffi->notebook>=4.4.1->widgetsnbextension~=3.6.0->ipywidgets>=7.6.5->pycaret) (21.2.0)\n",
            "Requirement already satisfied: anyio<4,>=3.1.0 in /usr/local/lib/python3.10/dist-packages (from jupyter-server>=1.8->nbclassic>=0.4.7->notebook>=4.4.1->widgetsnbextension~=3.6.0->ipywidgets>=7.6.5->pycaret) (3.7.1)\n",
            "Requirement already satisfied: websocket-client in /usr/local/lib/python3.10/dist-packages (from jupyter-server>=1.8->nbclassic>=0.4.7->notebook>=4.4.1->widgetsnbextension~=3.6.0->ipywidgets>=7.6.5->pycaret) (1.6.2)\n",
            "Requirement already satisfied: cffi>=1.0.1 in /usr/local/lib/python3.10/dist-packages (from argon2-cffi-bindings->argon2-cffi->notebook>=4.4.1->widgetsnbextension~=3.6.0->ipywidgets>=7.6.5->pycaret) (1.15.1)\n",
            "Requirement already satisfied: soupsieve>1.2 in /usr/local/lib/python3.10/dist-packages (from beautifulsoup4->nbconvert>=5->notebook>=4.4.1->widgetsnbextension~=3.6.0->ipywidgets>=7.6.5->pycaret) (2.5)\n",
            "Requirement already satisfied: webencodings in /usr/local/lib/python3.10/dist-packages (from bleach->nbconvert>=5->notebook>=4.4.1->widgetsnbextension~=3.6.0->ipywidgets>=7.6.5->pycaret) (0.5.1)\n",
            "Requirement already satisfied: sniffio>=1.1 in /usr/local/lib/python3.10/dist-packages (from anyio<4,>=3.1.0->jupyter-server>=1.8->nbclassic>=0.4.7->notebook>=4.4.1->widgetsnbextension~=3.6.0->ipywidgets>=7.6.5->pycaret) (1.3.0)\n",
            "Requirement already satisfied: exceptiongroup in /usr/local/lib/python3.10/dist-packages (from anyio<4,>=3.1.0->jupyter-server>=1.8->nbclassic>=0.4.7->notebook>=4.4.1->widgetsnbextension~=3.6.0->ipywidgets>=7.6.5->pycaret) (1.1.3)\n",
            "Requirement already satisfied: pycparser in /usr/local/lib/python3.10/dist-packages (from cffi>=1.0.1->argon2-cffi-bindings->argon2-cffi->notebook>=4.4.1->widgetsnbextension~=3.6.0->ipywidgets>=7.6.5->pycaret) (2.21)\n",
            "Installing collected packages: pycaret\n",
            "Successfully installed pycaret-3.0.4\n"
          ]
        }
      ]
    },
    {
      "cell_type": "code",
      "execution_count": 8,
      "metadata": {
        "colab": {
          "base_uri": "https://localhost:8080/"
        },
        "id": "mDytBJBkYMHy",
        "outputId": "c910713f-335f-4e97-d021-4d26181ea4ec"
      },
      "outputs": [
        {
          "output_type": "stream",
          "name": "stdout",
          "text": [
            "Drive already mounted at /content/drive; to attempt to forcibly remount, call drive.mount(\"/content/drive\", force_remount=True).\n"
          ]
        }
      ],
      "source": [
        "from google.colab import drive\n",
        "drive.mount('/content/drive')\n",
        "import pandas as p"
      ]
    },
    {
      "cell_type": "markdown",
      "source": [
        "# **Multiclass Classification**"
      ],
      "metadata": {
        "id": "bNhfy_BvZleX"
      }
    },
    {
      "cell_type": "code",
      "source": [
        "df = p.read_csv('/content/drive/MyDrive/Data_Mining_CMPE_255/drug200.csv')\n",
        "from pycaret.classification import *"
      ],
      "metadata": {
        "id": "oDUHuwr-ZbEE"
      },
      "execution_count": 9,
      "outputs": []
    },
    {
      "cell_type": "markdown",
      "source": [
        "## **Setup**"
      ],
      "metadata": {
        "id": "6xxbqj_IbI_p"
      }
    },
    {
      "cell_type": "code",
      "source": [
        "multiclass = ClassificationExperiment()\n",
        "multiclass = setup(df, target='Drug')\n",
        "multiclass.setup(df, target= 'Drug')"
      ],
      "metadata": {
        "colab": {
          "base_uri": "https://localhost:8080/",
          "height": 1000
        },
        "id": "jGmBVkolbHY_",
        "outputId": "97d5719c-92d3-4747-86ff-3c4731384a47"
      },
      "execution_count": 10,
      "outputs": [
        {
          "output_type": "display_data",
          "data": {
            "text/plain": [
              "<pandas.io.formats.style.Styler at 0x7981e22c3df0>"
            ],
            "text/html": [
              "<style type=\"text/css\">\n",
              "#T_ebd35_row11_col1 {\n",
              "  background-color: lightgreen;\n",
              "}\n",
              "</style>\n",
              "<table id=\"T_ebd35\" class=\"dataframe\">\n",
              "  <thead>\n",
              "    <tr>\n",
              "      <th class=\"blank level0\" >&nbsp;</th>\n",
              "      <th id=\"T_ebd35_level0_col0\" class=\"col_heading level0 col0\" >Description</th>\n",
              "      <th id=\"T_ebd35_level0_col1\" class=\"col_heading level0 col1\" >Value</th>\n",
              "    </tr>\n",
              "  </thead>\n",
              "  <tbody>\n",
              "    <tr>\n",
              "      <th id=\"T_ebd35_level0_row0\" class=\"row_heading level0 row0\" >0</th>\n",
              "      <td id=\"T_ebd35_row0_col0\" class=\"data row0 col0\" >Session id</td>\n",
              "      <td id=\"T_ebd35_row0_col1\" class=\"data row0 col1\" >8978</td>\n",
              "    </tr>\n",
              "    <tr>\n",
              "      <th id=\"T_ebd35_level0_row1\" class=\"row_heading level0 row1\" >1</th>\n",
              "      <td id=\"T_ebd35_row1_col0\" class=\"data row1 col0\" >Target</td>\n",
              "      <td id=\"T_ebd35_row1_col1\" class=\"data row1 col1\" >Drug</td>\n",
              "    </tr>\n",
              "    <tr>\n",
              "      <th id=\"T_ebd35_level0_row2\" class=\"row_heading level0 row2\" >2</th>\n",
              "      <td id=\"T_ebd35_row2_col0\" class=\"data row2 col0\" >Target type</td>\n",
              "      <td id=\"T_ebd35_row2_col1\" class=\"data row2 col1\" >Multiclass</td>\n",
              "    </tr>\n",
              "    <tr>\n",
              "      <th id=\"T_ebd35_level0_row3\" class=\"row_heading level0 row3\" >3</th>\n",
              "      <td id=\"T_ebd35_row3_col0\" class=\"data row3 col0\" >Target mapping</td>\n",
              "      <td id=\"T_ebd35_row3_col1\" class=\"data row3 col1\" >DrugY: 0, drugA: 1, drugB: 2, drugC: 3, drugX: 4</td>\n",
              "    </tr>\n",
              "    <tr>\n",
              "      <th id=\"T_ebd35_level0_row4\" class=\"row_heading level0 row4\" >4</th>\n",
              "      <td id=\"T_ebd35_row4_col0\" class=\"data row4 col0\" >Original data shape</td>\n",
              "      <td id=\"T_ebd35_row4_col1\" class=\"data row4 col1\" >(200, 6)</td>\n",
              "    </tr>\n",
              "    <tr>\n",
              "      <th id=\"T_ebd35_level0_row5\" class=\"row_heading level0 row5\" >5</th>\n",
              "      <td id=\"T_ebd35_row5_col0\" class=\"data row5 col0\" >Transformed data shape</td>\n",
              "      <td id=\"T_ebd35_row5_col1\" class=\"data row5 col1\" >(200, 8)</td>\n",
              "    </tr>\n",
              "    <tr>\n",
              "      <th id=\"T_ebd35_level0_row6\" class=\"row_heading level0 row6\" >6</th>\n",
              "      <td id=\"T_ebd35_row6_col0\" class=\"data row6 col0\" >Transformed train set shape</td>\n",
              "      <td id=\"T_ebd35_row6_col1\" class=\"data row6 col1\" >(140, 8)</td>\n",
              "    </tr>\n",
              "    <tr>\n",
              "      <th id=\"T_ebd35_level0_row7\" class=\"row_heading level0 row7\" >7</th>\n",
              "      <td id=\"T_ebd35_row7_col0\" class=\"data row7 col0\" >Transformed test set shape</td>\n",
              "      <td id=\"T_ebd35_row7_col1\" class=\"data row7 col1\" >(60, 8)</td>\n",
              "    </tr>\n",
              "    <tr>\n",
              "      <th id=\"T_ebd35_level0_row8\" class=\"row_heading level0 row8\" >8</th>\n",
              "      <td id=\"T_ebd35_row8_col0\" class=\"data row8 col0\" >Ordinal features</td>\n",
              "      <td id=\"T_ebd35_row8_col1\" class=\"data row8 col1\" >2</td>\n",
              "    </tr>\n",
              "    <tr>\n",
              "      <th id=\"T_ebd35_level0_row9\" class=\"row_heading level0 row9\" >9</th>\n",
              "      <td id=\"T_ebd35_row9_col0\" class=\"data row9 col0\" >Numeric features</td>\n",
              "      <td id=\"T_ebd35_row9_col1\" class=\"data row9 col1\" >2</td>\n",
              "    </tr>\n",
              "    <tr>\n",
              "      <th id=\"T_ebd35_level0_row10\" class=\"row_heading level0 row10\" >10</th>\n",
              "      <td id=\"T_ebd35_row10_col0\" class=\"data row10 col0\" >Categorical features</td>\n",
              "      <td id=\"T_ebd35_row10_col1\" class=\"data row10 col1\" >3</td>\n",
              "    </tr>\n",
              "    <tr>\n",
              "      <th id=\"T_ebd35_level0_row11\" class=\"row_heading level0 row11\" >11</th>\n",
              "      <td id=\"T_ebd35_row11_col0\" class=\"data row11 col0\" >Preprocess</td>\n",
              "      <td id=\"T_ebd35_row11_col1\" class=\"data row11 col1\" >True</td>\n",
              "    </tr>\n",
              "    <tr>\n",
              "      <th id=\"T_ebd35_level0_row12\" class=\"row_heading level0 row12\" >12</th>\n",
              "      <td id=\"T_ebd35_row12_col0\" class=\"data row12 col0\" >Imputation type</td>\n",
              "      <td id=\"T_ebd35_row12_col1\" class=\"data row12 col1\" >simple</td>\n",
              "    </tr>\n",
              "    <tr>\n",
              "      <th id=\"T_ebd35_level0_row13\" class=\"row_heading level0 row13\" >13</th>\n",
              "      <td id=\"T_ebd35_row13_col0\" class=\"data row13 col0\" >Numeric imputation</td>\n",
              "      <td id=\"T_ebd35_row13_col1\" class=\"data row13 col1\" >mean</td>\n",
              "    </tr>\n",
              "    <tr>\n",
              "      <th id=\"T_ebd35_level0_row14\" class=\"row_heading level0 row14\" >14</th>\n",
              "      <td id=\"T_ebd35_row14_col0\" class=\"data row14 col0\" >Categorical imputation</td>\n",
              "      <td id=\"T_ebd35_row14_col1\" class=\"data row14 col1\" >mode</td>\n",
              "    </tr>\n",
              "    <tr>\n",
              "      <th id=\"T_ebd35_level0_row15\" class=\"row_heading level0 row15\" >15</th>\n",
              "      <td id=\"T_ebd35_row15_col0\" class=\"data row15 col0\" >Maximum one-hot encoding</td>\n",
              "      <td id=\"T_ebd35_row15_col1\" class=\"data row15 col1\" >25</td>\n",
              "    </tr>\n",
              "    <tr>\n",
              "      <th id=\"T_ebd35_level0_row16\" class=\"row_heading level0 row16\" >16</th>\n",
              "      <td id=\"T_ebd35_row16_col0\" class=\"data row16 col0\" >Encoding method</td>\n",
              "      <td id=\"T_ebd35_row16_col1\" class=\"data row16 col1\" >None</td>\n",
              "    </tr>\n",
              "    <tr>\n",
              "      <th id=\"T_ebd35_level0_row17\" class=\"row_heading level0 row17\" >17</th>\n",
              "      <td id=\"T_ebd35_row17_col0\" class=\"data row17 col0\" >Fold Generator</td>\n",
              "      <td id=\"T_ebd35_row17_col1\" class=\"data row17 col1\" >StratifiedKFold</td>\n",
              "    </tr>\n",
              "    <tr>\n",
              "      <th id=\"T_ebd35_level0_row18\" class=\"row_heading level0 row18\" >18</th>\n",
              "      <td id=\"T_ebd35_row18_col0\" class=\"data row18 col0\" >Fold Number</td>\n",
              "      <td id=\"T_ebd35_row18_col1\" class=\"data row18 col1\" >10</td>\n",
              "    </tr>\n",
              "    <tr>\n",
              "      <th id=\"T_ebd35_level0_row19\" class=\"row_heading level0 row19\" >19</th>\n",
              "      <td id=\"T_ebd35_row19_col0\" class=\"data row19 col0\" >CPU Jobs</td>\n",
              "      <td id=\"T_ebd35_row19_col1\" class=\"data row19 col1\" >-1</td>\n",
              "    </tr>\n",
              "    <tr>\n",
              "      <th id=\"T_ebd35_level0_row20\" class=\"row_heading level0 row20\" >20</th>\n",
              "      <td id=\"T_ebd35_row20_col0\" class=\"data row20 col0\" >Use GPU</td>\n",
              "      <td id=\"T_ebd35_row20_col1\" class=\"data row20 col1\" >False</td>\n",
              "    </tr>\n",
              "    <tr>\n",
              "      <th id=\"T_ebd35_level0_row21\" class=\"row_heading level0 row21\" >21</th>\n",
              "      <td id=\"T_ebd35_row21_col0\" class=\"data row21 col0\" >Log Experiment</td>\n",
              "      <td id=\"T_ebd35_row21_col1\" class=\"data row21 col1\" >False</td>\n",
              "    </tr>\n",
              "    <tr>\n",
              "      <th id=\"T_ebd35_level0_row22\" class=\"row_heading level0 row22\" >22</th>\n",
              "      <td id=\"T_ebd35_row22_col0\" class=\"data row22 col0\" >Experiment Name</td>\n",
              "      <td id=\"T_ebd35_row22_col1\" class=\"data row22 col1\" >clf-default-name</td>\n",
              "    </tr>\n",
              "    <tr>\n",
              "      <th id=\"T_ebd35_level0_row23\" class=\"row_heading level0 row23\" >23</th>\n",
              "      <td id=\"T_ebd35_row23_col0\" class=\"data row23 col0\" >USI</td>\n",
              "      <td id=\"T_ebd35_row23_col1\" class=\"data row23 col1\" >385d</td>\n",
              "    </tr>\n",
              "  </tbody>\n",
              "</table>\n"
            ]
          },
          "metadata": {}
        },
        {
          "output_type": "display_data",
          "data": {
            "text/plain": [
              "<pandas.io.formats.style.Styler at 0x7981e21f20b0>"
            ],
            "text/html": [
              "<style type=\"text/css\">\n",
              "#T_c741a_row11_col1 {\n",
              "  background-color: lightgreen;\n",
              "}\n",
              "</style>\n",
              "<table id=\"T_c741a\" class=\"dataframe\">\n",
              "  <thead>\n",
              "    <tr>\n",
              "      <th class=\"blank level0\" >&nbsp;</th>\n",
              "      <th id=\"T_c741a_level0_col0\" class=\"col_heading level0 col0\" >Description</th>\n",
              "      <th id=\"T_c741a_level0_col1\" class=\"col_heading level0 col1\" >Value</th>\n",
              "    </tr>\n",
              "  </thead>\n",
              "  <tbody>\n",
              "    <tr>\n",
              "      <th id=\"T_c741a_level0_row0\" class=\"row_heading level0 row0\" >0</th>\n",
              "      <td id=\"T_c741a_row0_col0\" class=\"data row0 col0\" >Session id</td>\n",
              "      <td id=\"T_c741a_row0_col1\" class=\"data row0 col1\" >1786</td>\n",
              "    </tr>\n",
              "    <tr>\n",
              "      <th id=\"T_c741a_level0_row1\" class=\"row_heading level0 row1\" >1</th>\n",
              "      <td id=\"T_c741a_row1_col0\" class=\"data row1 col0\" >Target</td>\n",
              "      <td id=\"T_c741a_row1_col1\" class=\"data row1 col1\" >Drug</td>\n",
              "    </tr>\n",
              "    <tr>\n",
              "      <th id=\"T_c741a_level0_row2\" class=\"row_heading level0 row2\" >2</th>\n",
              "      <td id=\"T_c741a_row2_col0\" class=\"data row2 col0\" >Target type</td>\n",
              "      <td id=\"T_c741a_row2_col1\" class=\"data row2 col1\" >Multiclass</td>\n",
              "    </tr>\n",
              "    <tr>\n",
              "      <th id=\"T_c741a_level0_row3\" class=\"row_heading level0 row3\" >3</th>\n",
              "      <td id=\"T_c741a_row3_col0\" class=\"data row3 col0\" >Target mapping</td>\n",
              "      <td id=\"T_c741a_row3_col1\" class=\"data row3 col1\" >DrugY: 0, drugA: 1, drugB: 2, drugC: 3, drugX: 4</td>\n",
              "    </tr>\n",
              "    <tr>\n",
              "      <th id=\"T_c741a_level0_row4\" class=\"row_heading level0 row4\" >4</th>\n",
              "      <td id=\"T_c741a_row4_col0\" class=\"data row4 col0\" >Original data shape</td>\n",
              "      <td id=\"T_c741a_row4_col1\" class=\"data row4 col1\" >(200, 6)</td>\n",
              "    </tr>\n",
              "    <tr>\n",
              "      <th id=\"T_c741a_level0_row5\" class=\"row_heading level0 row5\" >5</th>\n",
              "      <td id=\"T_c741a_row5_col0\" class=\"data row5 col0\" >Transformed data shape</td>\n",
              "      <td id=\"T_c741a_row5_col1\" class=\"data row5 col1\" >(200, 8)</td>\n",
              "    </tr>\n",
              "    <tr>\n",
              "      <th id=\"T_c741a_level0_row6\" class=\"row_heading level0 row6\" >6</th>\n",
              "      <td id=\"T_c741a_row6_col0\" class=\"data row6 col0\" >Transformed train set shape</td>\n",
              "      <td id=\"T_c741a_row6_col1\" class=\"data row6 col1\" >(140, 8)</td>\n",
              "    </tr>\n",
              "    <tr>\n",
              "      <th id=\"T_c741a_level0_row7\" class=\"row_heading level0 row7\" >7</th>\n",
              "      <td id=\"T_c741a_row7_col0\" class=\"data row7 col0\" >Transformed test set shape</td>\n",
              "      <td id=\"T_c741a_row7_col1\" class=\"data row7 col1\" >(60, 8)</td>\n",
              "    </tr>\n",
              "    <tr>\n",
              "      <th id=\"T_c741a_level0_row8\" class=\"row_heading level0 row8\" >8</th>\n",
              "      <td id=\"T_c741a_row8_col0\" class=\"data row8 col0\" >Ordinal features</td>\n",
              "      <td id=\"T_c741a_row8_col1\" class=\"data row8 col1\" >2</td>\n",
              "    </tr>\n",
              "    <tr>\n",
              "      <th id=\"T_c741a_level0_row9\" class=\"row_heading level0 row9\" >9</th>\n",
              "      <td id=\"T_c741a_row9_col0\" class=\"data row9 col0\" >Numeric features</td>\n",
              "      <td id=\"T_c741a_row9_col1\" class=\"data row9 col1\" >2</td>\n",
              "    </tr>\n",
              "    <tr>\n",
              "      <th id=\"T_c741a_level0_row10\" class=\"row_heading level0 row10\" >10</th>\n",
              "      <td id=\"T_c741a_row10_col0\" class=\"data row10 col0\" >Categorical features</td>\n",
              "      <td id=\"T_c741a_row10_col1\" class=\"data row10 col1\" >3</td>\n",
              "    </tr>\n",
              "    <tr>\n",
              "      <th id=\"T_c741a_level0_row11\" class=\"row_heading level0 row11\" >11</th>\n",
              "      <td id=\"T_c741a_row11_col0\" class=\"data row11 col0\" >Preprocess</td>\n",
              "      <td id=\"T_c741a_row11_col1\" class=\"data row11 col1\" >True</td>\n",
              "    </tr>\n",
              "    <tr>\n",
              "      <th id=\"T_c741a_level0_row12\" class=\"row_heading level0 row12\" >12</th>\n",
              "      <td id=\"T_c741a_row12_col0\" class=\"data row12 col0\" >Imputation type</td>\n",
              "      <td id=\"T_c741a_row12_col1\" class=\"data row12 col1\" >simple</td>\n",
              "    </tr>\n",
              "    <tr>\n",
              "      <th id=\"T_c741a_level0_row13\" class=\"row_heading level0 row13\" >13</th>\n",
              "      <td id=\"T_c741a_row13_col0\" class=\"data row13 col0\" >Numeric imputation</td>\n",
              "      <td id=\"T_c741a_row13_col1\" class=\"data row13 col1\" >mean</td>\n",
              "    </tr>\n",
              "    <tr>\n",
              "      <th id=\"T_c741a_level0_row14\" class=\"row_heading level0 row14\" >14</th>\n",
              "      <td id=\"T_c741a_row14_col0\" class=\"data row14 col0\" >Categorical imputation</td>\n",
              "      <td id=\"T_c741a_row14_col1\" class=\"data row14 col1\" >mode</td>\n",
              "    </tr>\n",
              "    <tr>\n",
              "      <th id=\"T_c741a_level0_row15\" class=\"row_heading level0 row15\" >15</th>\n",
              "      <td id=\"T_c741a_row15_col0\" class=\"data row15 col0\" >Maximum one-hot encoding</td>\n",
              "      <td id=\"T_c741a_row15_col1\" class=\"data row15 col1\" >25</td>\n",
              "    </tr>\n",
              "    <tr>\n",
              "      <th id=\"T_c741a_level0_row16\" class=\"row_heading level0 row16\" >16</th>\n",
              "      <td id=\"T_c741a_row16_col0\" class=\"data row16 col0\" >Encoding method</td>\n",
              "      <td id=\"T_c741a_row16_col1\" class=\"data row16 col1\" >None</td>\n",
              "    </tr>\n",
              "    <tr>\n",
              "      <th id=\"T_c741a_level0_row17\" class=\"row_heading level0 row17\" >17</th>\n",
              "      <td id=\"T_c741a_row17_col0\" class=\"data row17 col0\" >Fold Generator</td>\n",
              "      <td id=\"T_c741a_row17_col1\" class=\"data row17 col1\" >StratifiedKFold</td>\n",
              "    </tr>\n",
              "    <tr>\n",
              "      <th id=\"T_c741a_level0_row18\" class=\"row_heading level0 row18\" >18</th>\n",
              "      <td id=\"T_c741a_row18_col0\" class=\"data row18 col0\" >Fold Number</td>\n",
              "      <td id=\"T_c741a_row18_col1\" class=\"data row18 col1\" >10</td>\n",
              "    </tr>\n",
              "    <tr>\n",
              "      <th id=\"T_c741a_level0_row19\" class=\"row_heading level0 row19\" >19</th>\n",
              "      <td id=\"T_c741a_row19_col0\" class=\"data row19 col0\" >CPU Jobs</td>\n",
              "      <td id=\"T_c741a_row19_col1\" class=\"data row19 col1\" >-1</td>\n",
              "    </tr>\n",
              "    <tr>\n",
              "      <th id=\"T_c741a_level0_row20\" class=\"row_heading level0 row20\" >20</th>\n",
              "      <td id=\"T_c741a_row20_col0\" class=\"data row20 col0\" >Use GPU</td>\n",
              "      <td id=\"T_c741a_row20_col1\" class=\"data row20 col1\" >False</td>\n",
              "    </tr>\n",
              "    <tr>\n",
              "      <th id=\"T_c741a_level0_row21\" class=\"row_heading level0 row21\" >21</th>\n",
              "      <td id=\"T_c741a_row21_col0\" class=\"data row21 col0\" >Log Experiment</td>\n",
              "      <td id=\"T_c741a_row21_col1\" class=\"data row21 col1\" >False</td>\n",
              "    </tr>\n",
              "    <tr>\n",
              "      <th id=\"T_c741a_level0_row22\" class=\"row_heading level0 row22\" >22</th>\n",
              "      <td id=\"T_c741a_row22_col0\" class=\"data row22 col0\" >Experiment Name</td>\n",
              "      <td id=\"T_c741a_row22_col1\" class=\"data row22 col1\" >clf-default-name</td>\n",
              "    </tr>\n",
              "    <tr>\n",
              "      <th id=\"T_c741a_level0_row23\" class=\"row_heading level0 row23\" >23</th>\n",
              "      <td id=\"T_c741a_row23_col0\" class=\"data row23 col0\" >USI</td>\n",
              "      <td id=\"T_c741a_row23_col1\" class=\"data row23 col1\" >6bb1</td>\n",
              "    </tr>\n",
              "  </tbody>\n",
              "</table>\n"
            ]
          },
          "metadata": {}
        },
        {
          "output_type": "execute_result",
          "data": {
            "text/plain": [
              "<pycaret.classification.oop.ClassificationExperiment at 0x798210442290>"
            ]
          },
          "metadata": {},
          "execution_count": 10
        }
      ]
    },
    {
      "cell_type": "markdown",
      "source": [
        "## **Comparing** **Models**"
      ],
      "metadata": {
        "id": "XftYE0pdbth0"
      }
    },
    {
      "cell_type": "code",
      "source": [
        "drug = multiclass.compare_models()"
      ],
      "metadata": {
        "colab": {
          "base_uri": "https://localhost:8080/",
          "height": 551,
          "referenced_widgets": [
            "2e357b4efc104ee1a20669d63ee15ec2",
            "014a481e5fd24fa7ae6fbe22bde28055",
            "1293aa3cd41d485f9cebfaa3987fc6e6",
            "6456d36cc90147889b50cfd73bbe1770",
            "e437bd8982bd410b8010af6d7ad60ea1",
            "466076f5fbb74f168c4c46be8b19b2a0",
            "c62a445e7d8546aebd80e664468635ed",
            "dc85da6cadb54d7aaf5319749d60d852",
            "1f8f22d9d87147269b62006f12e10614",
            "ad2c19854bcd4533b9d18fd5a7bbbb8b",
            "225878da1a3d4a7095bf53e029b60f3f"
          ]
        },
        "id": "iJXFfd6Qb0oO",
        "outputId": "d75c3924-001b-4ae3-dadf-22d6515a6909"
      },
      "execution_count": 11,
      "outputs": [
        {
          "output_type": "display_data",
          "data": {
            "text/plain": [
              "<IPython.core.display.HTML object>"
            ],
            "text/html": []
          },
          "metadata": {}
        },
        {
          "output_type": "display_data",
          "data": {
            "text/plain": [
              "<pandas.io.formats.style.Styler at 0x798203f37f10>"
            ],
            "text/html": [
              "<style type=\"text/css\">\n",
              "#T_e3980 th {\n",
              "  text-align: left;\n",
              "}\n",
              "#T_e3980_row0_col0, #T_e3980_row0_col2, #T_e3980_row1_col0, #T_e3980_row2_col0, #T_e3980_row2_col2, #T_e3980_row3_col0, #T_e3980_row4_col0, #T_e3980_row4_col1, #T_e3980_row4_col2, #T_e3980_row4_col3, #T_e3980_row4_col4, #T_e3980_row4_col5, #T_e3980_row4_col6, #T_e3980_row4_col7, #T_e3980_row5_col0, #T_e3980_row5_col1, #T_e3980_row5_col3, #T_e3980_row5_col4, #T_e3980_row5_col5, #T_e3980_row5_col6, #T_e3980_row5_col7, #T_e3980_row6_col0, #T_e3980_row6_col1, #T_e3980_row6_col2, #T_e3980_row6_col3, #T_e3980_row6_col4, #T_e3980_row6_col5, #T_e3980_row6_col6, #T_e3980_row6_col7, #T_e3980_row7_col0, #T_e3980_row7_col1, #T_e3980_row7_col2, #T_e3980_row7_col3, #T_e3980_row7_col4, #T_e3980_row7_col5, #T_e3980_row7_col6, #T_e3980_row7_col7, #T_e3980_row8_col0, #T_e3980_row8_col1, #T_e3980_row8_col2, #T_e3980_row8_col3, #T_e3980_row8_col4, #T_e3980_row8_col5, #T_e3980_row8_col6, #T_e3980_row8_col7, #T_e3980_row9_col0, #T_e3980_row9_col1, #T_e3980_row9_col2, #T_e3980_row9_col3, #T_e3980_row9_col4, #T_e3980_row9_col5, #T_e3980_row9_col6, #T_e3980_row9_col7, #T_e3980_row10_col0, #T_e3980_row10_col1, #T_e3980_row10_col2, #T_e3980_row10_col3, #T_e3980_row10_col4, #T_e3980_row10_col5, #T_e3980_row10_col6, #T_e3980_row10_col7, #T_e3980_row11_col0, #T_e3980_row11_col1, #T_e3980_row11_col2, #T_e3980_row11_col3, #T_e3980_row11_col4, #T_e3980_row11_col5, #T_e3980_row11_col6, #T_e3980_row11_col7, #T_e3980_row12_col0, #T_e3980_row12_col1, #T_e3980_row12_col2, #T_e3980_row12_col3, #T_e3980_row12_col4, #T_e3980_row12_col5, #T_e3980_row12_col6, #T_e3980_row12_col7, #T_e3980_row13_col0, #T_e3980_row13_col1, #T_e3980_row13_col2, #T_e3980_row13_col3, #T_e3980_row13_col4, #T_e3980_row13_col5, #T_e3980_row13_col6, #T_e3980_row13_col7, #T_e3980_row14_col0, #T_e3980_row14_col1, #T_e3980_row14_col2, #T_e3980_row14_col3, #T_e3980_row14_col4, #T_e3980_row14_col5, #T_e3980_row14_col6, #T_e3980_row14_col7, #T_e3980_row15_col0, #T_e3980_row15_col1, #T_e3980_row15_col2, #T_e3980_row15_col3, #T_e3980_row15_col4, #T_e3980_row15_col5, #T_e3980_row15_col6, #T_e3980_row15_col7 {\n",
              "  text-align: left;\n",
              "}\n",
              "#T_e3980_row0_col1, #T_e3980_row0_col3, #T_e3980_row0_col4, #T_e3980_row0_col5, #T_e3980_row0_col6, #T_e3980_row0_col7, #T_e3980_row1_col1, #T_e3980_row1_col2, #T_e3980_row1_col3, #T_e3980_row1_col4, #T_e3980_row1_col5, #T_e3980_row1_col6, #T_e3980_row1_col7, #T_e3980_row2_col1, #T_e3980_row2_col3, #T_e3980_row2_col4, #T_e3980_row2_col5, #T_e3980_row2_col6, #T_e3980_row2_col7, #T_e3980_row3_col1, #T_e3980_row3_col2, #T_e3980_row3_col3, #T_e3980_row3_col4, #T_e3980_row3_col5, #T_e3980_row3_col6, #T_e3980_row3_col7, #T_e3980_row5_col2 {\n",
              "  text-align: left;\n",
              "  background-color: yellow;\n",
              "}\n",
              "#T_e3980_row0_col8, #T_e3980_row1_col8, #T_e3980_row2_col8, #T_e3980_row3_col8, #T_e3980_row4_col8, #T_e3980_row5_col8, #T_e3980_row6_col8, #T_e3980_row7_col8, #T_e3980_row9_col8, #T_e3980_row10_col8, #T_e3980_row11_col8, #T_e3980_row12_col8, #T_e3980_row13_col8, #T_e3980_row14_col8, #T_e3980_row15_col8 {\n",
              "  text-align: left;\n",
              "  background-color: lightgrey;\n",
              "}\n",
              "#T_e3980_row8_col8 {\n",
              "  text-align: left;\n",
              "  background-color: yellow;\n",
              "  background-color: lightgrey;\n",
              "}\n",
              "</style>\n",
              "<table id=\"T_e3980\" class=\"dataframe\">\n",
              "  <thead>\n",
              "    <tr>\n",
              "      <th class=\"blank level0\" >&nbsp;</th>\n",
              "      <th id=\"T_e3980_level0_col0\" class=\"col_heading level0 col0\" >Model</th>\n",
              "      <th id=\"T_e3980_level0_col1\" class=\"col_heading level0 col1\" >Accuracy</th>\n",
              "      <th id=\"T_e3980_level0_col2\" class=\"col_heading level0 col2\" >AUC</th>\n",
              "      <th id=\"T_e3980_level0_col3\" class=\"col_heading level0 col3\" >Recall</th>\n",
              "      <th id=\"T_e3980_level0_col4\" class=\"col_heading level0 col4\" >Prec.</th>\n",
              "      <th id=\"T_e3980_level0_col5\" class=\"col_heading level0 col5\" >F1</th>\n",
              "      <th id=\"T_e3980_level0_col6\" class=\"col_heading level0 col6\" >Kappa</th>\n",
              "      <th id=\"T_e3980_level0_col7\" class=\"col_heading level0 col7\" >MCC</th>\n",
              "      <th id=\"T_e3980_level0_col8\" class=\"col_heading level0 col8\" >TT (Sec)</th>\n",
              "    </tr>\n",
              "  </thead>\n",
              "  <tbody>\n",
              "    <tr>\n",
              "      <th id=\"T_e3980_level0_row0\" class=\"row_heading level0 row0\" >dt</th>\n",
              "      <td id=\"T_e3980_row0_col0\" class=\"data row0 col0\" >Decision Tree Classifier</td>\n",
              "      <td id=\"T_e3980_row0_col1\" class=\"data row0 col1\" >0.9929</td>\n",
              "      <td id=\"T_e3980_row0_col2\" class=\"data row0 col2\" >0.9962</td>\n",
              "      <td id=\"T_e3980_row0_col3\" class=\"data row0 col3\" >0.9929</td>\n",
              "      <td id=\"T_e3980_row0_col4\" class=\"data row0 col4\" >0.9964</td>\n",
              "      <td id=\"T_e3980_row0_col5\" class=\"data row0 col5\" >0.9929</td>\n",
              "      <td id=\"T_e3980_row0_col6\" class=\"data row0 col6\" >0.9895</td>\n",
              "      <td id=\"T_e3980_row0_col7\" class=\"data row0 col7\" >0.9902</td>\n",
              "      <td id=\"T_e3980_row0_col8\" class=\"data row0 col8\" >0.4150</td>\n",
              "    </tr>\n",
              "    <tr>\n",
              "      <th id=\"T_e3980_level0_row1\" class=\"row_heading level0 row1\" >rf</th>\n",
              "      <td id=\"T_e3980_row1_col0\" class=\"data row1 col0\" >Random Forest Classifier</td>\n",
              "      <td id=\"T_e3980_row1_col1\" class=\"data row1 col1\" >0.9929</td>\n",
              "      <td id=\"T_e3980_row1_col2\" class=\"data row1 col2\" >1.0000</td>\n",
              "      <td id=\"T_e3980_row1_col3\" class=\"data row1 col3\" >0.9929</td>\n",
              "      <td id=\"T_e3980_row1_col4\" class=\"data row1 col4\" >0.9964</td>\n",
              "      <td id=\"T_e3980_row1_col5\" class=\"data row1 col5\" >0.9929</td>\n",
              "      <td id=\"T_e3980_row1_col6\" class=\"data row1 col6\" >0.9895</td>\n",
              "      <td id=\"T_e3980_row1_col7\" class=\"data row1 col7\" >0.9902</td>\n",
              "      <td id=\"T_e3980_row1_col8\" class=\"data row1 col8\" >0.7300</td>\n",
              "    </tr>\n",
              "    <tr>\n",
              "      <th id=\"T_e3980_level0_row2\" class=\"row_heading level0 row2\" >xgboost</th>\n",
              "      <td id=\"T_e3980_row2_col0\" class=\"data row2 col0\" >Extreme Gradient Boosting</td>\n",
              "      <td id=\"T_e3980_row2_col1\" class=\"data row2 col1\" >0.9929</td>\n",
              "      <td id=\"T_e3980_row2_col2\" class=\"data row2 col2\" >0.9994</td>\n",
              "      <td id=\"T_e3980_row2_col3\" class=\"data row2 col3\" >0.9929</td>\n",
              "      <td id=\"T_e3980_row2_col4\" class=\"data row2 col4\" >0.9964</td>\n",
              "      <td id=\"T_e3980_row2_col5\" class=\"data row2 col5\" >0.9929</td>\n",
              "      <td id=\"T_e3980_row2_col6\" class=\"data row2 col6\" >0.9895</td>\n",
              "      <td id=\"T_e3980_row2_col7\" class=\"data row2 col7\" >0.9902</td>\n",
              "      <td id=\"T_e3980_row2_col8\" class=\"data row2 col8\" >0.6810</td>\n",
              "    </tr>\n",
              "    <tr>\n",
              "      <th id=\"T_e3980_level0_row3\" class=\"row_heading level0 row3\" >catboost</th>\n",
              "      <td id=\"T_e3980_row3_col0\" class=\"data row3 col0\" >CatBoost Classifier</td>\n",
              "      <td id=\"T_e3980_row3_col1\" class=\"data row3 col1\" >0.9929</td>\n",
              "      <td id=\"T_e3980_row3_col2\" class=\"data row3 col2\" >1.0000</td>\n",
              "      <td id=\"T_e3980_row3_col3\" class=\"data row3 col3\" >0.9929</td>\n",
              "      <td id=\"T_e3980_row3_col4\" class=\"data row3 col4\" >0.9964</td>\n",
              "      <td id=\"T_e3980_row3_col5\" class=\"data row3 col5\" >0.9929</td>\n",
              "      <td id=\"T_e3980_row3_col6\" class=\"data row3 col6\" >0.9895</td>\n",
              "      <td id=\"T_e3980_row3_col7\" class=\"data row3 col7\" >0.9902</td>\n",
              "      <td id=\"T_e3980_row3_col8\" class=\"data row3 col8\" >2.4170</td>\n",
              "    </tr>\n",
              "    <tr>\n",
              "      <th id=\"T_e3980_level0_row4\" class=\"row_heading level0 row4\" >gbc</th>\n",
              "      <td id=\"T_e3980_row4_col0\" class=\"data row4 col0\" >Gradient Boosting Classifier</td>\n",
              "      <td id=\"T_e3980_row4_col1\" class=\"data row4 col1\" >0.9857</td>\n",
              "      <td id=\"T_e3980_row4_col2\" class=\"data row4 col2\" >0.9982</td>\n",
              "      <td id=\"T_e3980_row4_col3\" class=\"data row4 col3\" >0.9857</td>\n",
              "      <td id=\"T_e3980_row4_col4\" class=\"data row4 col4\" >0.9839</td>\n",
              "      <td id=\"T_e3980_row4_col5\" class=\"data row4 col5\" >0.9827</td>\n",
              "      <td id=\"T_e3980_row4_col6\" class=\"data row4 col6\" >0.9786</td>\n",
              "      <td id=\"T_e3980_row4_col7\" class=\"data row4 col7\" >0.9799</td>\n",
              "      <td id=\"T_e3980_row4_col8\" class=\"data row4 col8\" >2.8140</td>\n",
              "    </tr>\n",
              "    <tr>\n",
              "      <th id=\"T_e3980_level0_row5\" class=\"row_heading level0 row5\" >lightgbm</th>\n",
              "      <td id=\"T_e3980_row5_col0\" class=\"data row5 col0\" >Light Gradient Boosting Machine</td>\n",
              "      <td id=\"T_e3980_row5_col1\" class=\"data row5 col1\" >0.9857</td>\n",
              "      <td id=\"T_e3980_row5_col2\" class=\"data row5 col2\" >1.0000</td>\n",
              "      <td id=\"T_e3980_row5_col3\" class=\"data row5 col3\" >0.9857</td>\n",
              "      <td id=\"T_e3980_row5_col4\" class=\"data row5 col4\" >0.9929</td>\n",
              "      <td id=\"T_e3980_row5_col5\" class=\"data row5 col5\" >0.9866</td>\n",
              "      <td id=\"T_e3980_row5_col6\" class=\"data row5 col6\" >0.9801</td>\n",
              "      <td id=\"T_e3980_row5_col7\" class=\"data row5 col7\" >0.9815</td>\n",
              "      <td id=\"T_e3980_row5_col8\" class=\"data row5 col8\" >0.8470</td>\n",
              "    </tr>\n",
              "    <tr>\n",
              "      <th id=\"T_e3980_level0_row6\" class=\"row_heading level0 row6\" >lr</th>\n",
              "      <td id=\"T_e3980_row6_col0\" class=\"data row6 col0\" >Logistic Regression</td>\n",
              "      <td id=\"T_e3980_row6_col1\" class=\"data row6 col1\" >0.9786</td>\n",
              "      <td id=\"T_e3980_row6_col2\" class=\"data row6 col2\" >0.9994</td>\n",
              "      <td id=\"T_e3980_row6_col3\" class=\"data row6 col3\" >0.9786</td>\n",
              "      <td id=\"T_e3980_row6_col4\" class=\"data row6 col4\" >0.9893</td>\n",
              "      <td id=\"T_e3980_row6_col5\" class=\"data row6 col5\" >0.9794</td>\n",
              "      <td id=\"T_e3980_row6_col6\" class=\"data row6 col6\" >0.9692</td>\n",
              "      <td id=\"T_e3980_row6_col7\" class=\"data row6 col7\" >0.9712</td>\n",
              "      <td id=\"T_e3980_row6_col8\" class=\"data row6 col8\" >0.9720</td>\n",
              "    </tr>\n",
              "    <tr>\n",
              "      <th id=\"T_e3980_level0_row7\" class=\"row_heading level0 row7\" >et</th>\n",
              "      <td id=\"T_e3980_row7_col0\" class=\"data row7 col0\" >Extra Trees Classifier</td>\n",
              "      <td id=\"T_e3980_row7_col1\" class=\"data row7 col1\" >0.9571</td>\n",
              "      <td id=\"T_e3980_row7_col2\" class=\"data row7 col2\" >0.9986</td>\n",
              "      <td id=\"T_e3980_row7_col3\" class=\"data row7 col3\" >0.9571</td>\n",
              "      <td id=\"T_e3980_row7_col4\" class=\"data row7 col4\" >0.9750</td>\n",
              "      <td id=\"T_e3980_row7_col5\" class=\"data row7 col5\" >0.9596</td>\n",
              "      <td id=\"T_e3980_row7_col6\" class=\"data row7 col6\" >0.9392</td>\n",
              "      <td id=\"T_e3980_row7_col7\" class=\"data row7 col7\" >0.9444</td>\n",
              "      <td id=\"T_e3980_row7_col8\" class=\"data row7 col8\" >0.6130</td>\n",
              "    </tr>\n",
              "    <tr>\n",
              "      <th id=\"T_e3980_level0_row8\" class=\"row_heading level0 row8\" >ridge</th>\n",
              "      <td id=\"T_e3980_row8_col0\" class=\"data row8 col0\" >Ridge Classifier</td>\n",
              "      <td id=\"T_e3980_row8_col1\" class=\"data row8 col1\" >0.9000</td>\n",
              "      <td id=\"T_e3980_row8_col2\" class=\"data row8 col2\" >0.0000</td>\n",
              "      <td id=\"T_e3980_row8_col3\" class=\"data row8 col3\" >0.9000</td>\n",
              "      <td id=\"T_e3980_row8_col4\" class=\"data row8 col4\" >0.9026</td>\n",
              "      <td id=\"T_e3980_row8_col5\" class=\"data row8 col5\" >0.8868</td>\n",
              "      <td id=\"T_e3980_row8_col6\" class=\"data row8 col6\" >0.8578</td>\n",
              "      <td id=\"T_e3980_row8_col7\" class=\"data row8 col7\" >0.8727</td>\n",
              "      <td id=\"T_e3980_row8_col8\" class=\"data row8 col8\" >0.1810</td>\n",
              "    </tr>\n",
              "    <tr>\n",
              "      <th id=\"T_e3980_level0_row9\" class=\"row_heading level0 row9\" >ada</th>\n",
              "      <td id=\"T_e3980_row9_col0\" class=\"data row9 col0\" >Ada Boost Classifier</td>\n",
              "      <td id=\"T_e3980_row9_col1\" class=\"data row9 col1\" >0.8429</td>\n",
              "      <td id=\"T_e3980_row9_col2\" class=\"data row9 col2\" >0.9646</td>\n",
              "      <td id=\"T_e3980_row9_col3\" class=\"data row9 col3\" >0.8429</td>\n",
              "      <td id=\"T_e3980_row9_col4\" class=\"data row9 col4\" >0.7392</td>\n",
              "      <td id=\"T_e3980_row9_col5\" class=\"data row9 col5\" >0.7812</td>\n",
              "      <td id=\"T_e3980_row9_col6\" class=\"data row9 col6\" >0.7657</td>\n",
              "      <td id=\"T_e3980_row9_col7\" class=\"data row9 col7\" >0.7816</td>\n",
              "      <td id=\"T_e3980_row9_col8\" class=\"data row9 col8\" >0.8960</td>\n",
              "    </tr>\n",
              "    <tr>\n",
              "      <th id=\"T_e3980_level0_row10\" class=\"row_heading level0 row10\" >lda</th>\n",
              "      <td id=\"T_e3980_row10_col0\" class=\"data row10 col0\" >Linear Discriminant Analysis</td>\n",
              "      <td id=\"T_e3980_row10_col1\" class=\"data row10 col1\" >0.8286</td>\n",
              "      <td id=\"T_e3980_row10_col2\" class=\"data row10 col2\" >0.9874</td>\n",
              "      <td id=\"T_e3980_row10_col3\" class=\"data row10 col3\" >0.8286</td>\n",
              "      <td id=\"T_e3980_row10_col4\" class=\"data row10 col4\" >0.9190</td>\n",
              "      <td id=\"T_e3980_row10_col5\" class=\"data row10 col5\" >0.8364</td>\n",
              "      <td id=\"T_e3980_row10_col6\" class=\"data row10 col6\" >0.7723</td>\n",
              "      <td id=\"T_e3980_row10_col7\" class=\"data row10 col7\" >0.7963</td>\n",
              "      <td id=\"T_e3980_row10_col8\" class=\"data row10 col8\" >0.2460</td>\n",
              "    </tr>\n",
              "    <tr>\n",
              "      <th id=\"T_e3980_level0_row11\" class=\"row_heading level0 row11\" >nb</th>\n",
              "      <td id=\"T_e3980_row11_col0\" class=\"data row11 col0\" >Naive Bayes</td>\n",
              "      <td id=\"T_e3980_row11_col1\" class=\"data row11 col1\" >0.7500</td>\n",
              "      <td id=\"T_e3980_row11_col2\" class=\"data row11 col2\" >0.9060</td>\n",
              "      <td id=\"T_e3980_row11_col3\" class=\"data row11 col3\" >0.7500</td>\n",
              "      <td id=\"T_e3980_row11_col4\" class=\"data row11 col4\" >0.8799</td>\n",
              "      <td id=\"T_e3980_row11_col5\" class=\"data row11 col5\" >0.7370</td>\n",
              "      <td id=\"T_e3980_row11_col6\" class=\"data row11 col6\" >0.6797</td>\n",
              "      <td id=\"T_e3980_row11_col7\" class=\"data row11 col7\" >0.7239</td>\n",
              "      <td id=\"T_e3980_row11_col8\" class=\"data row11 col8\" >0.4510</td>\n",
              "    </tr>\n",
              "    <tr>\n",
              "      <th id=\"T_e3980_level0_row12\" class=\"row_heading level0 row12\" >knn</th>\n",
              "      <td id=\"T_e3980_row12_col0\" class=\"data row12 col0\" >K Neighbors Classifier</td>\n",
              "      <td id=\"T_e3980_row12_col1\" class=\"data row12 col1\" >0.6357</td>\n",
              "      <td id=\"T_e3980_row12_col2\" class=\"data row12 col2\" >0.8813</td>\n",
              "      <td id=\"T_e3980_row12_col3\" class=\"data row12 col3\" >0.6357</td>\n",
              "      <td id=\"T_e3980_row12_col4\" class=\"data row12 col4\" >0.5830</td>\n",
              "      <td id=\"T_e3980_row12_col5\" class=\"data row12 col5\" >0.5936</td>\n",
              "      <td id=\"T_e3980_row12_col6\" class=\"data row12 col6\" >0.4720</td>\n",
              "      <td id=\"T_e3980_row12_col7\" class=\"data row12 col7\" >0.4921</td>\n",
              "      <td id=\"T_e3980_row12_col8\" class=\"data row12 col8\" >0.6070</td>\n",
              "    </tr>\n",
              "    <tr>\n",
              "      <th id=\"T_e3980_level0_row13\" class=\"row_heading level0 row13\" >svm</th>\n",
              "      <td id=\"T_e3980_row13_col0\" class=\"data row13 col0\" >SVM - Linear Kernel</td>\n",
              "      <td id=\"T_e3980_row13_col1\" class=\"data row13 col1\" >0.4857</td>\n",
              "      <td id=\"T_e3980_row13_col2\" class=\"data row13 col2\" >0.0000</td>\n",
              "      <td id=\"T_e3980_row13_col3\" class=\"data row13 col3\" >0.4857</td>\n",
              "      <td id=\"T_e3980_row13_col4\" class=\"data row13 col4\" >0.4035</td>\n",
              "      <td id=\"T_e3980_row13_col5\" class=\"data row13 col5\" >0.3969</td>\n",
              "      <td id=\"T_e3980_row13_col6\" class=\"data row13 col6\" >0.2024</td>\n",
              "      <td id=\"T_e3980_row13_col7\" class=\"data row13 col7\" >0.2478</td>\n",
              "      <td id=\"T_e3980_row13_col8\" class=\"data row13 col8\" >0.1830</td>\n",
              "    </tr>\n",
              "    <tr>\n",
              "      <th id=\"T_e3980_level0_row14\" class=\"row_heading level0 row14\" >dummy</th>\n",
              "      <td id=\"T_e3980_row14_col0\" class=\"data row14 col0\" >Dummy Classifier</td>\n",
              "      <td id=\"T_e3980_row14_col1\" class=\"data row14 col1\" >0.4571</td>\n",
              "      <td id=\"T_e3980_row14_col2\" class=\"data row14 col2\" >0.5000</td>\n",
              "      <td id=\"T_e3980_row14_col3\" class=\"data row14 col3\" >0.4571</td>\n",
              "      <td id=\"T_e3980_row14_col4\" class=\"data row14 col4\" >0.2102</td>\n",
              "      <td id=\"T_e3980_row14_col5\" class=\"data row14 col5\" >0.2876</td>\n",
              "      <td id=\"T_e3980_row14_col6\" class=\"data row14 col6\" >0.0000</td>\n",
              "      <td id=\"T_e3980_row14_col7\" class=\"data row14 col7\" >0.0000</td>\n",
              "      <td id=\"T_e3980_row14_col8\" class=\"data row14 col8\" >0.2380</td>\n",
              "    </tr>\n",
              "    <tr>\n",
              "      <th id=\"T_e3980_level0_row15\" class=\"row_heading level0 row15\" >qda</th>\n",
              "      <td id=\"T_e3980_row15_col0\" class=\"data row15 col0\" >Quadratic Discriminant Analysis</td>\n",
              "      <td id=\"T_e3980_row15_col1\" class=\"data row15 col1\" >0.0786</td>\n",
              "      <td id=\"T_e3980_row15_col2\" class=\"data row15 col2\" >0.0000</td>\n",
              "      <td id=\"T_e3980_row15_col3\" class=\"data row15 col3\" >0.0786</td>\n",
              "      <td id=\"T_e3980_row15_col4\" class=\"data row15 col4\" >0.0066</td>\n",
              "      <td id=\"T_e3980_row15_col5\" class=\"data row15 col5\" >0.0121</td>\n",
              "      <td id=\"T_e3980_row15_col6\" class=\"data row15 col6\" >0.0000</td>\n",
              "      <td id=\"T_e3980_row15_col7\" class=\"data row15 col7\" >0.0000</td>\n",
              "      <td id=\"T_e3980_row15_col8\" class=\"data row15 col8\" >0.4370</td>\n",
              "    </tr>\n",
              "  </tbody>\n",
              "</table>\n"
            ]
          },
          "metadata": {}
        },
        {
          "output_type": "display_data",
          "data": {
            "text/plain": [
              "Processing:   0%|          | 0/69 [00:00<?, ?it/s]"
            ],
            "application/vnd.jupyter.widget-view+json": {
              "version_major": 2,
              "version_minor": 0,
              "model_id": "2e357b4efc104ee1a20669d63ee15ec2"
            }
          },
          "metadata": {
            "application/vnd.jupyter.widget-view+json": {
              "colab": {
                "custom_widget_manager": {
                  "url": "https://ssl.gstatic.com/colaboratory-static/widgets/colab-cdn-widget-manager/b3e629b1971e1542/manager.min.js"
                }
              }
            }
          }
        },
        {
          "output_type": "display_data",
          "data": {
            "text/plain": [
              "<IPython.core.display.HTML object>"
            ],
            "text/html": []
          },
          "metadata": {}
        }
      ]
    },
    {
      "cell_type": "markdown",
      "source": [
        "## **Analyzing the best Model**"
      ],
      "metadata": {
        "id": "7k5_6ktYdF-C"
      }
    },
    {
      "cell_type": "code",
      "source": [
        "plot_model(drug, plot = 'confusion_matrix')"
      ],
      "metadata": {
        "colab": {
          "base_uri": "https://localhost:8080/",
          "height": 551
        },
        "id": "rRZtKXeDdjaq",
        "outputId": "bd7bd496-def2-4647-eecc-b3304b79dd89"
      },
      "execution_count": 12,
      "outputs": [
        {
          "output_type": "display_data",
          "data": {
            "text/plain": [
              "<IPython.core.display.HTML object>"
            ],
            "text/html": []
          },
          "metadata": {}
        },
        {
          "output_type": "display_data",
          "data": {
            "text/plain": [
              "<Figure size 800x550 with 1 Axes>"
            ],
            "image/png": "[encoded data removed]"
          },
          "metadata": {}
        }
      ]
    },
    {
      "cell_type": "code",
      "source": [
        "plot_model(drug, plot = 'feature')"
      ],
      "metadata": {
        "colab": {
          "base_uri": "https://localhost:8080/",
          "height": 485
        },
        "id": "lDxYmYbXd_HO",
        "outputId": "6d98c2e1-02f2-48ef-81bd-7ef924b461c9"
      },
      "execution_count": 13,
      "outputs": [
        {
          "output_type": "display_data",
          "data": {
            "text/plain": [
              "<IPython.core.display.HTML object>"
            ],
            "text/html": []
          },
          "metadata": {}
        },
        {
          "output_type": "display_data",
          "data": {
            "text/plain": [
              "<Figure size 800x500 with 1 Axes>"
            ],
            "image/png": "[encoded data removed]"
          },
          "metadata": {}
        }
      ]
    },
    {
      "cell_type": "code",
      "source": [
        "plot_model(drug, plot = 'auc')"
      ],
      "metadata": {
        "colab": {
          "base_uri": "https://localhost:8080/",
          "height": 524
        },
        "id": "A8OlU61CeH8j",
        "outputId": "cf7ae925-c91a-4dab-c5d7-fa82bc3e8f91"
      },
      "execution_count": 14,
      "outputs": [
        {
          "output_type": "display_data",
          "data": {
            "text/plain": [
              "<IPython.core.display.HTML object>"
            ],
            "text/html": []
          },
          "metadata": {}
        },
        {
          "output_type": "display_data",
          "data": {
            "text/plain": [
              "<Figure size 800x550 with 1 Axes>"
            ],
            "image/png": "[encoded data removed]"
          },
          "metadata": {}
        }
      ]
    },
    {
      "cell_type": "code",
      "source": [
        "evaluate_model(drug)"
      ],
      "metadata": {
        "colab": {
          "base_uri": "https://localhost:8080/",
          "height": 200,
          "referenced_widgets": [
            "f6941498fe444e02bee5e0a6351e2fe8",
            "c79a018d09714da584ecb097e4b7c111",
            "584b5dd7613e409b92b93e0fc48d2ac9",
            "ee2712f485ea49d59b32a1be9e2257e8",
            "14ddd442e7b243c5a3c20b15e96d1748",
            "e44590e530004d20acbca77a10d581f3",
            "3545e1b75a9249f69bee062e4b587571"
          ]
        },
        "id": "ldKcau_3eQ8w",
        "outputId": "f5146a88-3905-43d6-9cff-6eaba1e67ec1"
      },
      "execution_count": 15,
      "outputs": [
        {
          "output_type": "display_data",
          "data": {
            "text/plain": [
              "interactive(children=(ToggleButtons(description='Plot Type:', icons=('',), options=(('Pipeline Plot', 'pipelin…"
            ],
            "application/vnd.jupyter.widget-view+json": {
              "version_major": 2,
              "version_minor": 0,
              "model_id": "f6941498fe444e02bee5e0a6351e2fe8"
            }
          },
          "metadata": {
            "application/vnd.jupyter.widget-view+json": {
              "colab": {
                "custom_widget_manager": {
                  "url": "https://ssl.gstatic.com/colaboratory-static/widgets/colab-cdn-widget-manager/b3e629b1971e1542/manager.min.js"
                }
              }
            }
          }
        }
      ]
    },
    {
      "cell_type": "markdown",
      "source": [
        "## **Prediction**"
      ],
      "metadata": {
        "id": "ut4rx718ehuO"
      }
    },
    {
      "cell_type": "code",
      "source": [
        "Drug_prediction = predict_model(drug)"
      ],
      "metadata": {
        "colab": {
          "base_uri": "https://localhost:8080/",
          "height": 81
        },
        "id": "SkHCi80feqNQ",
        "outputId": "a06ecba4-a94f-4a3f-8d6c-aea119195461"
      },
      "execution_count": 16,
      "outputs": [
        {
          "output_type": "display_data",
          "data": {
            "text/plain": [
              "<pandas.io.formats.style.Styler at 0x7981e206b940>"
            ],
            "text/html": [
              "<style type=\"text/css\">\n",
              "</style>\n",
              "<table id=\"T_5ab6a\" class=\"dataframe\">\n",
              "  <thead>\n",
              "    <tr>\n",
              "      <th class=\"blank level0\" >&nbsp;</th>\n",
              "      <th id=\"T_5ab6a_level0_col0\" class=\"col_heading level0 col0\" >Model</th>\n",
              "      <th id=\"T_5ab6a_level0_col1\" class=\"col_heading level0 col1\" >Accuracy</th>\n",
              "      <th id=\"T_5ab6a_level0_col2\" class=\"col_heading level0 col2\" >AUC</th>\n",
              "      <th id=\"T_5ab6a_level0_col3\" class=\"col_heading level0 col3\" >Recall</th>\n",
              "      <th id=\"T_5ab6a_level0_col4\" class=\"col_heading level0 col4\" >Prec.</th>\n",
              "      <th id=\"T_5ab6a_level0_col5\" class=\"col_heading level0 col5\" >F1</th>\n",
              "      <th id=\"T_5ab6a_level0_col6\" class=\"col_heading level0 col6\" >Kappa</th>\n",
              "      <th id=\"T_5ab6a_level0_col7\" class=\"col_heading level0 col7\" >MCC</th>\n",
              "    </tr>\n",
              "  </thead>\n",
              "  <tbody>\n",
              "    <tr>\n",
              "      <th id=\"T_5ab6a_level0_row0\" class=\"row_heading level0 row0\" >0</th>\n",
              "      <td id=\"T_5ab6a_row0_col0\" class=\"data row0 col0\" >Decision Tree Classifier</td>\n",
              "      <td id=\"T_5ab6a_row0_col1\" class=\"data row0 col1\" >0.9833</td>\n",
              "      <td id=\"T_5ab6a_row0_col2\" class=\"data row0 col2\" >0.9848</td>\n",
              "      <td id=\"T_5ab6a_row0_col3\" class=\"data row0 col3\" >0.9833</td>\n",
              "      <td id=\"T_5ab6a_row0_col4\" class=\"data row0 col4\" >0.9839</td>\n",
              "      <td id=\"T_5ab6a_row0_col5\" class=\"data row0 col5\" >0.9832</td>\n",
              "      <td id=\"T_5ab6a_row0_col6\" class=\"data row0 col6\" >0.9760</td>\n",
              "      <td id=\"T_5ab6a_row0_col7\" class=\"data row0 col7\" >0.9764</td>\n",
              "    </tr>\n",
              "  </tbody>\n",
              "</table>\n"
            ]
          },
          "metadata": {}
        }
      ]
    },
    {
      "cell_type": "markdown",
      "source": [
        "## **Saving Model**"
      ],
      "metadata": {
        "id": "bkJ0adQWe40x"
      }
    },
    {
      "cell_type": "code",
      "source": [
        "save_model(Drug_prediction, 'Drug_Predictor')"
      ],
      "metadata": {
        "colab": {
          "base_uri": "https://localhost:8080/"
        },
        "id": "b9pFIhuhfBHE",
        "outputId": "a64f5d9b-2e29-4425-a170-b6bbefac467c"
      },
      "execution_count": 17,
      "outputs": [
        {
          "output_type": "stream",
          "name": "stdout",
          "text": [
            "Transformation Pipeline and Model Successfully Saved\n"
          ]
        },
        {
          "output_type": "execute_result",
          "data": {
            "text/plain": [
              "(Pipeline(memory=FastMemory(location=/tmp/joblib),\n",
              "          steps=[('label_encoding',\n",
              "                  TransformerWrapperWithInverse(exclude=None, include=None,\n",
              "                                                transformer=LabelEncoder())),\n",
              "                 ('numerical_imputer',\n",
              "                  TransformerWrapper(exclude=None, include=['Age', 'Na_to_K'],\n",
              "                                     transformer=SimpleImputer(add_indicator=False,\n",
              "                                                               copy=True,\n",
              "                                                               fill_value=None,\n",
              "                                                               keep_empty_features=False,\n",
              "                                                               missing_values...\n",
              "      prediction_score  \n",
              " 107               1.0  \n",
              " 154               1.0  \n",
              " 153               1.0  \n",
              " 181               1.0  \n",
              " 184               1.0  \n",
              " 56                1.0  \n",
              " 96                1.0  \n",
              " 193               1.0  \n",
              " 98                1.0  \n",
              " 25                1.0  \n",
              " 2                 1.0  \n",
              " 48                1.0  \n",
              " 68                1.0  \n",
              " 40                1.0  \n",
              " 106               1.0  \n",
              " 10                1.0  \n",
              " 19                1.0  \n",
              " 168               1.0  \n",
              " 195               1.0  \n",
              " 75                1.0  \n",
              " 157               1.0  \n",
              " 78                1.0  \n",
              " 162               1.0  \n",
              " 199               1.0  \n",
              " 185               1.0  \n",
              " 16                1.0  \n",
              " 135               1.0  \n",
              " 18                1.0  \n",
              " 147               1.0  \n",
              " 52                1.0  \n",
              " 188               1.0  \n",
              " 182               1.0  \n",
              " 15                1.0  \n",
              " 120               1.0  \n",
              " 12                1.0  \n",
              " 17                1.0  \n",
              " 192               1.0  \n",
              " 44                1.0  \n",
              " 30                1.0  \n",
              " 77                1.0  \n",
              " 164               1.0  \n",
              " 113               1.0  \n",
              " 65                1.0  \n",
              " 178               1.0  \n",
              " 31                1.0  \n",
              " 72                1.0  \n",
              " 112               1.0  \n",
              " 63                1.0  \n",
              " 109               1.0  \n",
              " 137               1.0  \n",
              " 187               1.0  \n",
              " 189               1.0  \n",
              " 108               1.0  \n",
              " 169               1.0  \n",
              " 37                1.0  \n",
              " 95                1.0  \n",
              " 41                1.0  \n",
              " 194               1.0  \n",
              " 142               1.0  \n",
              " 174               1.0  )],\n",
              "          verbose=False),\n",
              " 'Drug_Predictor.pkl')"
            ]
          },
          "metadata": {},
          "execution_count": 17
        }
      ]
    }
  ]
}