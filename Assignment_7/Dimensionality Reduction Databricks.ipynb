{
 "cells": [
  {
   "cell_type": "code",
   "execution_count": 0,
   "metadata": {
    "application/vnd.databricks.v1+cell": {
     "cellMetadata": {
      "byteLimit": 2048000,
      "rowLimit": 10000
     },
     "inputWidgets": {},
     "nuid": "54ee7f35-9bc4-419f-940f-9b55a08f4250",
     "showTitle": false,
     "title": ""
    }
   },
   "outputs": [
    {
     "output_type": "display_data",
     "data": {
      "text/html": [
       "<style scoped>\n",
       "  .table-result-container {\n",
       "    max-height: 300px;\n",
       "    overflow: auto;\n",
       "  }\n",
       "  table, th, td {\n",
       "    border: 1px solid black;\n",
       "    border-collapse: collapse;\n",
       "  }\n",
       "  th, td {\n",
       "    padding: 5px;\n",
       "  }\n",
       "  th {\n",
       "    text-align: left;\n",
       "  }\n",
       "</style><div class='table-result-container'><table class='table-result'><thead style='background-color: white'><tr><th>RI</th><th>Na</th><th>Mg</th><th>Al</th><th>Si</th><th>K</th><th>Ca</th><th>Ba</th><th>Fe</th><th>Type</th></tr></thead><tbody><tr><td>1.52101</td><td>13.64</td><td>4.49</td><td>1.1</td><td>71.78</td><td>0.06</td><td>8.75</td><td>0.0</td><td>0.0</td><td>1</td></tr><tr><td>1.51761</td><td>13.89</td><td>3.6</td><td>1.36</td><td>72.73</td><td>0.48</td><td>7.83</td><td>0.0</td><td>0.0</td><td>1</td></tr><tr><td>1.51618</td><td>13.53</td><td>3.55</td><td>1.54</td><td>72.99</td><td>0.39</td><td>7.78</td><td>0.0</td><td>0.0</td><td>1</td></tr><tr><td>1.51766</td><td>13.21</td><td>3.69</td><td>1.29</td><td>72.61</td><td>0.57</td><td>8.22</td><td>0.0</td><td>0.0</td><td>1</td></tr><tr><td>1.51742</td><td>13.27</td><td>3.62</td><td>1.24</td><td>73.08</td><td>0.55</td><td>8.07</td><td>0.0</td><td>0.0</td><td>1</td></tr></tbody></table></div>"
      ]
     },
     "metadata": {
      "application/vnd.databricks.v1+output": {
       "addedWidgets": {},
       "aggData": [],
       "aggError": "",
       "aggOverflow": false,
       "aggSchema": [],
       "aggSeriesLimitReached": false,
       "aggType": "",
       "arguments": {},
       "columnCustomDisplayInfos": {},
       "data": [
        [
         1.52101,
         13.64,
         4.49,
         1.1,
         71.78,
         0.06,
         8.75,
         0.0,
         0.0,
         1
        ],
        [
         1.51761,
         13.89,
         3.6,
         1.36,
         72.73,
         0.48,
         7.83,
         0.0,
         0.0,
         1
        ],
        [
         1.51618,
         13.53,
         3.55,
         1.54,
         72.99,
         0.39,
         7.78,
         0.0,
         0.0,
         1
        ],
        [
         1.51766,
         13.21,
         3.69,
         1.29,
         72.61,
         0.57,
         8.22,
         0.0,
         0.0,
         1
        ],
        [
         1.51742,
         13.27,
         3.62,
         1.24,
         73.08,
         0.55,
         8.07,
         0.0,
         0.0,
         1
        ]
       ],
       "datasetInfos": [],
       "dbfsResultPath": null,
       "isJsonSchema": true,
       "metadata": {},
       "overflow": false,
       "plotOptions": {
        "customPlotOptions": {},
        "displayType": "table",
        "pivotAggregation": null,
        "pivotColumns": null,
        "xColumns": null,
        "yColumns": null
       },
       "removedWidgets": [],
       "schema": [
        {
         "metadata": "{}",
         "name": "RI",
         "type": "\"double\""
        },
        {
         "metadata": "{}",
         "name": "Na",
         "type": "\"double\""
        },
        {
         "metadata": "{}",
         "name": "Mg",
         "type": "\"double\""
        },
        {
         "metadata": "{}",
         "name": "Al",
         "type": "\"double\""
        },
        {
         "metadata": "{}",
         "name": "Si",
         "type": "\"double\""
        },
        {
         "metadata": "{}",
         "name": "K",
         "type": "\"double\""
        },
        {
         "metadata": "{}",
         "name": "Ca",
         "type": "\"double\""
        },
        {
         "metadata": "{}",
         "name": "Ba",
         "type": "\"double\""
        },
        {
         "metadata": "{}",
         "name": "Fe",
         "type": "\"double\""
        },
        {
         "metadata": "{}",
         "name": "Type",
         "type": "\"long\""
        }
       ],
       "type": "table"
      }
     },
     "output_type": "display_data"
    }
   ],
   "source": [
    "file_path = 'dbfs:/user/hive/warehouse/glass'\n",
    "\n",
    "# Read the Delta table\n",
    "data = spark.read.format(\"delta\").load(file_path)\n",
    "\n",
    "# Show the first few rows of the DataFrame\n",
    "display(data.limit(5))"
   ]
  },
  {
   "cell_type": "code",
   "execution_count": 0,
   "metadata": {
    "application/vnd.databricks.v1+cell": {
     "cellMetadata": {
      "byteLimit": 2048000,
      "rowLimit": 10000
     },
     "inputWidgets": {},
     "nuid": "295455f7-c0dd-437f-a023-3840554e41e1",
     "showTitle": false,
     "title": ""
    }
   },
   "outputs": [],
   "source": [
    "from pyspark.ml.feature import VectorAssembler, StandardScaler\n",
    "from pyspark.ml import Pipeline\n",
    "\n",
    "# Columns that are features (assuming all columns except 'type' are features)\n",
    "feature_columns = [col for col in data.columns if col != 'Type']\n",
    "\n",
    "# Assemble features into a single vector\n",
    "assembler = VectorAssembler(inputCols=feature_columns, outputCol=\"features\")\n",
    "\n",
    "# Standardize the features\n",
    "scaler = StandardScaler(inputCol=\"features\", outputCol=\"scaledFeatures\")\n",
    "\n",
    "# Pipeline for transformations\n",
    "pipeline = Pipeline(stages=[assembler, scaler])\n",
    "pipeline_model = pipeline.fit(data)\n",
    "data_transformed = pipeline_model.transform(data)"
   ]
  },
  {
   "cell_type": "code",
   "execution_count": 0,
   "metadata": {
    "application/vnd.databricks.v1+cell": {
     "cellMetadata": {
      "byteLimit": 2048000,
      "rowLimit": 10000
     },
     "inputWidgets": {},
     "nuid": "a71915ac-d5c9-4079-9c89-feac7556e064",
     "showTitle": false,
     "title": ""
    }
   },
   "outputs": [],
   "source": [
    "from pyspark.ml.feature import PCA\n",
    "\n",
    "# Apply PCA\n",
    "pca = PCA(k=len(feature_columns), inputCol=\"scaledFeatures\", outputCol=\"pcaFeatures\")\n",
    "model = pca.fit(data_transformed)\n",
    "\n",
    "# Variance explained by each component\n",
    "variance = model.explainedVariance\n",
    "\n",
    "# Convert to Pandas for plotting\n",
    "import pandas as pd\n",
    "\n",
    "variance_df = pd.DataFrame({'Variance Explained': variance, \n",
    "                            'Principal Components': range(1, len(variance) + 1)})\n"
   ]
  },
  {
   "cell_type": "code",
   "execution_count": 0,
   "metadata": {
    "application/vnd.databricks.v1+cell": {
     "cellMetadata": {
      "byteLimit": 2048000,
      "rowLimit": 10000
     },
     "inputWidgets": {},
     "nuid": "48c30a7a-8524-4b45-8c6b-4c3331d641a0",
     "showTitle": false,
     "title": ""
    }
   },
   "outputs": [
    {
     "output_type": "display_data",
     "data": {
      "image/png": "[encoded data removed]",
      "text/plain": [
       "<Figure size 1000x600 with 1 Axes>"
      ]
     },
     "metadata": {},
     "output_type": "display_data"
    }
   ],
   "source": [
    "import matplotlib.pyplot as plt\n",
    "\n",
    "plt.figure(figsize=(10,6))\n",
    "plt.plot(variance_df['Principal Components'], variance_df['Variance Explained'], 'o-')\n",
    "plt.title('Elbow Plot for PCA')\n",
    "plt.xlabel('Number of Principal Components')\n",
    "plt.ylabel('Variance Explained')\n",
    "plt.grid(True)\n",
    "plt.show()"
   ]
  },
  {
   "cell_type": "code",
   "execution_count": 0,
   "metadata": {
    "application/vnd.databricks.v1+cell": {
     "cellMetadata": {
      "byteLimit": 2048000,
      "rowLimit": 10000
     },
     "inputWidgets": {},
     "nuid": "e88274f0-81f5-4d8f-914d-bf54195344ce",
     "showTitle": false,
     "title": ""
    }
   },
   "outputs": [
    {
     "output_type": "display_data",
     "data": {
      "text/html": [
       "<style scoped>\n",
       "  .table-result-container {\n",
       "    max-height: 300px;\n",
       "    overflow: auto;\n",
       "  }\n",
       "  table, th, td {\n",
       "    border: 1px solid black;\n",
       "    border-collapse: collapse;\n",
       "  }\n",
       "  th, td {\n",
       "    padding: 5px;\n",
       "  }\n",
       "  th {\n",
       "    text-align: left;\n",
       "  }\n",
       "</style><div class='table-result-container'><table class='table-result'><thead style='background-color: white'><tr><th>RI</th><th>Na</th><th>Mg</th><th>Al</th><th>Si</th><th>K</th><th>Ca</th><th>Ba</th><th>Fe</th><th>Type</th><th>features</th><th>scaledFeatures</th><th>optimalPcaFeatures</th></tr></thead><tbody><tr><td>1.52101</td><td>13.64</td><td>4.49</td><td>1.1</td><td>71.78</td><td>0.06</td><td>8.75</td><td>0.0</td><td>0.0</td><td>1</td><td>Map(vectorType -> dense, length -> 9, values -> List(1.52101, 13.64, 4.49, 1.1, 71.78, 0.06, 8.75, 0.0, 0.0))</td><td>Map(vectorType -> dense, length -> 9, values -> List(500.848945006586, 16.703331628353496, 3.112850513096934, 2.203218260299005, 92.67366821321163, 0.09199747038936874, 6.148317857629576, 0.0, 0.0))</td><td>Map(vectorType -> dense, length -> 7, values -> List(-249.93976669635072, -134.1383766311976, 4.603987798311683, 20.720870351366102, -34.24875825202115, 56.37963515391479, -60.76349455278448))</td></tr><tr><td>1.51761</td><td>13.89</td><td>3.6</td><td>1.36</td><td>72.73</td><td>0.48</td><td>7.83</td><td>0.0</td><td>0.0</td><td>1</td><td>Map(vectorType -> dense, length -> 9, values -> List(1.51761, 13.89, 3.6, 1.36, 72.73, 0.48, 7.83, 0.0, 0.0))</td><td>Map(vectorType -> dense, length -> 9, values -> List(499.72936892686107, 17.009477735911293, 2.4958266920153593, 2.723978940006043, 93.90019349605575, 0.73597976311495, 5.501866151455952, 0.0, 0.0))</td><td>Map(vectorType -> dense, length -> 7, values -> List(-248.21852569342155, -133.90861520937537, 4.788168467935411, 19.754467500538155, -34.25388110700692, 55.92453199104259, -61.13406780408929))</td></tr><tr><td>1.51618</td><td>13.53</td><td>3.55</td><td>1.54</td><td>72.99</td><td>0.39</td><td>7.78</td><td>0.0</td><td>0.0</td><td>1</td><td>Map(vectorType -> dense, length -> 9, values -> List(1.51618, 13.53, 3.55, 1.54, 72.99, 0.39, 7.78, 0.0, 0.0))</td><td>Map(vectorType -> dense, length -> 9, values -> List(499.2584883992121, 16.568627341028062, 2.4611624324040347, 3.084505564418607, 94.2358740997815, 0.5979835575308969, 5.466732906555212, 0.0, 0.0))</td><td>Map(vectorType -> dense, length -> 7, values -> List(-247.8533593379581, -133.73896479223282, 4.786371951511583, 19.20178538364161, -34.23436204939418, 56.16655499672181, -60.791511347501505))</td></tr><tr><td>1.51766</td><td>13.21</td><td>3.69</td><td>1.29</td><td>72.61</td><td>0.57</td><td>8.22</td><td>0.0</td><td>0.0</td><td>1</td><td>Map(vectorType -> dense, length -> 9, values -> List(1.51766, 13.21, 3.69, 1.29, 72.61, 0.57, 8.22, 0.0, 0.0))</td><td>Map(vectorType -> dense, length -> 9, values -> List(499.7458332809747, 16.17676032335408, 2.558222359315743, 2.583774141623379, 93.74526398664386, 0.8739759686990031, 5.775905461681728, 0.0, 0.0))</td><td>Map(vectorType -> dense, length -> 7, values -> List(-248.64956892866007, -133.70719780111645, 4.349613252685991, 19.41076510819242, -34.47259649311806, 56.32535699607462, -61.10579530583298))</td></tr><tr><td>1.51742</td><td>13.27</td><td>3.62</td><td>1.24</td><td>73.08</td><td>0.55</td><td>8.07</td><td>0.0</td><td>0.0</td><td>1</td><td>Map(vectorType -> dense, length -> 9, values -> List(1.51742, 13.27, 3.62, 1.24, 73.08, 0.55, 8.07, 0.0, 0.0))</td><td>Map(vectorType -> dense, length -> 9, values -> List(499.66680438122944, 16.25023538916795, 2.509692395859889, 2.483627857064333, 94.35207123184043, 0.8433101452358803, 5.670505726979506, 0.0, 0.0))</td><td>Map(vectorType -> dense, length -> 7, values -> List(-248.44104883183903, -133.5779291206289, 4.716706548602621, 19.064954193771058, -34.42849094861303, 56.33755621546928, -61.3163678082454))</td></tr></tbody></table></div>"
      ]
     },
     "metadata": {
      "application/vnd.databricks.v1+output": {
       "addedWidgets": {},
       "aggData": [],
       "aggError": "",
       "aggOverflow": false,
       "aggSchema": [],
       "aggSeriesLimitReached": false,
       "aggType": "",
       "arguments": {},
       "columnCustomDisplayInfos": {},
       "data": [
        [
         1.52101,
         13.64,
         4.49,
         1.1,
         71.78,
         0.06,
         8.75,
         0.0,
         0.0,
         1,
         {
          "length": 9,
          "values": [
           1.52101,
           13.64,
           4.49,
           1.1,
           71.78,
           0.06,
           8.75,
           0.0,
           0.0
          ],
          "vectorType": "dense"
         },
         {
          "length": 9,
          "values": [
           500.848945006586,
           16.703331628353496,
           3.112850513096934,
           2.203218260299005,
           92.67366821321163,
           0.09199747038936874,
           6.148317857629576,
           0.0,
           0.0
          ],
          "vectorType": "dense"
         },
         {
          "length": 7,
          "values": [
           -249.93976669635072,
           -134.1383766311976,
           4.603987798311683,
           20.720870351366102,
           -34.24875825202115,
           56.37963515391479,
           -60.76349455278448
          ],
          "vectorType": "dense"
         }
        ],
        [
         1.51761,
         13.89,
         3.6,
         1.36,
         72.73,
         0.48,
         7.83,
         0.0,
         0.0,
         1,
         {
          "length": 9,
          "values": [
           1.51761,
           13.89,
           3.6,
           1.36,
           72.73,
           0.48,
           7.83,
           0.0,
           0.0
          ],
          "vectorType": "dense"
         },
         {
          "length": 9,
          "values": [
           499.72936892686107,
           17.009477735911293,
           2.4958266920153593,
           2.723978940006043,
           93.90019349605575,
           0.73597976311495,
           5.501866151455952,
           0.0,
           0.0
          ],
          "vectorType": "dense"
         },
         {
          "length": 7,
          "values": [
           -248.21852569342155,
           -133.90861520937537,
           4.788168467935411,
           19.754467500538155,
           -34.25388110700692,
           55.92453199104259,
           -61.13406780408929
          ],
          "vectorType": "dense"
         }
        ],
        [
         1.51618,
         13.53,
         3.55,
         1.54,
         72.99,
         0.39,
         7.78,
         0.0,
         0.0,
         1,
         {
          "length": 9,
          "values": [
           1.51618,
           13.53,
           3.55,
           1.54,
           72.99,
           0.39,
           7.78,
           0.0,
           0.0
          ],
          "vectorType": "dense"
         },
         {
          "length": 9,
          "values": [
           499.2584883992121,
           16.568627341028062,
           2.4611624324040347,
           3.084505564418607,
           94.2358740997815,
           0.5979835575308969,
           5.466732906555212,
           0.0,
           0.0
          ],
          "vectorType": "dense"
         },
         {
          "length": 7,
          "values": [
           -247.8533593379581,
           -133.73896479223282,
           4.786371951511583,
           19.20178538364161,
           -34.23436204939418,
           56.16655499672181,
           -60.791511347501505
          ],
          "vectorType": "dense"
         }
        ],
        [
         1.51766,
         13.21,
         3.69,
         1.29,
         72.61,
         0.57,
         8.22,
         0.0,
         0.0,
         1,
         {
          "length": 9,
          "values": [
           1.51766,
           13.21,
           3.69,
           1.29,
           72.61,
           0.57,
           8.22,
           0.0,
           0.0
          ],
          "vectorType": "dense"
         },
         {
          "length": 9,
          "values": [
           499.7458332809747,
           16.17676032335408,
           2.558222359315743,
           2.583774141623379,
           93.74526398664386,
           0.8739759686990031,
           5.775905461681728,
           0.0,
           0.0
          ],
          "vectorType": "dense"
         },
         {
          "length": 7,
          "values": [
           -248.64956892866007,
           -133.70719780111645,
           4.349613252685991,
           19.41076510819242,
           -34.47259649311806,
           56.32535699607462,
           -61.10579530583298
          ],
          "vectorType": "dense"
         }
        ],
        [
         1.51742,
         13.27,
         3.62,
         1.24,
         73.08,
         0.55,
         8.07,
         0.0,
         0.0,
         1,
         {
          "length": 9,
          "values": [
           1.51742,
           13.27,
           3.62,
           1.24,
           73.08,
           0.55,
           8.07,
           0.0,
           0.0
          ],
          "vectorType": "dense"
         },
         {
          "length": 9,
          "values": [
           499.66680438122944,
           16.25023538916795,
           2.509692395859889,
           2.483627857064333,
           94.35207123184043,
           0.8433101452358803,
           5.670505726979506,
           0.0,
           0.0
          ],
          "vectorType": "dense"
         },
         {
          "length": 7,
          "values": [
           -248.44104883183903,
           -133.5779291206289,
           4.716706548602621,
           19.064954193771058,
           -34.42849094861303,
           56.33755621546928,
           -61.3163678082454
          ],
          "vectorType": "dense"
         }
        ]
       ],
       "datasetInfos": [],
       "dbfsResultPath": null,
       "isJsonSchema": true,
       "metadata": {},
       "overflow": false,
       "plotOptions": {
        "customPlotOptions": {},
        "displayType": "table",
        "pivotAggregation": null,
        "pivotColumns": null,
        "xColumns": null,
        "yColumns": null
       },
       "removedWidgets": [],
       "schema": [
        {
         "metadata": "{}",
         "name": "RI",
         "type": "\"double\""
        },
        {
         "metadata": "{}",
         "name": "Na",
         "type": "\"double\""
        },
        {
         "metadata": "{}",
         "name": "Mg",
         "type": "\"double\""
        },
        {
         "metadata": "{}",
         "name": "Al",
         "type": "\"double\""
        },
        {
         "metadata": "{}",
         "name": "Si",
         "type": "\"double\""
        },
        {
         "metadata": "{}",
         "name": "K",
         "type": "\"double\""
        },
        {
         "metadata": "{}",
         "name": "Ca",
         "type": "\"double\""
        },
        {
         "metadata": "{}",
         "name": "Ba",
         "type": "\"double\""
        },
        {
         "metadata": "{}",
         "name": "Fe",
         "type": "\"double\""
        },
        {
         "metadata": "{}",
         "name": "Type",
         "type": "\"long\""
        },
        {
         "metadata": "{\"ml_attr\":{\"attrs\":{\"numeric\":[{\"idx\":0,\"name\":\"RI\"},{\"idx\":1,\"name\":\"Na\"},{\"idx\":2,\"name\":\"Mg\"},{\"idx\":3,\"name\":\"Al\"},{\"idx\":4,\"name\":\"Si\"},{\"idx\":5,\"name\":\"K\"},{\"idx\":6,\"name\":\"Ca\"},{\"idx\":7,\"name\":\"Ba\"},{\"idx\":8,\"name\":\"Fe\"}]},\"num_attrs\":9}}",
         "name": "features",
         "type": "{\"type\":\"udt\",\"class\":\"org.apache.spark.ml.linalg.VectorUDT\",\"pyClass\":\"pyspark.ml.linalg.VectorUDT\",\"sqlType\":{\"type\":\"struct\",\"fields\":[{\"name\":\"type\",\"type\":\"byte\",\"nullable\":false,\"metadata\":{}},{\"name\":\"size\",\"type\":\"integer\",\"nullable\":true,\"metadata\":{}},{\"name\":\"indices\",\"type\":{\"type\":\"array\",\"elementType\":\"integer\",\"containsNull\":false},\"nullable\":true,\"metadata\":{}},{\"name\":\"values\",\"type\":{\"type\":\"array\",\"elementType\":\"double\",\"containsNull\":false},\"nullable\":true,\"metadata\":{}}]}}"
        },
        {
         "metadata": "{\"ml_attr\":{\"num_attrs\":9}}",
         "name": "scaledFeatures",
         "type": "{\"type\":\"udt\",\"class\":\"org.apache.spark.ml.linalg.VectorUDT\",\"pyClass\":\"pyspark.ml.linalg.VectorUDT\",\"sqlType\":{\"type\":\"struct\",\"fields\":[{\"name\":\"type\",\"type\":\"byte\",\"nullable\":false,\"metadata\":{}},{\"name\":\"size\",\"type\":\"integer\",\"nullable\":true,\"metadata\":{}},{\"name\":\"indices\",\"type\":{\"type\":\"array\",\"elementType\":\"integer\",\"containsNull\":false},\"nullable\":true,\"metadata\":{}},{\"name\":\"values\",\"type\":{\"type\":\"array\",\"elementType\":\"double\",\"containsNull\":false},\"nullable\":true,\"metadata\":{}}]}}"
        },
        {
         "metadata": "{\"ml_attr\":{\"num_attrs\":7}}",
         "name": "optimalPcaFeatures",
         "type": "{\"type\":\"udt\",\"class\":\"org.apache.spark.ml.linalg.VectorUDT\",\"pyClass\":\"pyspark.ml.linalg.VectorUDT\",\"sqlType\":{\"type\":\"struct\",\"fields\":[{\"name\":\"type\",\"type\":\"byte\",\"nullable\":false,\"metadata\":{}},{\"name\":\"size\",\"type\":\"integer\",\"nullable\":true,\"metadata\":{}},{\"name\":\"indices\",\"type\":{\"type\":\"array\",\"elementType\":\"integer\",\"containsNull\":false},\"nullable\":true,\"metadata\":{}},{\"name\":\"values\",\"type\":{\"type\":\"array\",\"elementType\":\"double\",\"containsNull\":false},\"nullable\":true,\"metadata\":{}}]}}"
        }
       ],
       "type": "table"
      }
     },
     "output_type": "display_data"
    }
   ],
   "source": [
    "n_components = 7\n",
    "\n",
    "# Re-apply PCA with the optimal number of components\n",
    "optimal_pca = PCA(k=n_components, inputCol=\"scaledFeatures\", outputCol=\"optimalPcaFeatures\")\n",
    "optimal_model = optimal_pca.fit(data_transformed)\n",
    "data_pca = optimal_model.transform(data_transformed)\n",
    "\n",
    "# Show the result\n",
    "display(data_pca.limit(5))"
   ]
  },
  {
   "cell_type": "code",
   "execution_count": 0,
   "metadata": {
    "application/vnd.databricks.v1+cell": {
     "cellMetadata": {
      "byteLimit": 2048000,
      "rowLimit": 10000
     },
     "inputWidgets": {},
     "nuid": "4a2fcc83-97b8-45c6-896b-c7ec2e067cd8",
     "showTitle": false,
     "title": ""
    }
   },
   "outputs": [],
   "source": [
    "from pyspark.sql.functions import col\n",
    "\n",
    "# Assuming 'type' is your target variable and 'optimalPcaFeatures' is the output of PCA\n",
    "data_for_classification = data_pca.select(col(\"optimalPcaFeatures\"), col(\"type\"))\n",
    "\n",
    "# Flatten the PCA features for use in classification algorithms\n",
    "def extract(row):\n",
    "    return (row.type, ) + tuple(row.optimalPcaFeatures.toArray().tolist())\n",
    "\n",
    "data_extracted = data_for_classification.rdd.map(extract).toDF([\"type\"] + [\"PC\" + str(i) for i in range(1, n_components + 1)])"
   ]
  },
  {
   "cell_type": "code",
   "execution_count": 0,
   "metadata": {
    "application/vnd.databricks.v1+cell": {
     "cellMetadata": {
      "byteLimit": 2048000,
      "rowLimit": 10000
     },
     "inputWidgets": {},
     "nuid": "2c34c235-de7a-4295-bee5-bf37a2831dee",
     "showTitle": false,
     "title": ""
    }
   },
   "outputs": [
    {
     "output_type": "display_data",
     "data": {
      "text/html": [
       "<style scoped>\n",
       "  .table-result-container {\n",
       "    max-height: 300px;\n",
       "    overflow: auto;\n",
       "  }\n",
       "  table, th, td {\n",
       "    border: 1px solid black;\n",
       "    border-collapse: collapse;\n",
       "  }\n",
       "  th, td {\n",
       "    padding: 5px;\n",
       "  }\n",
       "  th {\n",
       "    text-align: left;\n",
       "  }\n",
       "</style><div class='table-result-container'><table class='table-result'><thead style='background-color: white'><tr><th>type</th><th>PC1</th><th>PC2</th><th>PC3</th><th>PC4</th><th>PC5</th><th>PC6</th><th>PC7</th></tr></thead><tbody><tr><td>1</td><td>-249.93976669635072</td><td>-134.1383766311976</td><td>4.603987798311683</td><td>20.720870351366102</td><td>-34.24875825202115</td><td>56.37963515391479</td><td>-60.76349455278448</td></tr><tr><td>1</td><td>-248.21852569342155</td><td>-133.90861520937537</td><td>4.788168467935411</td><td>19.754467500538155</td><td>-34.25388110700692</td><td>55.92453199104259</td><td>-61.13406780408929</td></tr><tr><td>1</td><td>-247.8533593379581</td><td>-133.73896479223282</td><td>4.786371951511583</td><td>19.20178538364161</td><td>-34.23436204939418</td><td>56.16655499672181</td><td>-60.791511347501505</td></tr><tr><td>1</td><td>-248.64956892866007</td><td>-133.70719780111645</td><td>4.349613252685991</td><td>19.41076510819242</td><td>-34.47259649311806</td><td>56.32535699607462</td><td>-61.10579530583298</td></tr><tr><td>1</td><td>-248.44104883183903</td><td>-133.5779291206289</td><td>4.716706548602621</td><td>19.064954193771058</td><td>-34.42849094861303</td><td>56.33755621546928</td><td>-61.3163678082454</td></tr></tbody></table></div>"
      ]
     },
     "metadata": {
      "application/vnd.databricks.v1+output": {
       "addedWidgets": {},
       "aggData": [],
       "aggError": "",
       "aggOverflow": false,
       "aggSchema": [],
       "aggSeriesLimitReached": false,
       "aggType": "",
       "arguments": {},
       "columnCustomDisplayInfos": {},
       "data": [
        [
         1,
         -249.93976669635072,
         -134.1383766311976,
         4.603987798311683,
         20.720870351366102,
         -34.24875825202115,
         56.37963515391479,
         -60.76349455278448
        ],
        [
         1,
         -248.21852569342155,
         -133.90861520937537,
         4.788168467935411,
         19.754467500538155,
         -34.25388110700692,
         55.92453199104259,
         -61.13406780408929
        ],
        [
         1,
         -247.8533593379581,
         -133.73896479223282,
         4.786371951511583,
         19.20178538364161,
         -34.23436204939418,
         56.16655499672181,
         -60.791511347501505
        ],
        [
         1,
         -248.64956892866007,
         -133.70719780111645,
         4.349613252685991,
         19.41076510819242,
         -34.47259649311806,
         56.32535699607462,
         -61.10579530583298
        ],
        [
         1,
         -248.44104883183903,
         -133.5779291206289,
         4.716706548602621,
         19.064954193771058,
         -34.42849094861303,
         56.33755621546928,
         -61.3163678082454
        ]
       ],
       "datasetInfos": [],
       "dbfsResultPath": null,
       "isJsonSchema": true,
       "metadata": {},
       "overflow": false,
       "plotOptions": {
        "customPlotOptions": {},
        "displayType": "table",
        "pivotAggregation": null,
        "pivotColumns": null,
        "xColumns": null,
        "yColumns": null
       },
       "removedWidgets": [],
       "schema": [
        {
         "metadata": "{}",
         "name": "type",
         "type": "\"long\""
        },
        {
         "metadata": "{}",
         "name": "PC1",
         "type": "\"double\""
        },
        {
         "metadata": "{}",
         "name": "PC2",
         "type": "\"double\""
        },
        {
         "metadata": "{}",
         "name": "PC3",
         "type": "\"double\""
        },
        {
         "metadata": "{}",
         "name": "PC4",
         "type": "\"double\""
        },
        {
         "metadata": "{}",
         "name": "PC5",
         "type": "\"double\""
        },
        {
         "metadata": "{}",
         "name": "PC6",
         "type": "\"double\""
        },
        {
         "metadata": "{}",
         "name": "PC7",
         "type": "\"double\""
        }
       ],
       "type": "table"
      }
     },
     "output_type": "display_data"
    }
   ],
   "source": [
    "display(data_extracted.limit(5))"
   ]
  },
  {
   "cell_type": "code",
   "execution_count": 0,
   "metadata": {
    "application/vnd.databricks.v1+cell": {
     "cellMetadata": {
      "byteLimit": 2048000,
      "rowLimit": 10000
     },
     "inputWidgets": {},
     "nuid": "2170b705-757f-44dc-96aa-3e8f6c52c360",
     "showTitle": false,
     "title": ""
    }
   },
   "outputs": [
    {
     "output_type": "stream",
     "name": "stdout",
     "output_type": "stream",
     "text": [
      "Test Accuracy = 0.6666666666666666\n"
     ]
    }
   ],
   "source": [
    "from pyspark.ml.feature import StringIndexer, VectorAssembler\n",
    "from pyspark.ml.classification import RandomForestClassifier\n",
    "from pyspark.ml import Pipeline\n",
    "from pyspark.ml.evaluation import MulticlassClassificationEvaluator\n",
    "\n",
    "# Assuming 'type' is your target variable\n",
    "# Convert string labels to numeric indices\n",
    "label_indexer = StringIndexer(inputCol=\"type\", outputCol=\"label\").fit(data_extracted)\n",
    "\n",
    "# Create a VectorAssembler to combine the principal component columns into a single vector column\n",
    "pca_columns = [\"PC\" + str(i) for i in range(1, n_components + 1)]  # Adjust n_components to match your PCA component count\n",
    "assembler = VectorAssembler(inputCols=pca_columns, outputCol=\"features\")\n",
    "\n",
    "# Define the classifier\n",
    "rf = RandomForestClassifier(labelCol=\"label\", featuresCol=\"features\")\n",
    "\n",
    "# Create a pipeline\n",
    "pipeline = Pipeline(stages=[label_indexer, assembler, rf])\n",
    "\n",
    "# Split the data into training and test sets\n",
    "train_data, test_data = data_extracted.randomSplit([0.7, 0.3])\n",
    "\n",
    "# Train the model\n",
    "model = pipeline.fit(train_data)\n",
    "\n",
    "# Make predictions\n",
    "predictions = model.transform(test_data)\n",
    "\n",
    "# Evaluate the model\n",
    "evaluator = MulticlassClassificationEvaluator(labelCol=\"label\", predictionCol=\"prediction\", metricName=\"accuracy\")\n",
    "accuracy = evaluator.evaluate(predictions)\n",
    "print(f\"Test Accuracy = {accuracy}\")"
   ]
  }
 ],
 "metadata": {
  "application/vnd.databricks.v1+notebook": {
   "dashboards": [],
   "language": "python",
   "notebookMetadata": {
    "pythonIndentUnit": 4
   },
   "notebookName": "Dimensionality Reduction Databricks",
   "widgets": {}
  }
 },
 "nbformat": 4,
 "nbformat_minor": 0
}
